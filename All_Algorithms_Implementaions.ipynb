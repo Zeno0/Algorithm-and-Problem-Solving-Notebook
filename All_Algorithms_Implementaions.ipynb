{
  "nbformat": 4,
  "nbformat_minor": 0,
  "metadata": {
    "colab": {
      "provenance": [],
      "toc_visible": true,
      "collapsed_sections": [
        "WmpU2RapuZok",
        "UyoqghXJVuwc",
        "jVHcHGS3aRNs",
        "q4yGZuMeD9ZP",
        "LlmnwTts9fPf"
      ]
    },
    "kernelspec": {
      "name": "python3",
      "display_name": "Python 3"
    },
    "language_info": {
      "name": "python"
    }
  },
  "cells": [
    {
      "cell_type": "markdown",
      "source": [
        "### Sum of N number"
      ],
      "metadata": {
        "id": "b5h6hTiwUtrC"
      }
    },
    {
      "cell_type": "code",
      "execution_count": 1,
      "metadata": {
        "id": "JdhEajQs55ZX"
      },
      "outputs": [],
      "source": [
        "def sum(x):\n",
        "  if x == 0:\n",
        "    return 0\n",
        "  # print(x)\n",
        "  return x + sum(x-1)"
      ]
    },
    {
      "cell_type": "code",
      "source": [
        "sum(10)"
      ],
      "metadata": {
        "colab": {
          "base_uri": "https://localhost:8080/"
        },
        "id": "at-Ll5496YV_",
        "outputId": "696b2716-2b06-4c5e-8ccf-5d0da048e67e"
      },
      "execution_count": 2,
      "outputs": [
        {
          "output_type": "execute_result",
          "data": {
            "text/plain": [
              "55"
            ]
          },
          "metadata": {},
          "execution_count": 2
        }
      ]
    },
    {
      "cell_type": "markdown",
      "source": [
        "### Factorial"
      ],
      "metadata": {
        "id": "GUhK7xGnU1Mg"
      }
    },
    {
      "cell_type": "code",
      "source": [
        "def fact(x):\n",
        "  if x == 1:\n",
        "    return 1\n",
        "  return x * fact(x-1)\n",
        "\n",
        "def fact_with_not_extra_function_call(x,res):\n",
        "  if x == 1:\n",
        "    return res\n",
        "  return fact_with_not_extra_function_call(x-1,res*x)"
      ],
      "metadata": {
        "id": "fixBpMYJ6os0"
      },
      "execution_count": 3,
      "outputs": []
    },
    {
      "cell_type": "code",
      "source": [
        "fact(5) , fact_with_not_extra_function_call(5,1)"
      ],
      "metadata": {
        "colab": {
          "base_uri": "https://localhost:8080/"
        },
        "id": "LNubiwakU9U5",
        "outputId": "418ed1fc-730b-4202-b382-445ce5cbccc8"
      },
      "execution_count": 4,
      "outputs": [
        {
          "output_type": "execute_result",
          "data": {
            "text/plain": [
              "(120, 120)"
            ]
          },
          "metadata": {},
          "execution_count": 4
        }
      ]
    },
    {
      "cell_type": "markdown",
      "source": [
        "### Fibonacci series\n"
      ],
      "metadata": {
        "id": "-jTHe5Y1XYr-"
      }
    },
    {
      "cell_type": "code",
      "source": [
        "def fib(x):\n",
        "  if x == 1:\n",
        "    # print(1)\n",
        "    return 1\n",
        "  if x == 0:\n",
        "    # print(0)\n",
        "    return 1\n",
        "  # print(fib(x-1) + fib(x-2))\n",
        "  res = fib(x-1) + fib(x-2)\n",
        "  return res\n"
      ],
      "metadata": {
        "id": "_twsZ5TIU_KU"
      },
      "execution_count": 5,
      "outputs": []
    },
    {
      "cell_type": "code",
      "source": [
        "for i in range(9):\n",
        "  print(fib(i))"
      ],
      "metadata": {
        "colab": {
          "base_uri": "https://localhost:8080/"
        },
        "id": "XGnzlNtgXXP-",
        "outputId": "a9204963-b711-4478-d252-3dbf23e2b712"
      },
      "execution_count": 6,
      "outputs": [
        {
          "output_type": "stream",
          "name": "stdout",
          "text": [
            "1\n",
            "1\n",
            "2\n",
            "3\n",
            "5\n",
            "8\n",
            "13\n",
            "21\n",
            "34\n"
          ]
        }
      ]
    },
    {
      "cell_type": "code",
      "source": [
        "fib(8)"
      ],
      "metadata": {
        "colab": {
          "base_uri": "https://localhost:8080/"
        },
        "id": "UM0p5u4V8qrn",
        "outputId": "43113853-631e-4990-8757-23e6d4adbf89"
      },
      "execution_count": 7,
      "outputs": [
        {
          "output_type": "execute_result",
          "data": {
            "text/plain": [
              "34"
            ]
          },
          "metadata": {},
          "execution_count": 7
        }
      ]
    },
    {
      "cell_type": "markdown",
      "source": [
        "### Tower of hanoi"
      ],
      "metadata": {
        "id": "18OikPoScZNO"
      }
    },
    {
      "cell_type": "code",
      "source": [
        "def tower_of_hanoi(n,src,dest,aux):\n",
        "  if n == 0:\n",
        "    return\n",
        "  tower_of_hanoi(n-1,src,aux,dest)\n",
        "  print('move', n, 'from ',src,dest)\n",
        "  tower_of_hanoi(n-1,aux,dest,src)"
      ],
      "metadata": {
        "id": "0Ig19O0bYkpZ"
      },
      "execution_count": 8,
      "outputs": []
    },
    {
      "cell_type": "code",
      "source": [
        "tower_of_hanoi(3,'A','C','B')"
      ],
      "metadata": {
        "colab": {
          "base_uri": "https://localhost:8080/"
        },
        "id": "ruXQ_f3VeP-V",
        "outputId": "68dd5e56-660b-4fdd-931f-6866de924344"
      },
      "execution_count": 9,
      "outputs": [
        {
          "output_type": "stream",
          "name": "stdout",
          "text": [
            "move 1 from  A C\n",
            "move 2 from  A B\n",
            "move 1 from  C B\n",
            "move 3 from  A C\n",
            "move 1 from  B A\n",
            "move 2 from  B C\n",
            "move 1 from  A C\n"
          ]
        }
      ]
    },
    {
      "cell_type": "markdown",
      "source": [
        "### Euclidean GCD"
      ],
      "metadata": {
        "id": "mZaip3o3gVR_"
      }
    },
    {
      "cell_type": "code",
      "source": [
        "def GCD(x,y):\n",
        "  if (x%y == 0):\n",
        "    return y\n",
        "  return GCD(y,x%y)"
      ],
      "metadata": {
        "id": "rInhRhceeTXg"
      },
      "execution_count": 10,
      "outputs": []
    },
    {
      "cell_type": "code",
      "source": [
        "GCD(24,16)"
      ],
      "metadata": {
        "colab": {
          "base_uri": "https://localhost:8080/"
        },
        "id": "AhQy8SKng1F9",
        "outputId": "290cbf24-be5e-4464-e01b-14fa28a2be27"
      },
      "execution_count": 11,
      "outputs": [
        {
          "output_type": "execute_result",
          "data": {
            "text/plain": [
              "8"
            ]
          },
          "metadata": {},
          "execution_count": 11
        }
      ]
    },
    {
      "cell_type": "markdown",
      "source": [
        "### Linear search and Binary search\n",
        "\n"
      ],
      "metadata": {
        "id": "lJUZpRKUhj-x"
      }
    },
    {
      "cell_type": "code",
      "source": [
        "def linear_search(arr,x):\n",
        "  for i in range(len(arr)):\n",
        "    if (arr[i] == x):\n",
        "      print('value found at index',i)\n",
        "      return i\n",
        "  print('value not found')\n",
        "  return -1"
      ],
      "metadata": {
        "id": "HS9atol6hAhV"
      },
      "execution_count": 12,
      "outputs": []
    },
    {
      "cell_type": "code",
      "source": [
        "arr = [1,2,3,4,5]\n",
        "linear_search(arr,6)"
      ],
      "metadata": {
        "colab": {
          "base_uri": "https://localhost:8080/"
        },
        "id": "W-iDyrovhrq6",
        "outputId": "0d3bb058-3121-4278-cd8a-9e8ea6fa818a"
      },
      "execution_count": 13,
      "outputs": [
        {
          "output_type": "stream",
          "name": "stdout",
          "text": [
            "value not found\n"
          ]
        },
        {
          "output_type": "execute_result",
          "data": {
            "text/plain": [
              "-1"
            ]
          },
          "metadata": {},
          "execution_count": 13
        }
      ]
    },
    {
      "cell_type": "code",
      "source": [
        "# array must be sorted\n",
        "def binary_search(arr,x):\n",
        "  l = 0\n",
        "  r = len(arr)-1\n",
        "  mid = (l+r)//2\n",
        "  while l <= r:\n",
        "    if (arr[mid] == x):\n",
        "      print('value found at index',mid)\n",
        "      return mid\n",
        "    elif (arr[mid] < x):\n",
        "      l = mid + 1\n",
        "    else:\n",
        "      r = mid - 1\n",
        "    mid = (l+r)//2\n",
        "  print('value not found')\n",
        "  return -1"
      ],
      "metadata": {
        "id": "0WbMkcoBhvw0"
      },
      "execution_count": 14,
      "outputs": []
    },
    {
      "cell_type": "code",
      "source": [
        "arr = [1,2,3,4,5,6,7,8,9,10]\n",
        "binary_search(arr,33)"
      ],
      "metadata": {
        "colab": {
          "base_uri": "https://localhost:8080/"
        },
        "id": "oyiaU6qBlUtW",
        "outputId": "2b56b3ed-aff6-4ee9-f1db-f0d6368e000c"
      },
      "execution_count": 15,
      "outputs": [
        {
          "output_type": "stream",
          "name": "stdout",
          "text": [
            "value not found\n"
          ]
        },
        {
          "output_type": "execute_result",
          "data": {
            "text/plain": [
              "-1"
            ]
          },
          "metadata": {},
          "execution_count": 15
        }
      ]
    },
    {
      "cell_type": "markdown",
      "source": [
        "### Selection algorithm"
      ],
      "metadata": {
        "id": "xUEmWBOEmWjO"
      }
    },
    {
      "cell_type": "code",
      "source": [],
      "metadata": {
        "id": "4T4gkpnelVm5"
      },
      "execution_count": 15,
      "outputs": []
    },
    {
      "cell_type": "markdown",
      "source": [
        "###**Backtracking**  - Nqueen\n"
      ],
      "metadata": {
        "id": "srr3Y3u2nzi4"
      }
    },
    {
      "cell_type": "code",
      "source": [
        "def setQueen(col):\n",
        "  # base case that means we found the solution\n",
        "  print_mat(chess_table)\n",
        "  print('\\n')\n",
        "  if(col == num_of_queen):\n",
        "    return True\n",
        "  # other cases\n",
        "  for row in range(num_of_queen):\n",
        "    if(isValid(row,col)):\n",
        "      chess_table[row][col] = 'Q'\n",
        "      if(setQueen(col+1)):\n",
        "        return True\n",
        "      # if not true then backtrack\n",
        "      chess_table[row][col] = '-'\n",
        "  return False"
      ],
      "metadata": {
        "id": "pcai40FJrnTg"
      },
      "execution_count": 16,
      "outputs": []
    },
    {
      "cell_type": "code",
      "source": [
        "def isValid(row,col):\n",
        "# checking horizontally queens presence\n",
        "  for i in range(col):\n",
        "    if(chess_table[row][i] == 'Q'):\n",
        "      return False\n",
        " # checking diagonally top left to right\n",
        "  for i,j in zip(range(row,-1,-1),range(col,-1,-1)):\n",
        "    if(chess_table[i][j] == 'Q'):\n",
        "      return False\n",
        " # checking diagonally top right to left\n",
        "  for i,j in zip(range(row,num_of_queen),range(col,-1,-1)):\n",
        "    if(chess_table[i][j] == 'Q'):\n",
        "      return False\n",
        "  return True\n"
      ],
      "metadata": {
        "id": "aNx0UxYQ2jMH"
      },
      "execution_count": 17,
      "outputs": []
    },
    {
      "cell_type": "code",
      "source": [
        "def print_mat(matrix):\n",
        "  for row in matrix:\n",
        "      for col in row:\n",
        "          print(col, end=\" \")\n",
        "      print()"
      ],
      "metadata": {
        "id": "WTjonq3dBqR4"
      },
      "execution_count": 18,
      "outputs": []
    },
    {
      "cell_type": "code",
      "source": [
        "def solve():\n",
        "  if setQueen(0):\n",
        "    print(\"Solution exist\")\n",
        "    return True\n",
        "  print(\"Solution does not exist\")\n",
        "  return False"
      ],
      "metadata": {
        "id": "NZEhV9bu6B06"
      },
      "execution_count": 19,
      "outputs": []
    },
    {
      "cell_type": "code",
      "source": [
        "chess_table = []\n",
        "num_of_queen = 10\n",
        "for i in range(num_of_queen):\n",
        "  chess_table.append(['-']*num_of_queen)\n"
      ],
      "metadata": {
        "id": "kiCLjiYAoAad"
      },
      "execution_count": 20,
      "outputs": []
    },
    {
      "cell_type": "code",
      "source": [
        "solve()"
      ],
      "metadata": {
        "colab": {
          "base_uri": "https://localhost:8080/"
        },
        "id": "Y6TWyBLmzSGt",
        "outputId": "484aff2b-66e4-45a4-81ba-853decba6339"
      },
      "execution_count": 21,
      "outputs": [
        {
          "output_type": "stream",
          "name": "stdout",
          "text": [
            "- - - - - - - - - - \n",
            "- - - - - - - - - - \n",
            "- - - - - - - - - - \n",
            "- - - - - - - - - - \n",
            "- - - - - - - - - - \n",
            "- - - - - - - - - - \n",
            "- - - - - - - - - - \n",
            "- - - - - - - - - - \n",
            "- - - - - - - - - - \n",
            "- - - - - - - - - - \n",
            "\n",
            "\n",
            "Q - - - - - - - - - \n",
            "- - - - - - - - - - \n",
            "- - - - - - - - - - \n",
            "- - - - - - - - - - \n",
            "- - - - - - - - - - \n",
            "- - - - - - - - - - \n",
            "- - - - - - - - - - \n",
            "- - - - - - - - - - \n",
            "- - - - - - - - - - \n",
            "- - - - - - - - - - \n",
            "\n",
            "\n",
            "Q - - - - - - - - - \n",
            "- - - - - - - - - - \n",
            "- Q - - - - - - - - \n",
            "- - - - - - - - - - \n",
            "- - - - - - - - - - \n",
            "- - - - - - - - - - \n",
            "- - - - - - - - - - \n",
            "- - - - - - - - - - \n",
            "- - - - - - - - - - \n",
            "- - - - - - - - - - \n",
            "\n",
            "\n",
            "Q - - - - - - - - - \n",
            "- - - - - - - - - - \n",
            "- Q - - - - - - - - \n",
            "- - - - - - - - - - \n",
            "- - Q - - - - - - - \n",
            "- - - - - - - - - - \n",
            "- - - - - - - - - - \n",
            "- - - - - - - - - - \n",
            "- - - - - - - - - - \n",
            "- - - - - - - - - - \n",
            "\n",
            "\n",
            "Q - - - - - - - - - \n",
            "- - - Q - - - - - - \n",
            "- Q - - - - - - - - \n",
            "- - - - - - - - - - \n",
            "- - Q - - - - - - - \n",
            "- - - - - - - - - - \n",
            "- - - - - - - - - - \n",
            "- - - - - - - - - - \n",
            "- - - - - - - - - - \n",
            "- - - - - - - - - - \n",
            "\n",
            "\n",
            "Q - - - - - - - - - \n",
            "- - - Q - - - - - - \n",
            "- Q - - - - - - - - \n",
            "- - - - Q - - - - - \n",
            "- - Q - - - - - - - \n",
            "- - - - - - - - - - \n",
            "- - - - - - - - - - \n",
            "- - - - - - - - - - \n",
            "- - - - - - - - - - \n",
            "- - - - - - - - - - \n",
            "\n",
            "\n",
            "Q - - - - - - - - - \n",
            "- - - Q - - - - - - \n",
            "- Q - - - - - - - - \n",
            "- - - - Q - - - - - \n",
            "- - Q - - - - - - - \n",
            "- - - - - - - - - - \n",
            "- - - - - - - - - - \n",
            "- - - - - - - - - - \n",
            "- - - - - Q - - - - \n",
            "- - - - - - - - - - \n",
            "\n",
            "\n",
            "Q - - - - - - - - - \n",
            "- - - Q - - - - - - \n",
            "- Q - - - - - - - - \n",
            "- - - - Q - - - - - \n",
            "- - Q - - - - - - - \n",
            "- - - - - - - - - - \n",
            "- - - - - - - - - - \n",
            "- - - - - - - - - - \n",
            "- - - - - - - - - - \n",
            "- - - - - Q - - - - \n",
            "\n",
            "\n",
            "Q - - - - - - - - - \n",
            "- - - Q - - - - - - \n",
            "- Q - - - - - - - - \n",
            "- - - - - - - - - - \n",
            "- - Q - - - - - - - \n",
            "- - - - - - - - - - \n",
            "- - - - - - - - - - \n",
            "- - - - Q - - - - - \n",
            "- - - - - - - - - - \n",
            "- - - - - - - - - - \n",
            "\n",
            "\n",
            "Q - - - - - - - - - \n",
            "- - - Q - - - - - - \n",
            "- Q - - - - - - - - \n",
            "- - - - - - - - - - \n",
            "- - Q - - - - - - - \n",
            "- - - - - - - - - - \n",
            "- - - - - - - - - - \n",
            "- - - - Q - - - - - \n",
            "- - - - - - - - - - \n",
            "- - - - - Q - - - - \n",
            "\n",
            "\n",
            "Q - - - - - - - - - \n",
            "- - - Q - - - - - - \n",
            "- Q - - - - - - - - \n",
            "- - - - - - Q - - - \n",
            "- - Q - - - - - - - \n",
            "- - - - - - - - - - \n",
            "- - - - - - - - - - \n",
            "- - - - Q - - - - - \n",
            "- - - - - - - - - - \n",
            "- - - - - Q - - - - \n",
            "\n",
            "\n",
            "Q - - - - - - - - - \n",
            "- - - Q - - - - - - \n",
            "- Q - - - - - - - - \n",
            "- - - - - - Q - - - \n",
            "- - Q - - - - - - - \n",
            "- - - - - - - - - - \n",
            "- - - - - - - Q - - \n",
            "- - - - Q - - - - - \n",
            "- - - - - - - - - - \n",
            "- - - - - Q - - - - \n",
            "\n",
            "\n",
            "Q - - - - - - - - - \n",
            "- - - Q - - - - - - \n",
            "- Q - - - - - - - - \n",
            "- - - - - - - - - - \n",
            "- - Q - - - - - - - \n",
            "- - - - - - - - - - \n",
            "- - - - - - - - - - \n",
            "- - - - - - - - - - \n",
            "- - - - Q - - - - - \n",
            "- - - - - - - - - - \n",
            "\n",
            "\n",
            "Q - - - - - - - - - \n",
            "- - - Q - - - - - - \n",
            "- Q - - - - - - - - \n",
            "- - - - - - - - - - \n",
            "- - Q - - - - - - - \n",
            "- - - - - - - - - - \n",
            "- - - - - - - - - - \n",
            "- - - - - - - - - - \n",
            "- - - - - - - - - - \n",
            "- - - - Q - - - - - \n",
            "\n",
            "\n",
            "Q - - - - - - - - - \n",
            "- - - - - - - - - - \n",
            "- Q - - - - - - - - \n",
            "- - - - - - - - - - \n",
            "- - Q - - - - - - - \n",
            "- - - - - - - - - - \n",
            "- - - Q - - - - - - \n",
            "- - - - - - - - - - \n",
            "- - - - - - - - - - \n",
            "- - - - - - - - - - \n",
            "\n",
            "\n",
            "Q - - - - - - - - - \n",
            "- - - - Q - - - - - \n",
            "- Q - - - - - - - - \n",
            "- - - - - - - - - - \n",
            "- - Q - - - - - - - \n",
            "- - - - - - - - - - \n",
            "- - - Q - - - - - - \n",
            "- - - - - - - - - - \n",
            "- - - - - - - - - - \n",
            "- - - - - - - - - - \n",
            "\n",
            "\n",
            "Q - - - - - - - - - \n",
            "- - - - Q - - - - - \n",
            "- Q - - - - - - - - \n",
            "- - - - - Q - - - - \n",
            "- - Q - - - - - - - \n",
            "- - - - - - - - - - \n",
            "- - - Q - - - - - - \n",
            "- - - - - - - - - - \n",
            "- - - - - - - - - - \n",
            "- - - - - - - - - - \n",
            "\n",
            "\n",
            "Q - - - - - - - - - \n",
            "- - - - Q - - - - - \n",
            "- Q - - - - - - - - \n",
            "- - - - - Q - - - - \n",
            "- - Q - - - - - - - \n",
            "- - - - - - Q - - - \n",
            "- - - Q - - - - - - \n",
            "- - - - - - - - - - \n",
            "- - - - - - - - - - \n",
            "- - - - - - - - - - \n",
            "\n",
            "\n",
            "Q - - - - - - - - - \n",
            "- - - - Q - - - - - \n",
            "- Q - - - - - - - - \n",
            "- - - - - - - - - - \n",
            "- - Q - - - - - - - \n",
            "- - - - - - - - - - \n",
            "- - - Q - - - - - - \n",
            "- - - - - - - - - - \n",
            "- - - - - - - - - - \n",
            "- - - - - Q - - - - \n",
            "\n",
            "\n",
            "Q - - - - - - - - - \n",
            "- - - - Q - - - - - \n",
            "- Q - - - - - - - - \n",
            "- - - - - - - - - - \n",
            "- - Q - - - - - - - \n",
            "- - - - - - Q - - - \n",
            "- - - Q - - - - - - \n",
            "- - - - - - - - - - \n",
            "- - - - - - - - - - \n",
            "- - - - - Q - - - - \n",
            "\n",
            "\n",
            "Q - - - - - - - - - \n",
            "- - - - Q - - - - - \n",
            "- Q - - - - - - - - \n",
            "- - - - - - - Q - - \n",
            "- - Q - - - - - - - \n",
            "- - - - - - Q - - - \n",
            "- - - Q - - - - - - \n",
            "- - - - - - - - - - \n",
            "- - - - - - - - - - \n",
            "- - - - - Q - - - - \n",
            "\n",
            "\n",
            "Q - - - - - - - - - \n",
            "- - - - - - - - - - \n",
            "- Q - - - - - - - - \n",
            "- - - - Q - - - - - \n",
            "- - Q - - - - - - - \n",
            "- - - - - - - - - - \n",
            "- - - Q - - - - - - \n",
            "- - - - - - - - - - \n",
            "- - - - - - - - - - \n",
            "- - - - - - - - - - \n",
            "\n",
            "\n",
            "Q - - - - - - - - - \n",
            "- - - - - - - - - - \n",
            "- Q - - - - - - - - \n",
            "- - - - Q - - - - - \n",
            "- - Q - - - - - - - \n",
            "- - - - - - - - - - \n",
            "- - - Q - - - - - - \n",
            "- - - - - - - - - - \n",
            "- - - - - - - - - - \n",
            "- - - - - Q - - - - \n",
            "\n",
            "\n",
            "Q - - - - - - - - - \n",
            "- - - - - - - - - - \n",
            "- Q - - - - - - - - \n",
            "- - - - - - - - - - \n",
            "- - Q - - - - - - - \n",
            "- - - - - - - - - - \n",
            "- - - Q - - - - - - \n",
            "- - - - - - - - - - \n",
            "- - - - Q - - - - - \n",
            "- - - - - - - - - - \n",
            "\n",
            "\n",
            "Q - - - - - - - - - \n",
            "- - - - - - - - - - \n",
            "- Q - - - - - - - - \n",
            "- - - - - Q - - - - \n",
            "- - Q - - - - - - - \n",
            "- - - - - - - - - - \n",
            "- - - Q - - - - - - \n",
            "- - - - - - - - - - \n",
            "- - - - Q - - - - - \n",
            "- - - - - - - - - - \n",
            "\n",
            "\n",
            "Q - - - - - - - - - \n",
            "- - - - - - Q - - - \n",
            "- Q - - - - - - - - \n",
            "- - - - - Q - - - - \n",
            "- - Q - - - - - - - \n",
            "- - - - - - - - - - \n",
            "- - - Q - - - - - - \n",
            "- - - - - - - - - - \n",
            "- - - - Q - - - - - \n",
            "- - - - - - - - - - \n",
            "\n",
            "\n",
            "Q - - - - - - - - - \n",
            "- - - - - - - - - - \n",
            "- Q - - - - - - - - \n",
            "- - - - - Q - - - - \n",
            "- - Q - - - - - - - \n",
            "- - - - - - Q - - - \n",
            "- - - Q - - - - - - \n",
            "- - - - - - - - - - \n",
            "- - - - Q - - - - - \n",
            "- - - - - - - - - - \n",
            "\n",
            "\n",
            "Q - - - - - - - - - \n",
            "- - - - - - - - - - \n",
            "- Q - - - - - - - - \n",
            "- - - - - - - - - - \n",
            "- - Q - - - - - - - \n",
            "- - - - - - - - - - \n",
            "- - - Q - - - - - - \n",
            "- - - - - - - - - - \n",
            "- - - - - - - - - - \n",
            "- - - - Q - - - - - \n",
            "\n",
            "\n",
            "Q - - - - - - - - - \n",
            "- - - - - - - - - - \n",
            "- Q - - - - - - - - \n",
            "- - - - - Q - - - - \n",
            "- - Q - - - - - - - \n",
            "- - - - - - - - - - \n",
            "- - - Q - - - - - - \n",
            "- - - - - - - - - - \n",
            "- - - - - - - - - - \n",
            "- - - - Q - - - - - \n",
            "\n",
            "\n",
            "Q - - - - - - - - - \n",
            "- - - - - - Q - - - \n",
            "- Q - - - - - - - - \n",
            "- - - - - Q - - - - \n",
            "- - Q - - - - - - - \n",
            "- - - - - - - - - - \n",
            "- - - Q - - - - - - \n",
            "- - - - - - - - - - \n",
            "- - - - - - - - - - \n",
            "- - - - Q - - - - - \n",
            "\n",
            "\n",
            "Q - - - - - - - - - \n",
            "- - - - - - - - - - \n",
            "- Q - - - - - - - - \n",
            "- - - - - Q - - - - \n",
            "- - Q - - - - - - - \n",
            "- - - - - - Q - - - \n",
            "- - - Q - - - - - - \n",
            "- - - - - - - - - - \n",
            "- - - - - - - - - - \n",
            "- - - - Q - - - - - \n",
            "\n",
            "\n",
            "Q - - - - - - - - - \n",
            "- - - - - - - - - - \n",
            "- Q - - - - - - - - \n",
            "- - - - - - - - - - \n",
            "- - Q - - - - - - - \n",
            "- - - - - - - - - - \n",
            "- - - - - - - - - - \n",
            "- - - Q - - - - - - \n",
            "- - - - - - - - - - \n",
            "- - - - - - - - - - \n",
            "\n",
            "\n",
            "Q - - - - - - - - - \n",
            "- - - - Q - - - - - \n",
            "- Q - - - - - - - - \n",
            "- - - - - - - - - - \n",
            "- - Q - - - - - - - \n",
            "- - - - - - - - - - \n",
            "- - - - - - - - - - \n",
            "- - - Q - - - - - - \n",
            "- - - - - - - - - - \n",
            "- - - - - - - - - - \n",
            "\n",
            "\n",
            "Q - - - - - - - - - \n",
            "- - - - Q - - - - - \n",
            "- Q - - - - - - - - \n",
            "- - - - - Q - - - - \n",
            "- - Q - - - - - - - \n",
            "- - - - - - - - - - \n",
            "- - - - - - - - - - \n",
            "- - - Q - - - - - - \n",
            "- - - - - - - - - - \n",
            "- - - - - - - - - - \n",
            "\n",
            "\n",
            "Q - - - - - - - - - \n",
            "- - - - Q - - - - - \n",
            "- Q - - - - - - - - \n",
            "- - - - - Q - - - - \n",
            "- - Q - - - - - - - \n",
            "- - - - - - Q - - - \n",
            "- - - - - - - - - - \n",
            "- - - Q - - - - - - \n",
            "- - - - - - - - - - \n",
            "- - - - - - - - - - \n",
            "\n",
            "\n",
            "Q - - - - - - - - - \n",
            "- - - - Q - - - - - \n",
            "- Q - - - - - - - - \n",
            "- - - - - Q - - - - \n",
            "- - Q - - - - - - - \n",
            "- - - - - - - - - - \n",
            "- - - - - - - - - - \n",
            "- - - Q - - - - - - \n",
            "- - - - - - - - - - \n",
            "- - - - - - Q - - - \n",
            "\n",
            "\n",
            "Q - - - - - - - - - \n",
            "- - - - Q - - - - - \n",
            "- Q - - - - - - - - \n",
            "- - - - - Q - - - - \n",
            "- - Q - - - - - - - \n",
            "- - - - - - - - - - \n",
            "- - - - - - - Q - - \n",
            "- - - Q - - - - - - \n",
            "- - - - - - - - - - \n",
            "- - - - - - Q - - - \n",
            "\n",
            "\n",
            "Q - - - - - - - - - \n",
            "- - - - Q - - - - - \n",
            "- Q - - - - - - - - \n",
            "- - - - - - - - - - \n",
            "- - Q - - - - - - - \n",
            "- - - - - - - - - - \n",
            "- - - - - - - - - - \n",
            "- - - Q - - - - - - \n",
            "- - - - - Q - - - - \n",
            "- - - - - - - - - - \n",
            "\n",
            "\n",
            "Q - - - - - - - - - \n",
            "- - - - Q - - - - - \n",
            "- Q - - - - - - - - \n",
            "- - - - - - - - - - \n",
            "- - Q - - - - - - - \n",
            "- - - - - - Q - - - \n",
            "- - - - - - - - - - \n",
            "- - - Q - - - - - - \n",
            "- - - - - Q - - - - \n",
            "- - - - - - - - - - \n",
            "\n",
            "\n",
            "Q - - - - - - - - - \n",
            "- - - - - - - - - - \n",
            "- Q - - - - - - - - \n",
            "- - - - Q - - - - - \n",
            "- - Q - - - - - - - \n",
            "- - - - - - - - - - \n",
            "- - - - - - - - - - \n",
            "- - - Q - - - - - - \n",
            "- - - - - - - - - - \n",
            "- - - - - - - - - - \n",
            "\n",
            "\n",
            "Q - - - - - - - - - \n",
            "- - - - - - - - - - \n",
            "- Q - - - - - - - - \n",
            "- - - - Q - - - - - \n",
            "- - Q - - - - - - - \n",
            "- - - - - - - - - - \n",
            "- - - - - - - - - - \n",
            "- - - Q - - - - - - \n",
            "- - - - - Q - - - - \n",
            "- - - - - - - - - - \n",
            "\n",
            "\n",
            "Q - - - - - - - - - \n",
            "- - - - - - - - - - \n",
            "- Q - - - - - - - - \n",
            "- - - - - - - - - - \n",
            "- - Q - - - - - - - \n",
            "- - - - - - - - - - \n",
            "- - - - - - - - - - \n",
            "- - - Q - - - - - - \n",
            "- - - - - - - - - - \n",
            "- - - - Q - - - - - \n",
            "\n",
            "\n",
            "Q - - - - - - - - - \n",
            "- - - - - - - - - - \n",
            "- Q - - - - - - - - \n",
            "- - - - - Q - - - - \n",
            "- - Q - - - - - - - \n",
            "- - - - - - - - - - \n",
            "- - - - - - - - - - \n",
            "- - - Q - - - - - - \n",
            "- - - - - - - - - - \n",
            "- - - - Q - - - - - \n",
            "\n",
            "\n",
            "Q - - - - - - - - - \n",
            "- - - - - - Q - - - \n",
            "- Q - - - - - - - - \n",
            "- - - - - Q - - - - \n",
            "- - Q - - - - - - - \n",
            "- - - - - - - - - - \n",
            "- - - - - - - - - - \n",
            "- - - Q - - - - - - \n",
            "- - - - - - - - - - \n",
            "- - - - Q - - - - - \n",
            "\n",
            "\n",
            "Q - - - - - - - - - \n",
            "- - - - - - - - - - \n",
            "- Q - - - - - - - - \n",
            "- - - - - Q - - - - \n",
            "- - Q - - - - - - - \n",
            "- - - - - - Q - - - \n",
            "- - - - - - - - - - \n",
            "- - - Q - - - - - - \n",
            "- - - - - - - - - - \n",
            "- - - - Q - - - - - \n",
            "\n",
            "\n",
            "Q - - - - - - - - - \n",
            "- - - - - - - - - - \n",
            "- Q - - - - - - - - \n",
            "- - - - - - - - - - \n",
            "- - Q - - - - - - - \n",
            "- - - - - - - - - - \n",
            "- - - - - - - - - - \n",
            "- - - - - - - - - - \n",
            "- - - Q - - - - - - \n",
            "- - - - - - - - - - \n",
            "\n",
            "\n",
            "Q - - - - - - - - - \n",
            "- - - - Q - - - - - \n",
            "- Q - - - - - - - - \n",
            "- - - - - - - - - - \n",
            "- - Q - - - - - - - \n",
            "- - - - - - - - - - \n",
            "- - - - - - - - - - \n",
            "- - - - - - - - - - \n",
            "- - - Q - - - - - - \n",
            "- - - - - - - - - - \n",
            "\n",
            "\n",
            "Q - - - - - - - - - \n",
            "- - - - Q - - - - - \n",
            "- Q - - - - - - - - \n",
            "- - - - - Q - - - - \n",
            "- - Q - - - - - - - \n",
            "- - - - - - - - - - \n",
            "- - - - - - - - - - \n",
            "- - - - - - - - - - \n",
            "- - - Q - - - - - - \n",
            "- - - - - - - - - - \n",
            "\n",
            "\n",
            "Q - - - - - - - - - \n",
            "- - - - Q - - - - - \n",
            "- Q - - - - - - - - \n",
            "- - - - - Q - - - - \n",
            "- - Q - - - - - - - \n",
            "- - - - - - - - - - \n",
            "- - - - - - - - - - \n",
            "- - - - - - - - - - \n",
            "- - - Q - - - - - - \n",
            "- - - - - - Q - - - \n",
            "\n",
            "\n",
            "Q - - - - - - - - - \n",
            "- - - - Q - - - - - \n",
            "- Q - - - - - - - - \n",
            "- - - - - Q - - - - \n",
            "- - Q - - - - - - - \n",
            "- - - - - - - - - - \n",
            "- - - - - - - Q - - \n",
            "- - - - - - - - - - \n",
            "- - - Q - - - - - - \n",
            "- - - - - - Q - - - \n",
            "\n",
            "\n",
            "Q - - - - - - - - - \n",
            "- - - - Q - - - - - \n",
            "- Q - - - - - - - - \n",
            "- - - - - - - - - - \n",
            "- - Q - - - - - - - \n",
            "- - - - - - - - - - \n",
            "- - - - - - - - - - \n",
            "- - - - - - - - - - \n",
            "- - - Q - - - - - - \n",
            "- - - - - Q - - - - \n",
            "\n",
            "\n",
            "Q - - - - - - - - - \n",
            "- - - - - - - - - - \n",
            "- Q - - - - - - - - \n",
            "- - - - Q - - - - - \n",
            "- - Q - - - - - - - \n",
            "- - - - - - - - - - \n",
            "- - - - - - - - - - \n",
            "- - - - - - - - - - \n",
            "- - - Q - - - - - - \n",
            "- - - - - - - - - - \n",
            "\n",
            "\n",
            "Q - - - - - - - - - \n",
            "- - - - - - - - - - \n",
            "- Q - - - - - - - - \n",
            "- - - - Q - - - - - \n",
            "- - Q - - - - - - - \n",
            "- - - - - - - - - - \n",
            "- - - - - - - - - - \n",
            "- - - - - - - - - - \n",
            "- - - Q - - - - - - \n",
            "- - - - - Q - - - - \n",
            "\n",
            "\n",
            "Q - - - - - - - - - \n",
            "- - - - - - - - - - \n",
            "- Q - - - - - - - - \n",
            "- - - - - - - - - - \n",
            "- - Q - - - - - - - \n",
            "- - - - - - - - - - \n",
            "- - - - - - - - - - \n",
            "- - - - - - - - - - \n",
            "- - - - - - - - - - \n",
            "- - - Q - - - - - - \n",
            "\n",
            "\n",
            "Q - - - - - - - - - \n",
            "- - - - Q - - - - - \n",
            "- Q - - - - - - - - \n",
            "- - - - - - - - - - \n",
            "- - Q - - - - - - - \n",
            "- - - - - - - - - - \n",
            "- - - - - - - - - - \n",
            "- - - - - - - - - - \n",
            "- - - - - - - - - - \n",
            "- - - Q - - - - - - \n",
            "\n",
            "\n",
            "Q - - - - - - - - - \n",
            "- - - - Q - - - - - \n",
            "- Q - - - - - - - - \n",
            "- - - - - Q - - - - \n",
            "- - Q - - - - - - - \n",
            "- - - - - - - - - - \n",
            "- - - - - - - - - - \n",
            "- - - - - - - - - - \n",
            "- - - - - - - - - - \n",
            "- - - Q - - - - - - \n",
            "\n",
            "\n",
            "Q - - - - - - - - - \n",
            "- - - - Q - - - - - \n",
            "- Q - - - - - - - - \n",
            "- - - - - Q - - - - \n",
            "- - Q - - - - - - - \n",
            "- - - - - - Q - - - \n",
            "- - - - - - - - - - \n",
            "- - - - - - - - - - \n",
            "- - - - - - - - - - \n",
            "- - - Q - - - - - - \n",
            "\n",
            "\n",
            "Q - - - - - - - - - \n",
            "- - - - Q - - - - - \n",
            "- Q - - - - - - - - \n",
            "- - - - - - - - - - \n",
            "- - Q - - - - - - - \n",
            "- - - - - - - - - - \n",
            "- - - - - - - - - - \n",
            "- - - - - - - - - - \n",
            "- - - - - Q - - - - \n",
            "- - - Q - - - - - - \n",
            "\n",
            "\n",
            "Q - - - - - - - - - \n",
            "- - - - Q - - - - - \n",
            "- Q - - - - - - - - \n",
            "- - - - - - - - - - \n",
            "- - Q - - - - - - - \n",
            "- - - - - - Q - - - \n",
            "- - - - - - - - - - \n",
            "- - - - - - - - - - \n",
            "- - - - - Q - - - - \n",
            "- - - Q - - - - - - \n",
            "\n",
            "\n",
            "Q - - - - - - - - - \n",
            "- - - - Q - - - - - \n",
            "- Q - - - - - - - - \n",
            "- - - - - - - Q - - \n",
            "- - Q - - - - - - - \n",
            "- - - - - - Q - - - \n",
            "- - - - - - - - - - \n",
            "- - - - - - - - - - \n",
            "- - - - - Q - - - - \n",
            "- - - Q - - - - - - \n",
            "\n",
            "\n",
            "Q - - - - - - - - - \n",
            "- - - - Q - - - - - \n",
            "- Q - - - - - - - - \n",
            "- - - - - - - Q - - \n",
            "- - Q - - - - - - - \n",
            "- - - - - - Q - - - \n",
            "- - - - - - - - Q - \n",
            "- - - - - - - - - - \n",
            "- - - - - Q - - - - \n",
            "- - - Q - - - - - - \n",
            "\n",
            "\n",
            "Q - - - - - - - - - \n",
            "- - - - - - - - - - \n",
            "- Q - - - - - - - - \n",
            "- - - - Q - - - - - \n",
            "- - Q - - - - - - - \n",
            "- - - - - - - - - - \n",
            "- - - - - - - - - - \n",
            "- - - - - - - - - - \n",
            "- - - - - - - - - - \n",
            "- - - Q - - - - - - \n",
            "\n",
            "\n",
            "Q - - - - - - - - - \n",
            "- - - - - - - - - - \n",
            "- Q - - - - - - - - \n",
            "- - - - Q - - - - - \n",
            "- - Q - - - - - - - \n",
            "- - - - - - - - - - \n",
            "- - - - - - - - - - \n",
            "- - - - - - - - - - \n",
            "- - - - - Q - - - - \n",
            "- - - Q - - - - - - \n",
            "\n",
            "\n",
            "Q - - - - - - - - - \n",
            "- - - - - - - - - - \n",
            "- Q - - - - - - - - \n",
            "- - - - - - - - - - \n",
            "- - Q - - - - - - - \n",
            "- - - - - - - - - - \n",
            "- - - - - - - - - - \n",
            "- - - - Q - - - - - \n",
            "- - - - - - - - - - \n",
            "- - - Q - - - - - - \n",
            "\n",
            "\n",
            "Q - - - - - - - - - \n",
            "- - - - - - - - - - \n",
            "- Q - - - - - - - - \n",
            "- - - - - Q - - - - \n",
            "- - Q - - - - - - - \n",
            "- - - - - - - - - - \n",
            "- - - - - - - - - - \n",
            "- - - - Q - - - - - \n",
            "- - - - - - - - - - \n",
            "- - - Q - - - - - - \n",
            "\n",
            "\n",
            "Q - - - - - - - - - \n",
            "- - - - - - Q - - - \n",
            "- Q - - - - - - - - \n",
            "- - - - - Q - - - - \n",
            "- - Q - - - - - - - \n",
            "- - - - - - - - - - \n",
            "- - - - - - - - - - \n",
            "- - - - Q - - - - - \n",
            "- - - - - - - - - - \n",
            "- - - Q - - - - - - \n",
            "\n",
            "\n",
            "Q - - - - - - - - - \n",
            "- - - - - - Q - - - \n",
            "- Q - - - - - - - - \n",
            "- - - - - Q - - - - \n",
            "- - Q - - - - - - - \n",
            "- - - - - - - - - - \n",
            "- - - - - - - Q - - \n",
            "- - - - Q - - - - - \n",
            "- - - - - - - - - - \n",
            "- - - Q - - - - - - \n",
            "\n",
            "\n",
            "Q - - - - - - - - - \n",
            "- - - - - - - - - - \n",
            "- Q - - - - - - - - \n",
            "- - - - - - - - - - \n",
            "- - - - - - - - - - \n",
            "- - Q - - - - - - - \n",
            "- - - - - - - - - - \n",
            "- - - - - - - - - - \n",
            "- - - - - - - - - - \n",
            "- - - - - - - - - - \n",
            "\n",
            "\n",
            "Q - - - - - - - - - \n",
            "- - - Q - - - - - - \n",
            "- Q - - - - - - - - \n",
            "- - - - - - - - - - \n",
            "- - - - - - - - - - \n",
            "- - Q - - - - - - - \n",
            "- - - - - - - - - - \n",
            "- - - - - - - - - - \n",
            "- - - - - - - - - - \n",
            "- - - - - - - - - - \n",
            "\n",
            "\n",
            "Q - - - - - - - - - \n",
            "- - - Q - - - - - - \n",
            "- Q - - - - - - - - \n",
            "- - - - - - - - - - \n",
            "- - - - - - - - - - \n",
            "- - Q - - - - - - - \n",
            "- - - - Q - - - - - \n",
            "- - - - - - - - - - \n",
            "- - - - - - - - - - \n",
            "- - - - - - - - - - \n",
            "\n",
            "\n",
            "Q - - - - - - - - - \n",
            "- - - Q - - - - - - \n",
            "- Q - - - - - - - - \n",
            "- - - - - - - - - - \n",
            "- - - - - Q - - - - \n",
            "- - Q - - - - - - - \n",
            "- - - - Q - - - - - \n",
            "- - - - - - - - - - \n",
            "- - - - - - - - - - \n",
            "- - - - - - - - - - \n",
            "\n",
            "\n",
            "Q - - - - - - - - - \n",
            "- - - Q - - - - - - \n",
            "- Q - - - - - - - - \n",
            "- - - - - - - - - - \n",
            "- - - - - - - - - - \n",
            "- - Q - - - - - - - \n",
            "- - - - Q - - - - - \n",
            "- - - - - - - - - - \n",
            "- - - - - - - - - - \n",
            "- - - - - Q - - - - \n",
            "\n",
            "\n",
            "Q - - - - - - - - - \n",
            "- - - Q - - - - - - \n",
            "- Q - - - - - - - - \n",
            "- - - - - - Q - - - \n",
            "- - - - - - - - - - \n",
            "- - Q - - - - - - - \n",
            "- - - - Q - - - - - \n",
            "- - - - - - - - - - \n",
            "- - - - - - - - - - \n",
            "- - - - - Q - - - - \n",
            "\n",
            "\n",
            "Q - - - - - - - - - \n",
            "- - - Q - - - - - - \n",
            "- Q - - - - - - - - \n",
            "- - - - - - - - - - \n",
            "- - - - - - - - - - \n",
            "- - Q - - - - - - - \n",
            "- - - - - - - - - - \n",
            "- - - - - - - - - - \n",
            "- - - - Q - - - - - \n",
            "- - - - - - - - - - \n",
            "\n",
            "\n",
            "Q - - - - - - - - - \n",
            "- - - Q - - - - - - \n",
            "- Q - - - - - - - - \n",
            "- - - - - - - - - - \n",
            "- - - - - Q - - - - \n",
            "- - Q - - - - - - - \n",
            "- - - - - - - - - - \n",
            "- - - - - - - - - - \n",
            "- - - - Q - - - - - \n",
            "- - - - - - - - - - \n",
            "\n",
            "\n",
            "Q - - - - - - - - - \n",
            "- - - Q - - - - - - \n",
            "- Q - - - - - - - - \n",
            "- - - - - - - - - - \n",
            "- - - - - - - - - - \n",
            "- - Q - - - - - - - \n",
            "- - - - - - - - - - \n",
            "- - - - - - - - - - \n",
            "- - - - - - - - - - \n",
            "- - - - Q - - - - - \n",
            "\n",
            "\n",
            "Q - - - - - - - - - \n",
            "- - - Q - - - - - - \n",
            "- Q - - - - - - - - \n",
            "- - - - - - - - - - \n",
            "- - - - - Q - - - - \n",
            "- - Q - - - - - - - \n",
            "- - - - - - - - - - \n",
            "- - - - - - - - - - \n",
            "- - - - - - - - - - \n",
            "- - - - Q - - - - - \n",
            "\n",
            "\n",
            "Q - - - - - - - - - \n",
            "- - - Q - - - - - - \n",
            "- Q - - - - - - - - \n",
            "- - - - - - - - - - \n",
            "- - - - - Q - - - - \n",
            "- - Q - - - - - - - \n",
            "- - - - - - - - - - \n",
            "- - - - - - - - - - \n",
            "- - - - - - Q - - - \n",
            "- - - - Q - - - - - \n",
            "\n",
            "\n",
            "Q - - - - - - - - - \n",
            "- - - Q - - - - - - \n",
            "- Q - - - - - - - - \n",
            "- - - - - - - Q - - \n",
            "- - - - - Q - - - - \n",
            "- - Q - - - - - - - \n",
            "- - - - - - - - - - \n",
            "- - - - - - - - - - \n",
            "- - - - - - Q - - - \n",
            "- - - - Q - - - - - \n",
            "\n",
            "\n",
            "Q - - - - - - - - - \n",
            "- - - Q - - - - - - \n",
            "- Q - - - - - - - - \n",
            "- - - - - - - - - - \n",
            "- - - - - - - - - - \n",
            "- - Q - - - - - - - \n",
            "- - - - - - - - - - \n",
            "- - - - - Q - - - - \n",
            "- - - - - - - - - - \n",
            "- - - - Q - - - - - \n",
            "\n",
            "\n",
            "Q - - - - - - - - - \n",
            "- - - Q - - - - - - \n",
            "- Q - - - - - - - - \n",
            "- - - - - - Q - - - \n",
            "- - - - - - - - - - \n",
            "- - Q - - - - - - - \n",
            "- - - - - - - - - - \n",
            "- - - - - Q - - - - \n",
            "- - - - - - - - - - \n",
            "- - - - Q - - - - - \n",
            "\n",
            "\n",
            "Q - - - - - - - - - \n",
            "- - - - - - - - - - \n",
            "- Q - - - - - - - - \n",
            "- - - - - - - - - - \n",
            "- - - - - - - - - - \n",
            "- - Q - - - - - - - \n",
            "- - - - - - - - - - \n",
            "- - - Q - - - - - - \n",
            "- - - - - - - - - - \n",
            "- - - - - - - - - - \n",
            "\n",
            "\n",
            "Q - - - - - - - - - \n",
            "- - - - Q - - - - - \n",
            "- Q - - - - - - - - \n",
            "- - - - - - - - - - \n",
            "- - - - - - - - - - \n",
            "- - Q - - - - - - - \n",
            "- - - - - - - - - - \n",
            "- - - Q - - - - - - \n",
            "- - - - - - - - - - \n",
            "- - - - - - - - - - \n",
            "\n",
            "\n",
            "Q - - - - - - - - - \n",
            "- - - - Q - - - - - \n",
            "- Q - - - - - - - - \n",
            "- - - - - Q - - - - \n",
            "- - - - - - - - - - \n",
            "- - Q - - - - - - - \n",
            "- - - - - - - - - - \n",
            "- - - Q - - - - - - \n",
            "- - - - - - - - - - \n",
            "- - - - - - - - - - \n",
            "\n",
            "\n",
            "Q - - - - - - - - - \n",
            "- - - - Q - - - - - \n",
            "- Q - - - - - - - - \n",
            "- - - - - Q - - - - \n",
            "- - - - - - - - - - \n",
            "- - Q - - - - - - - \n",
            "- - - - - - - - - - \n",
            "- - - Q - - - - - - \n",
            "- - - - - - Q - - - \n",
            "- - - - - - - - - - \n",
            "\n",
            "\n",
            "Q - - - - - - - - - \n",
            "- - - - Q - - - - - \n",
            "- Q - - - - - - - - \n",
            "- - - - - Q - - - - \n",
            "- - - - - - - - - - \n",
            "- - Q - - - - - - - \n",
            "- - - - - - - Q - - \n",
            "- - - Q - - - - - - \n",
            "- - - - - - Q - - - \n",
            "- - - - - - - - - - \n",
            "\n",
            "\n",
            "Q - - - - - - - - - \n",
            "- - - - Q - - - - - \n",
            "- Q - - - - - - - - \n",
            "- - - - - Q - - - - \n",
            "- - - - - - - - Q - \n",
            "- - Q - - - - - - - \n",
            "- - - - - - - Q - - \n",
            "- - - Q - - - - - - \n",
            "- - - - - - Q - - - \n",
            "- - - - - - - - - - \n",
            "\n",
            "\n",
            "Q - - - - - - - - - \n",
            "- - - - Q - - - - - \n",
            "- Q - - - - - - - - \n",
            "- - - - - - - - - - \n",
            "- - - - - Q - - - - \n",
            "- - Q - - - - - - - \n",
            "- - - - - - - - - - \n",
            "- - - Q - - - - - - \n",
            "- - - - - - - - - - \n",
            "- - - - - - - - - - \n",
            "\n",
            "\n",
            "Q - - - - - - - - - \n",
            "- - - - Q - - - - - \n",
            "- Q - - - - - - - - \n",
            "- - - - - - - - - - \n",
            "- - - - - Q - - - - \n",
            "- - Q - - - - - - - \n",
            "- - - - - - - - - - \n",
            "- - - Q - - - - - - \n",
            "- - - - - - Q - - - \n",
            "- - - - - - - - - - \n",
            "\n",
            "\n",
            "Q - - - - - - - - - \n",
            "- - - - - - - - - - \n",
            "- Q - - - - - - - - \n",
            "- - - - - - - - - - \n",
            "- - - - - - - - - - \n",
            "- - Q - - - - - - - \n",
            "- - - - - - - - - - \n",
            "- - - Q - - - - - - \n",
            "- - - - - - - - - - \n",
            "- - - - Q - - - - - \n",
            "\n",
            "\n",
            "Q - - - - - - - - - \n",
            "- - - - - Q - - - - \n",
            "- Q - - - - - - - - \n",
            "- - - - - - - - - - \n",
            "- - - - - - - - - - \n",
            "- - Q - - - - - - - \n",
            "- - - - - - - - - - \n",
            "- - - Q - - - - - - \n",
            "- - - - - - - - - - \n",
            "- - - - Q - - - - - \n",
            "\n",
            "\n",
            "Q - - - - - - - - - \n",
            "- - - - - Q - - - - \n",
            "- Q - - - - - - - - \n",
            "- - - - - - Q - - - \n",
            "- - - - - - - - - - \n",
            "- - Q - - - - - - - \n",
            "- - - - - - - - - - \n",
            "- - - Q - - - - - - \n",
            "- - - - - - - - - - \n",
            "- - - - Q - - - - - \n",
            "\n",
            "\n",
            "Q - - - - - - - - - \n",
            "- - - - - Q - - - - \n",
            "- Q - - - - - - - - \n",
            "- - - - - - - - - - \n",
            "- - - - - - - - - - \n",
            "- - Q - - - - - - - \n",
            "- - - - - - - - - - \n",
            "- - - Q - - - - - - \n",
            "- - - - - - Q - - - \n",
            "- - - - Q - - - - - \n",
            "\n",
            "\n",
            "Q - - - - - - - - - \n",
            "- - - - - Q - - - - \n",
            "- Q - - - - - - - - \n",
            "- - - - - - - - - - \n",
            "- - - - - - - Q - - \n",
            "- - Q - - - - - - - \n",
            "- - - - - - - - - - \n",
            "- - - Q - - - - - - \n",
            "- - - - - - Q - - - \n",
            "- - - - Q - - - - - \n",
            "\n",
            "\n",
            "Q - - - - - - - - - \n",
            "- - - - - - - - - - \n",
            "- Q - - - - - - - - \n",
            "- - - - - Q - - - - \n",
            "- - - - - - - - - - \n",
            "- - Q - - - - - - - \n",
            "- - - - - - - - - - \n",
            "- - - Q - - - - - - \n",
            "- - - - - - - - - - \n",
            "- - - - Q - - - - - \n",
            "\n",
            "\n",
            "Q - - - - - - - - - \n",
            "- - - - - - - - - - \n",
            "- Q - - - - - - - - \n",
            "- - - - - Q - - - - \n",
            "- - - - - - - - - - \n",
            "- - Q - - - - - - - \n",
            "- - - - - - - - - - \n",
            "- - - Q - - - - - - \n",
            "- - - - - - Q - - - \n",
            "- - - - Q - - - - - \n",
            "\n",
            "\n",
            "Q - - - - - - - - - \n",
            "- - - - - - - - - - \n",
            "- Q - - - - - - - - \n",
            "- - - - - Q - - - - \n",
            "- - - - - - - Q - - \n",
            "- - Q - - - - - - - \n",
            "- - - - - - - - - - \n",
            "- - - Q - - - - - - \n",
            "- - - - - - Q - - - \n",
            "- - - - Q - - - - - \n",
            "\n",
            "\n",
            "Q - - - - - - - - - \n",
            "- - - - - - - - Q - \n",
            "- Q - - - - - - - - \n",
            "- - - - - Q - - - - \n",
            "- - - - - - - Q - - \n",
            "- - Q - - - - - - - \n",
            "- - - - - - - - - - \n",
            "- - - Q - - - - - - \n",
            "- - - - - - Q - - - \n",
            "- - - - Q - - - - - \n",
            "\n",
            "\n",
            "Q - - - - - - - - - \n",
            "- - - - - - - - - - \n",
            "- Q - - - - - - - - \n",
            "- - - - - - - - - - \n",
            "- - - - - Q - - - - \n",
            "- - Q - - - - - - - \n",
            "- - - - - - - - - - \n",
            "- - - Q - - - - - - \n",
            "- - - - - - - - - - \n",
            "- - - - Q - - - - - \n",
            "\n",
            "\n",
            "Q - - - - - - - - - \n",
            "- - - - - - - - - - \n",
            "- Q - - - - - - - - \n",
            "- - - - - - - - - - \n",
            "- - - - - Q - - - - \n",
            "- - Q - - - - - - - \n",
            "- - - - - - - - - - \n",
            "- - - Q - - - - - - \n",
            "- - - - - - Q - - - \n",
            "- - - - Q - - - - - \n",
            "\n",
            "\n",
            "Q - - - - - - - - - \n",
            "- - - - - - - Q - - \n",
            "- Q - - - - - - - - \n",
            "- - - - - - - - - - \n",
            "- - - - - Q - - - - \n",
            "- - Q - - - - - - - \n",
            "- - - - - - - - - - \n",
            "- - - Q - - - - - - \n",
            "- - - - - - Q - - - \n",
            "- - - - Q - - - - - \n",
            "\n",
            "\n",
            "Q - - - - - - - - - \n",
            "- - - - - - - Q - - \n",
            "- Q - - - - - - - - \n",
            "- - - - - - - - Q - \n",
            "- - - - - Q - - - - \n",
            "- - Q - - - - - - - \n",
            "- - - - - - - - - - \n",
            "- - - Q - - - - - - \n",
            "- - - - - - Q - - - \n",
            "- - - - Q - - - - - \n",
            "\n",
            "\n",
            "Q - - - - - - - - - \n",
            "- - - - - - - Q - - \n",
            "- Q - - - - - - - - \n",
            "- - - - - - - - Q - \n",
            "- - - - - Q - - - - \n",
            "- - Q - - - - - - - \n",
            "- - - - - - - - - Q \n",
            "- - - Q - - - - - - \n",
            "- - - - - - Q - - - \n",
            "- - - - Q - - - - - \n",
            "\n",
            "\n",
            "Solution exist\n"
          ]
        },
        {
          "output_type": "execute_result",
          "data": {
            "text/plain": [
              "True"
            ]
          },
          "metadata": {},
          "execution_count": 21
        }
      ]
    },
    {
      "cell_type": "code",
      "source": [
        "chess_table"
      ],
      "metadata": {
        "colab": {
          "base_uri": "https://localhost:8080/"
        },
        "id": "skGmNkw9BJt7",
        "outputId": "7ea765ae-9612-4d26-cc15-a856a52fccd9"
      },
      "execution_count": 22,
      "outputs": [
        {
          "output_type": "execute_result",
          "data": {
            "text/plain": [
              "[['Q', '-', '-', '-', '-', '-', '-', '-', '-', '-'],\n",
              " ['-', '-', '-', '-', '-', '-', '-', 'Q', '-', '-'],\n",
              " ['-', 'Q', '-', '-', '-', '-', '-', '-', '-', '-'],\n",
              " ['-', '-', '-', '-', '-', '-', '-', '-', 'Q', '-'],\n",
              " ['-', '-', '-', '-', '-', 'Q', '-', '-', '-', '-'],\n",
              " ['-', '-', 'Q', '-', '-', '-', '-', '-', '-', '-'],\n",
              " ['-', '-', '-', '-', '-', '-', '-', '-', '-', 'Q'],\n",
              " ['-', '-', '-', 'Q', '-', '-', '-', '-', '-', '-'],\n",
              " ['-', '-', '-', '-', '-', '-', 'Q', '-', '-', '-'],\n",
              " ['-', '-', '-', '-', 'Q', '-', '-', '-', '-', '-']]"
            ]
          },
          "metadata": {},
          "execution_count": 22
        }
      ]
    },
    {
      "cell_type": "markdown",
      "source": [
        "###**Backtracking**  - Hamiltonian Cycle"
      ],
      "metadata": {
        "id": "qVQvmKS_tGs3"
      }
    },
    {
      "cell_type": "code",
      "source": [
        "def isValid(vertex, pos):\n",
        "  # if two nodes are connected and vertex is alreday visited or not\n",
        "  # if(ajacency_matrix[pos-1][vertex] == 0):\n",
        "  #   return False\n",
        "  # if(vertex in hamil_path):\n",
        "  #   return False\n",
        "  # return True\n",
        "  if(ajacency_matrix[pos-1][vertex] == 1 and vertex not in hamil_path):\n",
        "    return True\n",
        "  return False\n",
        "\n",
        "  # if(ajacency_matrix[pos-1][vertex] == 1):\n",
        "  #   return True\n",
        "  # if(vertex not in hamil_path):\n",
        "  #   return True\n",
        "  # return False\n",
        "  # if(ajacency_matrix[pos-1][vertex] == 0 and vertex in hamil_path):\n",
        "  #   return False\n",
        "  # return True"
      ],
      "metadata": {
        "id": "QMmsdlK3t1hQ"
      },
      "execution_count": 23,
      "outputs": []
    },
    {
      "cell_type": "code",
      "source": [
        "def solve():\n",
        "  hamil_path.append(0)\n",
        "  if(find_solution(1)):\n",
        "    print(\"Hamiltonian cycle found\")\n",
        "    for v in hamil_path:\n",
        "      print(v,end='-')\n",
        "    print(hamil_path[0])\n",
        "    print(\"Solution exist\")\n",
        "    return True\n",
        "  print(\"Solution does not exist\")\n",
        "  return False\n"
      ],
      "metadata": {
        "id": "739oVhAbvC0u"
      },
      "execution_count": 24,
      "outputs": []
    },
    {
      "cell_type": "code",
      "source": [
        "def find_solution(pos):\n",
        "  # base case\n",
        "  print(hamil_path)\n",
        "  if(pos == num_of_vertices):\n",
        "    # check if cycle foud or not\n",
        "    if(ajacency_matrix[hamil_path[-1]][hamil_path[0]] == 1):\n",
        "      return True\n",
        "    else:\n",
        "      return False\n",
        "  for vertex in range(1,num_of_vertices):\n",
        "    # print('loop running..')\n",
        "    if(isValid(vertex,pos)):\n",
        "      hamil_path.append(vertex)\n",
        "      if(find_solution(pos+1)):\n",
        "        return True\n",
        "      # backtrack\n",
        "      print('Backtracking...... poping...',hamil_path.pop())\n",
        "      hamil_path.pop()\n",
        "  return False"
      ],
      "metadata": {
        "id": "OVWxRz2gvl2b"
      },
      "execution_count": 25,
      "outputs": []
    },
    {
      "cell_type": "code",
      "source": [
        "num_of_vertices = 6\n",
        "hamil_path = []\n",
        "ajacency_matrix = [\n",
        "    [0, 1, 0, 0, 0, 1],\n",
        "    [1, 0, 1, 0, 0, 0],\n",
        "    [0, 1, 0, 0, 1, 0],\n",
        "    [0, 0, 0, 0, 1, 1],\n",
        "    [0, 0, 1, 1, 0, 1],\n",
        "    [1, 0, 0, 1, 1, 0]]"
      ],
      "metadata": {
        "id": "QcynyZznxtXz"
      },
      "execution_count": 26,
      "outputs": []
    },
    {
      "cell_type": "code",
      "source": [
        "solve()"
      ],
      "metadata": {
        "colab": {
          "base_uri": "https://localhost:8080/"
        },
        "id": "7_cI_L-W1qwU",
        "outputId": "0f9707ce-c559-40de-a6fb-a46bbc1d50bf"
      },
      "execution_count": 27,
      "outputs": [
        {
          "output_type": "stream",
          "name": "stdout",
          "text": [
            "[0]\n",
            "[0, 1]\n",
            "[0, 1, 2]\n",
            "[0, 1, 2, 4]\n",
            "[0, 1, 2, 4, 5]\n",
            "[0, 1, 2, 4, 5, 3]\n",
            "Backtracking...... poping... 3\n",
            "[0, 1, 2, 4, 5]\n",
            "Hamiltonian cycle found\n",
            "0-1-2-4-5-0\n",
            "Solution exist\n"
          ]
        },
        {
          "output_type": "execute_result",
          "data": {
            "text/plain": [
              "True"
            ]
          },
          "metadata": {},
          "execution_count": 27
        }
      ]
    },
    {
      "cell_type": "code",
      "source": [],
      "metadata": {
        "id": "LOQ9OeBb2dcP"
      },
      "execution_count": 27,
      "outputs": []
    },
    {
      "cell_type": "markdown",
      "source": [
        "###**Backtracking**  - Coloring problem"
      ],
      "metadata": {
        "id": "3sqGuDZEf1PL"
      }
    },
    {
      "cell_type": "code",
      "source": [
        "def print_solution():\n",
        "  for i,color in zip(range(len(colors)),colors):\n",
        "    print('Node', i+1, 'color is', color)"
      ],
      "metadata": {
        "id": "6WdCNTxIhi7U"
      },
      "execution_count": 28,
      "outputs": []
    },
    {
      "cell_type": "code",
      "source": [
        "def solve():\n",
        "  if(color_graph(0)):\n",
        "    print(\"Solution exist\")\n",
        "    print_solution()\n",
        "    return True\n",
        "  print(\"Solution does not exist\")\n",
        "  return False"
      ],
      "metadata": {
        "id": "FaszranUgvje"
      },
      "execution_count": 29,
      "outputs": []
    },
    {
      "cell_type": "code",
      "source": [
        "def color_graph(nodeindex):\n",
        "  # base case\n",
        "  if(nodeindex == num_of_vertices):\n",
        "    return True\n",
        "  # try all colors\n",
        "  for colorindex in range(1,num_of_colors+1):\n",
        "    if(isCOlorValid(nodeindex,colorindex)):\n",
        "      colors[nodeindex] = colorindex\n",
        "      if(color_graph(nodeindex+1)):\n",
        "        return True\n",
        "      # backtrack\n",
        "      # here backtrack is continue\n",
        "  return False"
      ],
      "metadata": {
        "id": "J4RaLLqFg3eX"
      },
      "execution_count": 30,
      "outputs": []
    },
    {
      "cell_type": "code",
      "source": [
        "def isCOlorValid(nodeindex,colorindex):\n",
        "  for i in range(num_of_vertices):\n",
        "    if(graph[nodeindex][i] == 1 and colors[i] == colorindex):\n",
        "      return False\n",
        "  return True"
      ],
      "metadata": {
        "id": "a6QJX2mjg9lR"
      },
      "execution_count": 31,
      "outputs": []
    },
    {
      "cell_type": "code",
      "source": [
        "num_of_colors = 4\n",
        "num_of_vertices = 6\n",
        "colors = []\n",
        "for i in range(num_of_vertices):\n",
        "  colors.append(0)\n",
        "# graph = [[0, 1, 1, 1, 0, 0],\n",
        "#          [1, 0, 1, 0, 1, 1],\n",
        "#          [1, 1, 0, 1, 0, 1],\n",
        "#          [1, 1, 1, 0, 0, 1],\n",
        "#          [1, 0, 1, 1, 0, 0],\n",
        "#          [0, 1, 1, 1, 1, 0]]\n",
        "\n",
        "graph = [[0, 1, 1, 1, 0, 0],\n",
        "         [1, 0, 1, 0, 1, 1],\n",
        "         [1, 1, 0, 1, 0, 1],\n",
        "         [1, 0, 1, 0, 0, 1],\n",
        "         [0, 1, 0, 0, 0, 1],\n",
        "         [0, 1, 1, 1, 1, 0]]"
      ],
      "metadata": {
        "id": "U_gNuizkgAIq"
      },
      "execution_count": 32,
      "outputs": []
    },
    {
      "cell_type": "code",
      "source": [
        "solve()"
      ],
      "metadata": {
        "colab": {
          "base_uri": "https://localhost:8080/"
        },
        "id": "Xmu9XTDRhp30",
        "outputId": "b1a1de2b-a120-4aff-9971-2e53f6daadd7"
      },
      "execution_count": 33,
      "outputs": [
        {
          "output_type": "stream",
          "name": "stdout",
          "text": [
            "Solution exist\n",
            "Node 1 color is 1\n",
            "Node 2 color is 2\n",
            "Node 3 color is 3\n",
            "Node 4 color is 2\n",
            "Node 5 color is 1\n",
            "Node 6 color is 4\n"
          ]
        },
        {
          "output_type": "execute_result",
          "data": {
            "text/plain": [
              "True"
            ]
          },
          "metadata": {},
          "execution_count": 33
        }
      ]
    },
    {
      "cell_type": "code",
      "source": [],
      "metadata": {
        "id": "YCdWkKvukGHx"
      },
      "execution_count": 33,
      "outputs": []
    },
    {
      "cell_type": "markdown",
      "source": [
        "###**Backtracking**  - Knight's Closed Tour problem\n",
        "- kinda similar to hamiltonian cycle, as a knight in NxN chess board has to cover each cell once and returns to it's initial cell\n",
        "\n",
        "- If starting point is not same as ending pont then it is  Knight's Tour problem not the Knight's Closed Tour problem\n",
        "\n",
        "- In MxN board probles is always feasible unless\n",
        "    - M and N both are odd\n",
        "    - M = 1,2,4\n",
        "    - M = 3  and  N = 4,6,8\n",
        "\n",
        "\n",
        "\n",
        "\n"
      ],
      "metadata": {
        "id": "WbilCwt7oA-x"
      }
    },
    {
      "cell_type": "code",
      "source": [
        "def solve():\n",
        "  chess_table_k[0][0] = 0\n",
        "  if(knight_tour(0,0,1)):\n",
        "    print(\"Solution exist\")\n",
        "    print_mat(chess_table_k)\n",
        "    return True\n",
        "  print(\"Solution does not exist\")\n",
        "  return False"
      ],
      "metadata": {
        "id": "-pYx56WS7brF"
      },
      "execution_count": 34,
      "outputs": []
    },
    {
      "cell_type": "code",
      "source": [
        "def knight_tour(x,y,stepCount):\n",
        "  # base case\n",
        "  if(stepCount == boardsize*boardsize):\n",
        "    return True\n",
        "  # check all possible moves\n",
        "  for i in range(len(xmove)):\n",
        "    next_x = x + xmove[i]\n",
        "    next_y = y + ymove[i]\n",
        "    # check if move is valid\n",
        "    if(isValid(next_x,next_y)):\n",
        "      chess_table_k[next_x][next_y] = stepCount\n",
        "      if(knight_tour(next_x,next_y,stepCount+1)):\n",
        "        return True\n",
        "      # backtrack\n",
        "      print('Backtracking...... poping...',chess_table_k[next_x][next_y])\n",
        "      chess_table_k[next_x][next_y] = '-'\n",
        "  return False"
      ],
      "metadata": {
        "id": "UpFQ0FZD7dsu"
      },
      "execution_count": 35,
      "outputs": []
    },
    {
      "cell_type": "code",
      "source": [
        "def isValid(x,y):\n",
        "  # knight left board in horizontal way\n",
        "  if(x < 0 or x >= boardsize):\n",
        "    return False\n",
        "  # knight left board in vertical way\n",
        "  if(y < 0 or y >= boardsize):\n",
        "    return False\n",
        "  # not visit a cell multile times\n",
        "  if(chess_table_k[x][y] != '-'):\n",
        "    return False\n",
        "  return True"
      ],
      "metadata": {
        "id": "tdA-FPx87471"
      },
      "execution_count": 36,
      "outputs": []
    },
    {
      "cell_type": "code",
      "source": [
        "chess_table_k = []\n",
        "boardsize = 4\n",
        "for i in range(boardsize):\n",
        "  chess_table_k.append(['-']*boardsize)\n",
        "# since there are 8 moves possible for a knight\n",
        "xmove = [2, 1, -1, -2, -2, -1, 1, 2] # direction x moving right is +ve and moving left is -ve and then theres steps\n",
        "ymove = [1, 2, 2, 1, -1, -2, -2, -1] # direction y moving down is +ve and moving up is -ve and then theres steps"
      ],
      "metadata": {
        "id": "k7mz1zWBk3Rd"
      },
      "execution_count": 37,
      "outputs": []
    },
    {
      "cell_type": "code",
      "source": [
        "solve()"
      ],
      "metadata": {
        "colab": {
          "base_uri": "https://localhost:8080/"
        },
        "id": "ekqQID_W8LBu",
        "outputId": "f42bf29c-353c-4110-9a4c-5a476cd2f9aa"
      },
      "execution_count": 38,
      "outputs": [
        {
          "output_type": "stream",
          "name": "stdout",
          "text": [
            "Backtracking...... poping... 14\n",
            "Backtracking...... poping... 13\n",
            "Backtracking...... poping... 12\n",
            "Backtracking...... poping... 14\n",
            "Backtracking...... poping... 13\n",
            "Backtracking...... poping... 12\n",
            "Backtracking...... poping... 11\n",
            "Backtracking...... poping... 11\n",
            "Backtracking...... poping... 10\n",
            "Backtracking...... poping... 9\n",
            "Backtracking...... poping... 12\n",
            "Backtracking...... poping... 13\n",
            "Backtracking...... poping... 13\n",
            "Backtracking...... poping... 12\n",
            "Backtracking...... poping... 11\n",
            "Backtracking...... poping... 10\n",
            "Backtracking...... poping... 13\n",
            "Backtracking...... poping... 13\n",
            "Backtracking...... poping... 12\n",
            "Backtracking...... poping... 12\n",
            "Backtracking...... poping... 11\n",
            "Backtracking...... poping... 10\n",
            "Backtracking...... poping... 9\n",
            "Backtracking...... poping... 14\n",
            "Backtracking...... poping... 13\n",
            "Backtracking...... poping... 12\n",
            "Backtracking...... poping... 14\n",
            "Backtracking...... poping... 13\n",
            "Backtracking...... poping... 12\n",
            "Backtracking...... poping... 11\n",
            "Backtracking...... poping... 11\n",
            "Backtracking...... poping... 10\n",
            "Backtracking...... poping... 9\n",
            "Backtracking...... poping... 8\n",
            "Backtracking...... poping... 7\n",
            "Backtracking...... poping... 6\n",
            "Backtracking...... poping... 10\n",
            "Backtracking...... poping... 11\n",
            "Backtracking...... poping... 12\n",
            "Backtracking...... poping... 11\n",
            "Backtracking...... poping... 11\n",
            "Backtracking...... poping... 10\n",
            "Backtracking...... poping... 9\n",
            "Backtracking...... poping... 8\n",
            "Backtracking...... poping... 11\n",
            "Backtracking...... poping... 12\n",
            "Backtracking...... poping... 11\n",
            "Backtracking...... poping... 11\n",
            "Backtracking...... poping... 10\n",
            "Backtracking...... poping... 10\n",
            "Backtracking...... poping... 9\n",
            "Backtracking...... poping... 8\n",
            "Backtracking...... poping... 7\n",
            "Backtracking...... poping... 10\n",
            "Backtracking...... poping... 9\n",
            "Backtracking...... poping... 12\n",
            "Backtracking...... poping... 11\n",
            "Backtracking...... poping... 10\n",
            "Backtracking...... poping... 12\n",
            "Backtracking...... poping... 11\n",
            "Backtracking...... poping... 10\n",
            "Backtracking...... poping... 9\n",
            "Backtracking...... poping... 9\n",
            "Backtracking...... poping... 8\n",
            "Backtracking...... poping... 7\n",
            "Backtracking...... poping... 9\n",
            "Backtracking...... poping... 10\n",
            "Backtracking...... poping... 9\n",
            "Backtracking...... poping... 12\n",
            "Backtracking...... poping... 11\n",
            "Backtracking...... poping... 10\n",
            "Backtracking...... poping... 12\n",
            "Backtracking...... poping... 11\n",
            "Backtracking...... poping... 10\n",
            "Backtracking...... poping... 9\n",
            "Backtracking...... poping... 8\n",
            "Backtracking...... poping... 7\n",
            "Backtracking...... poping... 6\n",
            "Backtracking...... poping... 5\n",
            "Backtracking...... poping... 10\n",
            "Backtracking...... poping... 9\n",
            "Backtracking...... poping... 12\n",
            "Backtracking...... poping... 11\n",
            "Backtracking...... poping... 10\n",
            "Backtracking...... poping... 12\n",
            "Backtracking...... poping... 11\n",
            "Backtracking...... poping... 10\n",
            "Backtracking...... poping... 9\n",
            "Backtracking...... poping... 9\n",
            "Backtracking...... poping... 8\n",
            "Backtracking...... poping... 7\n",
            "Backtracking...... poping... 10\n",
            "Backtracking...... poping... 12\n",
            "Backtracking...... poping... 11\n",
            "Backtracking...... poping... 11\n",
            "Backtracking...... poping... 11\n",
            "Backtracking...... poping... 10\n",
            "Backtracking...... poping... 9\n",
            "Backtracking...... poping... 8\n",
            "Backtracking...... poping... 12\n",
            "Backtracking...... poping... 11\n",
            "Backtracking...... poping... 11\n",
            "Backtracking...... poping... 11\n",
            "Backtracking...... poping... 10\n",
            "Backtracking...... poping... 10\n",
            "Backtracking...... poping... 9\n",
            "Backtracking...... poping... 8\n",
            "Backtracking...... poping... 7\n",
            "Backtracking...... poping... 10\n",
            "Backtracking...... poping... 9\n",
            "Backtracking...... poping... 12\n",
            "Backtracking...... poping... 11\n",
            "Backtracking...... poping... 10\n",
            "Backtracking...... poping... 12\n",
            "Backtracking...... poping... 11\n",
            "Backtracking...... poping... 10\n",
            "Backtracking...... poping... 9\n",
            "Backtracking...... poping... 9\n",
            "Backtracking...... poping... 8\n",
            "Backtracking...... poping... 7\n",
            "Backtracking...... poping... 6\n",
            "Backtracking...... poping... 12\n",
            "Backtracking...... poping... 13\n",
            "Backtracking...... poping... 13\n",
            "Backtracking...... poping... 12\n",
            "Backtracking...... poping... 11\n",
            "Backtracking...... poping... 10\n",
            "Backtracking...... poping... 13\n",
            "Backtracking...... poping... 13\n",
            "Backtracking...... poping... 12\n",
            "Backtracking...... poping... 12\n",
            "Backtracking...... poping... 11\n",
            "Backtracking...... poping... 10\n",
            "Backtracking...... poping... 9\n",
            "Backtracking...... poping... 14\n",
            "Backtracking...... poping... 13\n",
            "Backtracking...... poping... 12\n",
            "Backtracking...... poping... 14\n",
            "Backtracking...... poping... 13\n",
            "Backtracking...... poping... 12\n",
            "Backtracking...... poping... 11\n",
            "Backtracking...... poping... 11\n",
            "Backtracking...... poping... 10\n",
            "Backtracking...... poping... 9\n",
            "Backtracking...... poping... 11\n",
            "Backtracking...... poping... 14\n",
            "Backtracking...... poping... 13\n",
            "Backtracking...... poping... 12\n",
            "Backtracking...... poping... 14\n",
            "Backtracking...... poping... 13\n",
            "Backtracking...... poping... 12\n",
            "Backtracking...... poping... 11\n",
            "Backtracking...... poping... 10\n",
            "Backtracking...... poping... 9\n",
            "Backtracking...... poping... 8\n",
            "Backtracking...... poping... 7\n",
            "Backtracking...... poping... 6\n",
            "Backtracking...... poping... 5\n",
            "Backtracking...... poping... 4\n",
            "Backtracking...... poping... 14\n",
            "Backtracking...... poping... 13\n",
            "Backtracking...... poping... 12\n",
            "Backtracking...... poping... 14\n",
            "Backtracking...... poping... 13\n",
            "Backtracking...... poping... 12\n",
            "Backtracking...... poping... 11\n",
            "Backtracking...... poping... 11\n",
            "Backtracking...... poping... 10\n",
            "Backtracking...... poping... 9\n",
            "Backtracking...... poping... 13\n",
            "Backtracking...... poping... 13\n",
            "Backtracking...... poping... 12\n",
            "Backtracking...... poping... 12\n",
            "Backtracking...... poping... 11\n",
            "Backtracking...... poping... 10\n",
            "Backtracking...... poping... 12\n",
            "Backtracking...... poping... 13\n",
            "Backtracking...... poping... 13\n",
            "Backtracking...... poping... 12\n",
            "Backtracking...... poping... 11\n",
            "Backtracking...... poping... 10\n",
            "Backtracking...... poping... 9\n",
            "Backtracking...... poping... 14\n",
            "Backtracking...... poping... 13\n",
            "Backtracking...... poping... 12\n",
            "Backtracking...... poping... 14\n",
            "Backtracking...... poping... 13\n",
            "Backtracking...... poping... 12\n",
            "Backtracking...... poping... 11\n",
            "Backtracking...... poping... 11\n",
            "Backtracking...... poping... 10\n",
            "Backtracking...... poping... 9\n",
            "Backtracking...... poping... 8\n",
            "Backtracking...... poping... 7\n",
            "Backtracking...... poping... 6\n",
            "Backtracking...... poping... 11\n",
            "Backtracking...... poping... 12\n",
            "Backtracking...... poping... 11\n",
            "Backtracking...... poping... 11\n",
            "Backtracking...... poping... 10\n",
            "Backtracking...... poping... 10\n",
            "Backtracking...... poping... 9\n",
            "Backtracking...... poping... 8\n",
            "Backtracking...... poping... 11\n",
            "Backtracking...... poping... 12\n",
            "Backtracking...... poping... 11\n",
            "Backtracking...... poping... 11\n",
            "Backtracking...... poping... 10\n",
            "Backtracking...... poping... 10\n",
            "Backtracking...... poping... 9\n",
            "Backtracking...... poping... 8\n",
            "Backtracking...... poping... 7\n",
            "Backtracking...... poping... 12\n",
            "Backtracking...... poping... 11\n",
            "Backtracking...... poping... 10\n",
            "Backtracking...... poping... 12\n",
            "Backtracking...... poping... 11\n",
            "Backtracking...... poping... 10\n",
            "Backtracking...... poping... 9\n",
            "Backtracking...... poping... 10\n",
            "Backtracking...... poping... 9\n",
            "Backtracking...... poping... 9\n",
            "Backtracking...... poping... 8\n",
            "Backtracking...... poping... 7\n",
            "Backtracking...... poping... 9\n",
            "Backtracking...... poping... 12\n",
            "Backtracking...... poping... 11\n",
            "Backtracking...... poping... 10\n",
            "Backtracking...... poping... 12\n",
            "Backtracking...... poping... 11\n",
            "Backtracking...... poping... 10\n",
            "Backtracking...... poping... 9\n",
            "Backtracking...... poping... 10\n",
            "Backtracking...... poping... 9\n",
            "Backtracking...... poping... 8\n",
            "Backtracking...... poping... 7\n",
            "Backtracking...... poping... 6\n",
            "Backtracking...... poping... 5\n",
            "Backtracking...... poping... 12\n",
            "Backtracking...... poping... 11\n",
            "Backtracking...... poping... 10\n",
            "Backtracking...... poping... 12\n",
            "Backtracking...... poping... 11\n",
            "Backtracking...... poping... 10\n",
            "Backtracking...... poping... 9\n",
            "Backtracking...... poping... 10\n",
            "Backtracking...... poping... 9\n",
            "Backtracking...... poping... 9\n",
            "Backtracking...... poping... 8\n",
            "Backtracking...... poping... 7\n",
            "Backtracking...... poping... 12\n",
            "Backtracking...... poping... 11\n",
            "Backtracking...... poping... 11\n",
            "Backtracking...... poping... 11\n",
            "Backtracking...... poping... 10\n",
            "Backtracking...... poping... 10\n",
            "Backtracking...... poping... 9\n",
            "Backtracking...... poping... 8\n",
            "Backtracking...... poping... 10\n",
            "Backtracking...... poping... 12\n",
            "Backtracking...... poping... 11\n",
            "Backtracking...... poping... 11\n",
            "Backtracking...... poping... 11\n",
            "Backtracking...... poping... 10\n",
            "Backtracking...... poping... 9\n",
            "Backtracking...... poping... 8\n",
            "Backtracking...... poping... 7\n",
            "Backtracking...... poping... 12\n",
            "Backtracking...... poping... 11\n",
            "Backtracking...... poping... 10\n",
            "Backtracking...... poping... 12\n",
            "Backtracking...... poping... 11\n",
            "Backtracking...... poping... 10\n",
            "Backtracking...... poping... 9\n",
            "Backtracking...... poping... 10\n",
            "Backtracking...... poping... 9\n",
            "Backtracking...... poping... 9\n",
            "Backtracking...... poping... 8\n",
            "Backtracking...... poping... 7\n",
            "Backtracking...... poping... 6\n",
            "Backtracking...... poping... 13\n",
            "Backtracking...... poping... 13\n",
            "Backtracking...... poping... 12\n",
            "Backtracking...... poping... 12\n",
            "Backtracking...... poping... 11\n",
            "Backtracking...... poping... 10\n",
            "Backtracking...... poping... 13\n",
            "Backtracking...... poping... 13\n",
            "Backtracking...... poping... 12\n",
            "Backtracking...... poping... 12\n",
            "Backtracking...... poping... 11\n",
            "Backtracking...... poping... 10\n",
            "Backtracking...... poping... 9\n",
            "Backtracking...... poping... 14\n",
            "Backtracking...... poping... 13\n",
            "Backtracking...... poping... 12\n",
            "Backtracking...... poping... 14\n",
            "Backtracking...... poping... 13\n",
            "Backtracking...... poping... 12\n",
            "Backtracking...... poping... 11\n",
            "Backtracking...... poping... 11\n",
            "Backtracking...... poping... 10\n",
            "Backtracking...... poping... 9\n",
            "Backtracking...... poping... 11\n",
            "Backtracking...... poping... 14\n",
            "Backtracking...... poping... 13\n",
            "Backtracking...... poping... 12\n",
            "Backtracking...... poping... 14\n",
            "Backtracking...... poping... 13\n",
            "Backtracking...... poping... 12\n",
            "Backtracking...... poping... 11\n",
            "Backtracking...... poping... 10\n",
            "Backtracking...... poping... 9\n",
            "Backtracking...... poping... 8\n",
            "Backtracking...... poping... 7\n",
            "Backtracking...... poping... 6\n",
            "Backtracking...... poping... 5\n",
            "Backtracking...... poping... 4\n",
            "Backtracking...... poping... 3\n",
            "Backtracking...... poping... 2\n",
            "Backtracking...... poping... 10\n",
            "Backtracking...... poping... 13\n",
            "Backtracking...... poping... 12\n",
            "Backtracking...... poping... 11\n",
            "Backtracking...... poping... 13\n",
            "Backtracking...... poping... 12\n",
            "Backtracking...... poping... 11\n",
            "Backtracking...... poping... 10\n",
            "Backtracking...... poping... 9\n",
            "Backtracking...... poping... 8\n",
            "Backtracking...... poping... 7\n",
            "Backtracking...... poping... 12\n",
            "Backtracking...... poping... 13\n",
            "Backtracking...... poping... 12\n",
            "Backtracking...... poping... 11\n",
            "Backtracking...... poping... 10\n",
            "Backtracking...... poping... 9\n",
            "Backtracking...... poping... 8\n",
            "Backtracking...... poping... 10\n",
            "Backtracking...... poping... 11\n",
            "Backtracking...... poping... 10\n",
            "Backtracking...... poping... 9\n",
            "Backtracking...... poping... 10\n",
            "Backtracking...... poping... 9\n",
            "Backtracking...... poping... 8\n",
            "Backtracking...... poping... 7\n",
            "Backtracking...... poping... 7\n",
            "Backtracking...... poping... 6\n",
            "Backtracking...... poping... 5\n",
            "Backtracking...... poping... 8\n",
            "Backtracking...... poping... 12\n",
            "Backtracking...... poping... 11\n",
            "Backtracking...... poping... 10\n",
            "Backtracking...... poping... 9\n",
            "Backtracking...... poping... 9\n",
            "Backtracking...... poping... 9\n",
            "Backtracking...... poping... 8\n",
            "Backtracking...... poping... 7\n",
            "Backtracking...... poping... 8\n",
            "Backtracking...... poping... 12\n",
            "Backtracking...... poping... 11\n",
            "Backtracking...... poping... 11\n",
            "Backtracking...... poping... 11\n",
            "Backtracking...... poping... 10\n",
            "Backtracking...... poping... 9\n",
            "Backtracking...... poping... 8\n",
            "Backtracking...... poping... 7\n",
            "Backtracking...... poping... 6\n",
            "Backtracking...... poping... 12\n",
            "Backtracking...... poping... 12\n",
            "Backtracking...... poping... 11\n",
            "Backtracking...... poping... 10\n",
            "Backtracking...... poping... 9\n",
            "Backtracking...... poping... 9\n",
            "Backtracking...... poping... 9\n",
            "Backtracking...... poping... 8\n",
            "Backtracking...... poping... 10\n",
            "Backtracking...... poping... 13\n",
            "Backtracking...... poping... 13\n",
            "Backtracking...... poping... 12\n",
            "Backtracking...... poping... 11\n",
            "Backtracking...... poping... 10\n",
            "Backtracking...... poping... 9\n",
            "Backtracking...... poping... 8\n",
            "Backtracking...... poping... 7\n",
            "Backtracking...... poping... 6\n",
            "Backtracking...... poping... 5\n",
            "Backtracking...... poping... 10\n",
            "Backtracking...... poping... 13\n",
            "Backtracking...... poping... 12\n",
            "Backtracking...... poping... 11\n",
            "Backtracking...... poping... 13\n",
            "Backtracking...... poping... 12\n",
            "Backtracking...... poping... 11\n",
            "Backtracking...... poping... 10\n",
            "Backtracking...... poping... 9\n",
            "Backtracking...... poping... 8\n",
            "Backtracking...... poping... 7\n",
            "Backtracking...... poping... 12\n",
            "Backtracking...... poping... 13\n",
            "Backtracking...... poping... 12\n",
            "Backtracking...... poping... 11\n",
            "Backtracking...... poping... 10\n",
            "Backtracking...... poping... 9\n",
            "Backtracking...... poping... 8\n",
            "Backtracking...... poping... 10\n",
            "Backtracking...... poping... 11\n",
            "Backtracking...... poping... 10\n",
            "Backtracking...... poping... 9\n",
            "Backtracking...... poping... 10\n",
            "Backtracking...... poping... 9\n",
            "Backtracking...... poping... 8\n",
            "Backtracking...... poping... 7\n",
            "Backtracking...... poping... 7\n",
            "Backtracking...... poping... 6\n",
            "Backtracking...... poping... 5\n",
            "Backtracking...... poping... 4\n",
            "Backtracking...... poping... 12\n",
            "Backtracking...... poping... 11\n",
            "Backtracking...... poping... 10\n",
            "Backtracking...... poping... 11\n",
            "Backtracking...... poping... 11\n",
            "Backtracking...... poping... 10\n",
            "Backtracking...... poping... 9\n",
            "Backtracking...... poping... 8\n",
            "Backtracking...... poping... 10\n",
            "Backtracking...... poping... 9\n",
            "Backtracking...... poping... 11\n",
            "Backtracking...... poping... 11\n",
            "Backtracking...... poping... 10\n",
            "Backtracking...... poping... 10\n",
            "Backtracking...... poping... 9\n",
            "Backtracking...... poping... 8\n",
            "Backtracking...... poping... 7\n",
            "Backtracking...... poping... 12\n",
            "Backtracking...... poping... 11\n",
            "Backtracking...... poping... 12\n",
            "Backtracking...... poping... 11\n",
            "Backtracking...... poping... 10\n",
            "Backtracking...... poping... 14\n",
            "Backtracking...... poping... 13\n",
            "Backtracking...... poping... 12\n",
            "Backtracking...... poping... 11\n",
            "Backtracking...... poping... 10\n",
            "Backtracking...... poping... 9\n",
            "Backtracking...... poping... 9\n",
            "Backtracking...... poping... 8\n",
            "Backtracking...... poping... 7\n",
            "Backtracking...... poping... 9\n",
            "Backtracking...... poping... 12\n",
            "Backtracking...... poping... 11\n",
            "Backtracking...... poping... 12\n",
            "Backtracking...... poping... 11\n",
            "Backtracking...... poping... 10\n",
            "Backtracking...... poping... 14\n",
            "Backtracking...... poping... 13\n",
            "Backtracking...... poping... 12\n",
            "Backtracking...... poping... 11\n",
            "Backtracking...... poping... 10\n",
            "Backtracking...... poping... 9\n",
            "Backtracking...... poping... 8\n",
            "Backtracking...... poping... 7\n",
            "Backtracking...... poping... 6\n",
            "Backtracking...... poping... 5\n",
            "Backtracking...... poping... 6\n",
            "Backtracking...... poping... 13\n",
            "Backtracking...... poping... 13\n",
            "Backtracking...... poping... 12\n",
            "Backtracking...... poping... 11\n",
            "Backtracking...... poping... 13\n",
            "Backtracking...... poping... 13\n",
            "Backtracking...... poping... 12\n",
            "Backtracking...... poping... 11\n",
            "Backtracking...... poping... 10\n",
            "Backtracking...... poping... 9\n",
            "Backtracking...... poping... 8\n",
            "Backtracking...... poping... 9\n",
            "Backtracking...... poping... 12\n",
            "Backtracking...... poping... 11\n",
            "Backtracking...... poping... 11\n",
            "Backtracking...... poping... 10\n",
            "Backtracking...... poping... 9\n",
            "Backtracking...... poping... 11\n",
            "Backtracking...... poping... 12\n",
            "Backtracking...... poping... 11\n",
            "Backtracking...... poping... 10\n",
            "Backtracking...... poping... 9\n",
            "Backtracking...... poping... 8\n",
            "Backtracking...... poping... 7\n",
            "Backtracking...... poping... 11\n",
            "Backtracking...... poping... 12\n",
            "Backtracking...... poping... 11\n",
            "Backtracking...... poping... 11\n",
            "Backtracking...... poping... 10\n",
            "Backtracking...... poping... 9\n",
            "Backtracking...... poping... 11\n",
            "Backtracking...... poping... 12\n",
            "Backtracking...... poping... 11\n",
            "Backtracking...... poping... 11\n",
            "Backtracking...... poping... 10\n",
            "Backtracking...... poping... 9\n",
            "Backtracking...... poping... 8\n",
            "Backtracking...... poping... 11\n",
            "Backtracking...... poping... 13\n",
            "Backtracking...... poping... 12\n",
            "Backtracking...... poping... 11\n",
            "Backtracking...... poping... 13\n",
            "Backtracking...... poping... 12\n",
            "Backtracking...... poping... 11\n",
            "Backtracking...... poping... 10\n",
            "Backtracking...... poping... 9\n",
            "Backtracking...... poping... 8\n",
            "Backtracking...... poping... 7\n",
            "Backtracking...... poping... 6\n",
            "Backtracking...... poping... 5\n",
            "Backtracking...... poping... 4\n",
            "Backtracking...... poping... 3\n",
            "Backtracking...... poping... 10\n",
            "Backtracking...... poping... 13\n",
            "Backtracking...... poping... 13\n",
            "Backtracking...... poping... 12\n",
            "Backtracking...... poping... 11\n",
            "Backtracking...... poping... 10\n",
            "Backtracking...... poping... 9\n",
            "Backtracking...... poping... 8\n",
            "Backtracking...... poping... 9\n",
            "Backtracking...... poping... 12\n",
            "Backtracking...... poping... 12\n",
            "Backtracking...... poping... 11\n",
            "Backtracking...... poping... 10\n",
            "Backtracking...... poping... 9\n",
            "Backtracking...... poping... 9\n",
            "Backtracking...... poping... 8\n",
            "Backtracking...... poping... 7\n",
            "Backtracking...... poping... 6\n",
            "Backtracking...... poping... 8\n",
            "Backtracking...... poping... 11\n",
            "Backtracking...... poping... 12\n",
            "Backtracking...... poping... 11\n",
            "Backtracking...... poping... 11\n",
            "Backtracking...... poping... 10\n",
            "Backtracking...... poping... 9\n",
            "Backtracking...... poping... 8\n",
            "Backtracking...... poping... 7\n",
            "Backtracking...... poping... 9\n",
            "Backtracking...... poping... 12\n",
            "Backtracking...... poping... 11\n",
            "Backtracking...... poping... 10\n",
            "Backtracking...... poping... 9\n",
            "Backtracking...... poping... 9\n",
            "Backtracking...... poping... 8\n",
            "Backtracking...... poping... 8\n",
            "Backtracking...... poping... 7\n",
            "Backtracking...... poping... 6\n",
            "Backtracking...... poping... 5\n",
            "Backtracking...... poping... 10\n",
            "Backtracking...... poping... 13\n",
            "Backtracking...... poping... 12\n",
            "Backtracking...... poping... 11\n",
            "Backtracking...... poping... 13\n",
            "Backtracking...... poping... 12\n",
            "Backtracking...... poping... 11\n",
            "Backtracking...... poping... 10\n",
            "Backtracking...... poping... 9\n",
            "Backtracking...... poping... 8\n",
            "Backtracking...... poping... 7\n",
            "Backtracking...... poping... 10\n",
            "Backtracking...... poping... 9\n",
            "Backtracking...... poping... 10\n",
            "Backtracking...... poping... 11\n",
            "Backtracking...... poping... 10\n",
            "Backtracking...... poping... 9\n",
            "Backtracking...... poping... 8\n",
            "Backtracking...... poping... 12\n",
            "Backtracking...... poping... 13\n",
            "Backtracking...... poping... 12\n",
            "Backtracking...... poping... 11\n",
            "Backtracking...... poping... 10\n",
            "Backtracking...... poping... 9\n",
            "Backtracking...... poping... 8\n",
            "Backtracking...... poping... 7\n",
            "Backtracking...... poping... 7\n",
            "Backtracking...... poping... 6\n",
            "Backtracking...... poping... 5\n",
            "Backtracking...... poping... 7\n",
            "Backtracking...... poping... 10\n",
            "Backtracking...... poping... 13\n",
            "Backtracking...... poping... 12\n",
            "Backtracking...... poping... 11\n",
            "Backtracking...... poping... 13\n",
            "Backtracking...... poping... 12\n",
            "Backtracking...... poping... 11\n",
            "Backtracking...... poping... 10\n",
            "Backtracking...... poping... 9\n",
            "Backtracking...... poping... 8\n",
            "Backtracking...... poping... 7\n",
            "Backtracking...... poping... 10\n",
            "Backtracking...... poping... 9\n",
            "Backtracking...... poping... 10\n",
            "Backtracking...... poping... 11\n",
            "Backtracking...... poping... 10\n",
            "Backtracking...... poping... 9\n",
            "Backtracking...... poping... 8\n",
            "Backtracking...... poping... 12\n",
            "Backtracking...... poping... 13\n",
            "Backtracking...... poping... 12\n",
            "Backtracking...... poping... 11\n",
            "Backtracking...... poping... 10\n",
            "Backtracking...... poping... 9\n",
            "Backtracking...... poping... 8\n",
            "Backtracking...... poping... 7\n",
            "Backtracking...... poping... 6\n",
            "Backtracking...... poping... 5\n",
            "Backtracking...... poping... 4\n",
            "Backtracking...... poping... 6\n",
            "Backtracking...... poping... 13\n",
            "Backtracking...... poping... 12\n",
            "Backtracking...... poping... 11\n",
            "Backtracking...... poping... 11\n",
            "Backtracking...... poping... 13\n",
            "Backtracking...... poping... 12\n",
            "Backtracking...... poping... 11\n",
            "Backtracking...... poping... 10\n",
            "Backtracking...... poping... 9\n",
            "Backtracking...... poping... 8\n",
            "Backtracking...... poping... 11\n",
            "Backtracking...... poping... 12\n",
            "Backtracking...... poping... 11\n",
            "Backtracking...... poping... 11\n",
            "Backtracking...... poping... 10\n",
            "Backtracking...... poping... 9\n",
            "Backtracking...... poping... 11\n",
            "Backtracking...... poping... 11\n",
            "Backtracking...... poping... 12\n",
            "Backtracking...... poping... 11\n",
            "Backtracking...... poping... 10\n",
            "Backtracking...... poping... 9\n",
            "Backtracking...... poping... 8\n",
            "Backtracking...... poping... 7\n",
            "Backtracking...... poping... 12\n",
            "Backtracking...... poping... 11\n",
            "Backtracking...... poping... 11\n",
            "Backtracking...... poping... 10\n",
            "Backtracking...... poping... 9\n",
            "Backtracking...... poping... 9\n",
            "Backtracking...... poping... 12\n",
            "Backtracking...... poping... 11\n",
            "Backtracking...... poping... 11\n",
            "Backtracking...... poping... 10\n",
            "Backtracking...... poping... 9\n",
            "Backtracking...... poping... 8\n",
            "Backtracking...... poping... 13\n",
            "Backtracking...... poping... 13\n",
            "Backtracking...... poping... 12\n",
            "Backtracking...... poping... 11\n",
            "Backtracking...... poping... 13\n",
            "Backtracking...... poping... 13\n",
            "Backtracking...... poping... 12\n",
            "Backtracking...... poping... 11\n",
            "Backtracking...... poping... 10\n",
            "Backtracking...... poping... 9\n",
            "Backtracking...... poping... 8\n",
            "Backtracking...... poping... 7\n",
            "Backtracking...... poping... 6\n",
            "Backtracking...... poping... 5\n",
            "Backtracking...... poping... 14\n",
            "Backtracking...... poping... 13\n",
            "Backtracking...... poping... 12\n",
            "Backtracking...... poping... 11\n",
            "Backtracking...... poping... 10\n",
            "Backtracking...... poping... 12\n",
            "Backtracking...... poping... 11\n",
            "Backtracking...... poping... 12\n",
            "Backtracking...... poping... 11\n",
            "Backtracking...... poping... 10\n",
            "Backtracking...... poping... 9\n",
            "Backtracking...... poping... 9\n",
            "Backtracking...... poping... 8\n",
            "Backtracking...... poping... 7\n",
            "Backtracking...... poping... 10\n",
            "Backtracking...... poping... 11\n",
            "Backtracking...... poping... 11\n",
            "Backtracking...... poping... 10\n",
            "Backtracking...... poping... 9\n",
            "Backtracking...... poping... 10\n",
            "Backtracking...... poping... 9\n",
            "Backtracking...... poping... 8\n",
            "Backtracking...... poping... 11\n",
            "Backtracking...... poping... 11\n",
            "Backtracking...... poping... 10\n",
            "Backtracking...... poping... 12\n",
            "Backtracking...... poping... 11\n",
            "Backtracking...... poping... 10\n",
            "Backtracking...... poping... 9\n",
            "Backtracking...... poping... 8\n",
            "Backtracking...... poping... 7\n",
            "Backtracking...... poping... 14\n",
            "Backtracking...... poping... 13\n",
            "Backtracking...... poping... 12\n",
            "Backtracking...... poping... 11\n",
            "Backtracking...... poping... 10\n",
            "Backtracking...... poping... 12\n",
            "Backtracking...... poping... 11\n",
            "Backtracking...... poping... 12\n",
            "Backtracking...... poping... 11\n",
            "Backtracking...... poping... 10\n",
            "Backtracking...... poping... 9\n",
            "Backtracking...... poping... 9\n",
            "Backtracking...... poping... 8\n",
            "Backtracking...... poping... 7\n",
            "Backtracking...... poping... 6\n",
            "Backtracking...... poping... 5\n",
            "Backtracking...... poping... 4\n",
            "Backtracking...... poping... 3\n",
            "Backtracking...... poping... 2\n",
            "Backtracking...... poping... 9\n",
            "Backtracking...... poping... 12\n",
            "Backtracking...... poping... 12\n",
            "Backtracking...... poping... 11\n",
            "Backtracking...... poping... 10\n",
            "Backtracking...... poping... 9\n",
            "Backtracking...... poping... 9\n",
            "Backtracking...... poping... 8\n",
            "Backtracking...... poping... 10\n",
            "Backtracking...... poping... 13\n",
            "Backtracking...... poping... 13\n",
            "Backtracking...... poping... 12\n",
            "Backtracking...... poping... 11\n",
            "Backtracking...... poping... 10\n",
            "Backtracking...... poping... 9\n",
            "Backtracking...... poping... 8\n",
            "Backtracking...... poping... 7\n",
            "Backtracking...... poping... 6\n",
            "Backtracking...... poping... 8\n",
            "Backtracking...... poping... 11\n",
            "Backtracking...... poping... 12\n",
            "Backtracking...... poping... 11\n",
            "Backtracking...... poping... 11\n",
            "Backtracking...... poping... 10\n",
            "Backtracking...... poping... 9\n",
            "Backtracking...... poping... 8\n",
            "Backtracking...... poping... 7\n",
            "Backtracking...... poping... 9\n",
            "Backtracking...... poping... 12\n",
            "Backtracking...... poping... 11\n",
            "Backtracking...... poping... 10\n",
            "Backtracking...... poping... 9\n",
            "Backtracking...... poping... 9\n",
            "Backtracking...... poping... 8\n",
            "Backtracking...... poping... 8\n",
            "Backtracking...... poping... 7\n",
            "Backtracking...... poping... 6\n",
            "Backtracking...... poping... 5\n",
            "Backtracking...... poping... 12\n",
            "Backtracking...... poping... 13\n",
            "Backtracking...... poping... 12\n",
            "Backtracking...... poping... 11\n",
            "Backtracking...... poping... 10\n",
            "Backtracking...... poping... 9\n",
            "Backtracking...... poping... 8\n",
            "Backtracking...... poping... 10\n",
            "Backtracking...... poping... 9\n",
            "Backtracking...... poping... 10\n",
            "Backtracking...... poping... 11\n",
            "Backtracking...... poping... 10\n",
            "Backtracking...... poping... 9\n",
            "Backtracking...... poping... 8\n",
            "Backtracking...... poping... 7\n",
            "Backtracking...... poping... 10\n",
            "Backtracking...... poping... 13\n",
            "Backtracking...... poping... 12\n",
            "Backtracking...... poping... 11\n",
            "Backtracking...... poping... 13\n",
            "Backtracking...... poping... 12\n",
            "Backtracking...... poping... 11\n",
            "Backtracking...... poping... 10\n",
            "Backtracking...... poping... 9\n",
            "Backtracking...... poping... 8\n",
            "Backtracking...... poping... 7\n",
            "Backtracking...... poping... 7\n",
            "Backtracking...... poping... 6\n",
            "Backtracking...... poping... 5\n",
            "Backtracking...... poping... 7\n",
            "Backtracking...... poping... 12\n",
            "Backtracking...... poping... 13\n",
            "Backtracking...... poping... 12\n",
            "Backtracking...... poping... 11\n",
            "Backtracking...... poping... 10\n",
            "Backtracking...... poping... 9\n",
            "Backtracking...... poping... 8\n",
            "Backtracking...... poping... 10\n",
            "Backtracking...... poping... 9\n",
            "Backtracking...... poping... 10\n",
            "Backtracking...... poping... 11\n",
            "Backtracking...... poping... 10\n",
            "Backtracking...... poping... 9\n",
            "Backtracking...... poping... 8\n",
            "Backtracking...... poping... 7\n",
            "Backtracking...... poping... 10\n",
            "Backtracking...... poping... 13\n",
            "Backtracking...... poping... 12\n",
            "Backtracking...... poping... 11\n",
            "Backtracking...... poping... 13\n",
            "Backtracking...... poping... 12\n",
            "Backtracking...... poping... 11\n",
            "Backtracking...... poping... 10\n",
            "Backtracking...... poping... 9\n",
            "Backtracking...... poping... 8\n",
            "Backtracking...... poping... 7\n",
            "Backtracking...... poping... 6\n",
            "Backtracking...... poping... 5\n",
            "Backtracking...... poping... 4\n",
            "Backtracking...... poping... 6\n",
            "Backtracking...... poping... 13\n",
            "Backtracking...... poping... 12\n",
            "Backtracking...... poping... 11\n",
            "Backtracking...... poping... 11\n",
            "Backtracking...... poping... 13\n",
            "Backtracking...... poping... 12\n",
            "Backtracking...... poping... 11\n",
            "Backtracking...... poping... 10\n",
            "Backtracking...... poping... 9\n",
            "Backtracking...... poping... 8\n",
            "Backtracking...... poping... 12\n",
            "Backtracking...... poping... 11\n",
            "Backtracking...... poping... 11\n",
            "Backtracking...... poping... 11\n",
            "Backtracking...... poping... 10\n",
            "Backtracking...... poping... 9\n",
            "Backtracking...... poping... 11\n",
            "Backtracking...... poping... 12\n",
            "Backtracking...... poping... 11\n",
            "Backtracking...... poping... 11\n",
            "Backtracking...... poping... 10\n",
            "Backtracking...... poping... 9\n",
            "Backtracking...... poping... 8\n",
            "Backtracking...... poping... 7\n",
            "Backtracking...... poping... 12\n",
            "Backtracking...... poping... 11\n",
            "Backtracking...... poping... 11\n",
            "Backtracking...... poping... 10\n",
            "Backtracking...... poping... 9\n",
            "Backtracking...... poping... 9\n",
            "Backtracking...... poping... 12\n",
            "Backtracking...... poping... 11\n",
            "Backtracking...... poping... 11\n",
            "Backtracking...... poping... 10\n",
            "Backtracking...... poping... 9\n",
            "Backtracking...... poping... 8\n",
            "Backtracking...... poping... 13\n",
            "Backtracking...... poping... 13\n",
            "Backtracking...... poping... 12\n",
            "Backtracking...... poping... 11\n",
            "Backtracking...... poping... 13\n",
            "Backtracking...... poping... 13\n",
            "Backtracking...... poping... 12\n",
            "Backtracking...... poping... 11\n",
            "Backtracking...... poping... 10\n",
            "Backtracking...... poping... 9\n",
            "Backtracking...... poping... 8\n",
            "Backtracking...... poping... 7\n",
            "Backtracking...... poping... 6\n",
            "Backtracking...... poping... 5\n",
            "Backtracking...... poping... 14\n",
            "Backtracking...... poping... 13\n",
            "Backtracking...... poping... 12\n",
            "Backtracking...... poping... 11\n",
            "Backtracking...... poping... 10\n",
            "Backtracking...... poping... 12\n",
            "Backtracking...... poping... 11\n",
            "Backtracking...... poping... 12\n",
            "Backtracking...... poping... 11\n",
            "Backtracking...... poping... 10\n",
            "Backtracking...... poping... 9\n",
            "Backtracking...... poping... 9\n",
            "Backtracking...... poping... 8\n",
            "Backtracking...... poping... 7\n",
            "Backtracking...... poping... 11\n",
            "Backtracking...... poping... 11\n",
            "Backtracking...... poping... 10\n",
            "Backtracking...... poping... 12\n",
            "Backtracking...... poping... 11\n",
            "Backtracking...... poping... 10\n",
            "Backtracking...... poping... 9\n",
            "Backtracking...... poping... 8\n",
            "Backtracking...... poping... 10\n",
            "Backtracking...... poping... 11\n",
            "Backtracking...... poping... 11\n",
            "Backtracking...... poping... 10\n",
            "Backtracking...... poping... 9\n",
            "Backtracking...... poping... 10\n",
            "Backtracking...... poping... 9\n",
            "Backtracking...... poping... 8\n",
            "Backtracking...... poping... 7\n",
            "Backtracking...... poping... 14\n",
            "Backtracking...... poping... 13\n",
            "Backtracking...... poping... 12\n",
            "Backtracking...... poping... 11\n",
            "Backtracking...... poping... 10\n",
            "Backtracking...... poping... 12\n",
            "Backtracking...... poping... 11\n",
            "Backtracking...... poping... 12\n",
            "Backtracking...... poping... 11\n",
            "Backtracking...... poping... 10\n",
            "Backtracking...... poping... 9\n",
            "Backtracking...... poping... 9\n",
            "Backtracking...... poping... 8\n",
            "Backtracking...... poping... 7\n",
            "Backtracking...... poping... 6\n",
            "Backtracking...... poping... 5\n",
            "Backtracking...... poping... 4\n",
            "Backtracking...... poping... 3\n",
            "Backtracking...... poping... 11\n",
            "Backtracking...... poping... 11\n",
            "Backtracking...... poping... 10\n",
            "Backtracking...... poping... 12\n",
            "Backtracking...... poping... 11\n",
            "Backtracking...... poping... 10\n",
            "Backtracking...... poping... 9\n",
            "Backtracking...... poping... 8\n",
            "Backtracking...... poping... 10\n",
            "Backtracking...... poping... 9\n",
            "Backtracking...... poping... 11\n",
            "Backtracking...... poping... 11\n",
            "Backtracking...... poping... 10\n",
            "Backtracking...... poping... 10\n",
            "Backtracking...... poping... 9\n",
            "Backtracking...... poping... 8\n",
            "Backtracking...... poping... 7\n",
            "Backtracking...... poping... 14\n",
            "Backtracking...... poping... 13\n",
            "Backtracking...... poping... 12\n",
            "Backtracking...... poping... 11\n",
            "Backtracking...... poping... 10\n",
            "Backtracking...... poping... 12\n",
            "Backtracking...... poping... 11\n",
            "Backtracking...... poping... 12\n",
            "Backtracking...... poping... 11\n",
            "Backtracking...... poping... 10\n",
            "Backtracking...... poping... 9\n",
            "Backtracking...... poping... 9\n",
            "Backtracking...... poping... 8\n",
            "Backtracking...... poping... 7\n",
            "Backtracking...... poping... 9\n",
            "Backtracking...... poping... 14\n",
            "Backtracking...... poping... 13\n",
            "Backtracking...... poping... 12\n",
            "Backtracking...... poping... 11\n",
            "Backtracking...... poping... 10\n",
            "Backtracking...... poping... 12\n",
            "Backtracking...... poping... 11\n",
            "Backtracking...... poping... 12\n",
            "Backtracking...... poping... 11\n",
            "Backtracking...... poping... 10\n",
            "Backtracking...... poping... 9\n",
            "Backtracking...... poping... 8\n",
            "Backtracking...... poping... 7\n",
            "Backtracking...... poping... 6\n",
            "Backtracking...... poping... 5\n",
            "Backtracking...... poping... 6\n",
            "Backtracking...... poping... 13\n",
            "Backtracking...... poping... 13\n",
            "Backtracking...... poping... 12\n",
            "Backtracking...... poping... 11\n",
            "Backtracking...... poping... 13\n",
            "Backtracking...... poping... 13\n",
            "Backtracking...... poping... 12\n",
            "Backtracking...... poping... 11\n",
            "Backtracking...... poping... 10\n",
            "Backtracking...... poping... 9\n",
            "Backtracking...... poping... 8\n",
            "Backtracking...... poping... 9\n",
            "Backtracking...... poping... 12\n",
            "Backtracking...... poping... 11\n",
            "Backtracking...... poping... 11\n",
            "Backtracking...... poping... 10\n",
            "Backtracking...... poping... 9\n",
            "Backtracking...... poping... 11\n",
            "Backtracking...... poping... 12\n",
            "Backtracking...... poping... 11\n",
            "Backtracking...... poping... 10\n",
            "Backtracking...... poping... 9\n",
            "Backtracking...... poping... 8\n",
            "Backtracking...... poping... 7\n",
            "Backtracking...... poping... 12\n",
            "Backtracking...... poping... 11\n",
            "Backtracking...... poping... 11\n",
            "Backtracking...... poping... 11\n",
            "Backtracking...... poping... 10\n",
            "Backtracking...... poping... 9\n",
            "Backtracking...... poping... 12\n",
            "Backtracking...... poping... 11\n",
            "Backtracking...... poping... 11\n",
            "Backtracking...... poping... 11\n",
            "Backtracking...... poping... 10\n",
            "Backtracking...... poping... 9\n",
            "Backtracking...... poping... 8\n",
            "Backtracking...... poping... 11\n",
            "Backtracking...... poping... 13\n",
            "Backtracking...... poping... 12\n",
            "Backtracking...... poping... 11\n",
            "Backtracking...... poping... 13\n",
            "Backtracking...... poping... 12\n",
            "Backtracking...... poping... 11\n",
            "Backtracking...... poping... 10\n",
            "Backtracking...... poping... 9\n",
            "Backtracking...... poping... 8\n",
            "Backtracking...... poping... 7\n",
            "Backtracking...... poping... 6\n",
            "Backtracking...... poping... 5\n",
            "Backtracking...... poping... 4\n",
            "Backtracking...... poping... 12\n",
            "Backtracking...... poping... 13\n",
            "Backtracking...... poping... 12\n",
            "Backtracking...... poping... 11\n",
            "Backtracking...... poping... 10\n",
            "Backtracking...... poping... 9\n",
            "Backtracking...... poping... 8\n",
            "Backtracking...... poping... 10\n",
            "Backtracking...... poping... 11\n",
            "Backtracking...... poping... 10\n",
            "Backtracking...... poping... 9\n",
            "Backtracking...... poping... 10\n",
            "Backtracking...... poping... 9\n",
            "Backtracking...... poping... 8\n",
            "Backtracking...... poping... 7\n",
            "Backtracking...... poping... 10\n",
            "Backtracking...... poping... 13\n",
            "Backtracking...... poping... 12\n",
            "Backtracking...... poping... 11\n",
            "Backtracking...... poping... 13\n",
            "Backtracking...... poping... 12\n",
            "Backtracking...... poping... 11\n",
            "Backtracking...... poping... 10\n",
            "Backtracking...... poping... 9\n",
            "Backtracking...... poping... 8\n",
            "Backtracking...... poping... 7\n",
            "Backtracking...... poping... 7\n",
            "Backtracking...... poping... 6\n",
            "Backtracking...... poping... 5\n",
            "Backtracking...... poping... 12\n",
            "Backtracking...... poping... 12\n",
            "Backtracking...... poping... 11\n",
            "Backtracking...... poping... 10\n",
            "Backtracking...... poping... 9\n",
            "Backtracking...... poping... 9\n",
            "Backtracking...... poping... 9\n",
            "Backtracking...... poping... 8\n",
            "Backtracking...... poping... 10\n",
            "Backtracking...... poping... 13\n",
            "Backtracking...... poping... 13\n",
            "Backtracking...... poping... 12\n",
            "Backtracking...... poping... 11\n",
            "Backtracking...... poping... 10\n",
            "Backtracking...... poping... 9\n",
            "Backtracking...... poping... 8\n",
            "Backtracking...... poping... 7\n",
            "Backtracking...... poping... 6\n",
            "Backtracking...... poping... 8\n",
            "Backtracking...... poping... 12\n",
            "Backtracking...... poping... 11\n",
            "Backtracking...... poping... 10\n",
            "Backtracking...... poping... 9\n",
            "Backtracking...... poping... 9\n",
            "Backtracking...... poping... 9\n",
            "Backtracking...... poping... 8\n",
            "Backtracking...... poping... 7\n",
            "Backtracking...... poping... 8\n",
            "Backtracking...... poping... 12\n",
            "Backtracking...... poping... 11\n",
            "Backtracking...... poping... 11\n",
            "Backtracking...... poping... 11\n",
            "Backtracking...... poping... 10\n",
            "Backtracking...... poping... 9\n",
            "Backtracking...... poping... 8\n",
            "Backtracking...... poping... 7\n",
            "Backtracking...... poping... 6\n",
            "Backtracking...... poping... 5\n",
            "Backtracking...... poping... 12\n",
            "Backtracking...... poping... 13\n",
            "Backtracking...... poping... 12\n",
            "Backtracking...... poping... 11\n",
            "Backtracking...... poping... 10\n",
            "Backtracking...... poping... 9\n",
            "Backtracking...... poping... 8\n",
            "Backtracking...... poping... 10\n",
            "Backtracking...... poping... 11\n",
            "Backtracking...... poping... 10\n",
            "Backtracking...... poping... 9\n",
            "Backtracking...... poping... 10\n",
            "Backtracking...... poping... 9\n",
            "Backtracking...... poping... 8\n",
            "Backtracking...... poping... 7\n",
            "Backtracking...... poping... 10\n",
            "Backtracking...... poping... 13\n",
            "Backtracking...... poping... 12\n",
            "Backtracking...... poping... 11\n",
            "Backtracking...... poping... 13\n",
            "Backtracking...... poping... 12\n",
            "Backtracking...... poping... 11\n",
            "Backtracking...... poping... 10\n",
            "Backtracking...... poping... 9\n",
            "Backtracking...... poping... 8\n",
            "Backtracking...... poping... 7\n",
            "Backtracking...... poping... 7\n",
            "Backtracking...... poping... 6\n",
            "Backtracking...... poping... 5\n",
            "Backtracking...... poping... 4\n",
            "Backtracking...... poping... 3\n",
            "Backtracking...... poping... 2\n",
            "Backtracking...... poping... 1\n",
            "Backtracking...... poping... 10\n",
            "Backtracking...... poping... 9\n",
            "Backtracking...... poping... 12\n",
            "Backtracking...... poping... 11\n",
            "Backtracking...... poping... 10\n",
            "Backtracking...... poping... 12\n",
            "Backtracking...... poping... 11\n",
            "Backtracking...... poping... 10\n",
            "Backtracking...... poping... 9\n",
            "Backtracking...... poping... 9\n",
            "Backtracking...... poping... 8\n",
            "Backtracking...... poping... 7\n",
            "Backtracking...... poping... 10\n",
            "Backtracking...... poping... 12\n",
            "Backtracking...... poping... 11\n",
            "Backtracking...... poping... 11\n",
            "Backtracking...... poping... 11\n",
            "Backtracking...... poping... 10\n",
            "Backtracking...... poping... 9\n",
            "Backtracking...... poping... 8\n",
            "Backtracking...... poping... 12\n",
            "Backtracking...... poping... 11\n",
            "Backtracking...... poping... 11\n",
            "Backtracking...... poping... 11\n",
            "Backtracking...... poping... 10\n",
            "Backtracking...... poping... 10\n",
            "Backtracking...... poping... 9\n",
            "Backtracking...... poping... 8\n",
            "Backtracking...... poping... 7\n",
            "Backtracking...... poping... 10\n",
            "Backtracking...... poping... 9\n",
            "Backtracking...... poping... 12\n",
            "Backtracking...... poping... 11\n",
            "Backtracking...... poping... 10\n",
            "Backtracking...... poping... 12\n",
            "Backtracking...... poping... 11\n",
            "Backtracking...... poping... 10\n",
            "Backtracking...... poping... 9\n",
            "Backtracking...... poping... 9\n",
            "Backtracking...... poping... 8\n",
            "Backtracking...... poping... 7\n",
            "Backtracking...... poping... 6\n",
            "Backtracking...... poping... 12\n",
            "Backtracking...... poping... 13\n",
            "Backtracking...... poping... 13\n",
            "Backtracking...... poping... 12\n",
            "Backtracking...... poping... 11\n",
            "Backtracking...... poping... 10\n",
            "Backtracking...... poping... 13\n",
            "Backtracking...... poping... 13\n",
            "Backtracking...... poping... 12\n",
            "Backtracking...... poping... 12\n",
            "Backtracking...... poping... 11\n",
            "Backtracking...... poping... 10\n",
            "Backtracking...... poping... 9\n",
            "Backtracking...... poping... 14\n",
            "Backtracking...... poping... 13\n",
            "Backtracking...... poping... 12\n",
            "Backtracking...... poping... 14\n",
            "Backtracking...... poping... 13\n",
            "Backtracking...... poping... 12\n",
            "Backtracking...... poping... 11\n",
            "Backtracking...... poping... 11\n",
            "Backtracking...... poping... 10\n",
            "Backtracking...... poping... 9\n",
            "Backtracking...... poping... 11\n",
            "Backtracking...... poping... 14\n",
            "Backtracking...... poping... 13\n",
            "Backtracking...... poping... 12\n",
            "Backtracking...... poping... 14\n",
            "Backtracking...... poping... 13\n",
            "Backtracking...... poping... 12\n",
            "Backtracking...... poping... 11\n",
            "Backtracking...... poping... 10\n",
            "Backtracking...... poping... 9\n",
            "Backtracking...... poping... 8\n",
            "Backtracking...... poping... 7\n",
            "Backtracking...... poping... 6\n",
            "Backtracking...... poping... 5\n",
            "Backtracking...... poping... 10\n",
            "Backtracking...... poping... 11\n",
            "Backtracking...... poping... 12\n",
            "Backtracking...... poping... 11\n",
            "Backtracking...... poping... 11\n",
            "Backtracking...... poping... 10\n",
            "Backtracking...... poping... 9\n",
            "Backtracking...... poping... 8\n",
            "Backtracking...... poping... 11\n",
            "Backtracking...... poping... 12\n",
            "Backtracking...... poping... 11\n",
            "Backtracking...... poping... 11\n",
            "Backtracking...... poping... 10\n",
            "Backtracking...... poping... 10\n",
            "Backtracking...... poping... 9\n",
            "Backtracking...... poping... 8\n",
            "Backtracking...... poping... 7\n",
            "Backtracking...... poping... 10\n",
            "Backtracking...... poping... 9\n",
            "Backtracking...... poping... 12\n",
            "Backtracking...... poping... 11\n",
            "Backtracking...... poping... 10\n",
            "Backtracking...... poping... 12\n",
            "Backtracking...... poping... 11\n",
            "Backtracking...... poping... 10\n",
            "Backtracking...... poping... 9\n",
            "Backtracking...... poping... 9\n",
            "Backtracking...... poping... 8\n",
            "Backtracking...... poping... 7\n",
            "Backtracking...... poping... 9\n",
            "Backtracking...... poping... 10\n",
            "Backtracking...... poping... 9\n",
            "Backtracking...... poping... 12\n",
            "Backtracking...... poping... 11\n",
            "Backtracking...... poping... 10\n",
            "Backtracking...... poping... 12\n",
            "Backtracking...... poping... 11\n",
            "Backtracking...... poping... 10\n",
            "Backtracking...... poping... 9\n",
            "Backtracking...... poping... 8\n",
            "Backtracking...... poping... 7\n",
            "Backtracking...... poping... 6\n",
            "Backtracking...... poping... 14\n",
            "Backtracking...... poping... 13\n",
            "Backtracking...... poping... 12\n",
            "Backtracking...... poping... 14\n",
            "Backtracking...... poping... 13\n",
            "Backtracking...... poping... 12\n",
            "Backtracking...... poping... 11\n",
            "Backtracking...... poping... 11\n",
            "Backtracking...... poping... 10\n",
            "Backtracking...... poping... 9\n",
            "Backtracking...... poping... 12\n",
            "Backtracking...... poping... 13\n",
            "Backtracking...... poping... 13\n",
            "Backtracking...... poping... 12\n",
            "Backtracking...... poping... 11\n",
            "Backtracking...... poping... 10\n",
            "Backtracking...... poping... 13\n",
            "Backtracking...... poping... 13\n",
            "Backtracking...... poping... 12\n",
            "Backtracking...... poping... 12\n",
            "Backtracking...... poping... 11\n",
            "Backtracking...... poping... 10\n",
            "Backtracking...... poping... 9\n",
            "Backtracking...... poping... 14\n",
            "Backtracking...... poping... 13\n",
            "Backtracking...... poping... 12\n",
            "Backtracking...... poping... 14\n",
            "Backtracking...... poping... 13\n",
            "Backtracking...... poping... 12\n",
            "Backtracking...... poping... 11\n",
            "Backtracking...... poping... 11\n",
            "Backtracking...... poping... 10\n",
            "Backtracking...... poping... 9\n",
            "Backtracking...... poping... 8\n",
            "Backtracking...... poping... 7\n",
            "Backtracking...... poping... 6\n",
            "Backtracking...... poping... 5\n",
            "Backtracking...... poping... 4\n",
            "Backtracking...... poping... 11\n",
            "Backtracking...... poping... 12\n",
            "Backtracking...... poping... 11\n",
            "Backtracking...... poping... 11\n",
            "Backtracking...... poping... 10\n",
            "Backtracking...... poping... 10\n",
            "Backtracking...... poping... 9\n",
            "Backtracking...... poping... 8\n",
            "Backtracking...... poping... 11\n",
            "Backtracking...... poping... 12\n",
            "Backtracking...... poping... 11\n",
            "Backtracking...... poping... 11\n",
            "Backtracking...... poping... 10\n",
            "Backtracking...... poping... 10\n",
            "Backtracking...... poping... 9\n",
            "Backtracking...... poping... 8\n",
            "Backtracking...... poping... 7\n",
            "Backtracking...... poping... 12\n",
            "Backtracking...... poping... 11\n",
            "Backtracking...... poping... 10\n",
            "Backtracking...... poping... 12\n",
            "Backtracking...... poping... 11\n",
            "Backtracking...... poping... 10\n",
            "Backtracking...... poping... 9\n",
            "Backtracking...... poping... 10\n",
            "Backtracking...... poping... 9\n",
            "Backtracking...... poping... 9\n",
            "Backtracking...... poping... 8\n",
            "Backtracking...... poping... 7\n",
            "Backtracking...... poping... 9\n",
            "Backtracking...... poping... 12\n",
            "Backtracking...... poping... 11\n",
            "Backtracking...... poping... 10\n",
            "Backtracking...... poping... 12\n",
            "Backtracking...... poping... 11\n",
            "Backtracking...... poping... 10\n",
            "Backtracking...... poping... 9\n",
            "Backtracking...... poping... 10\n",
            "Backtracking...... poping... 9\n",
            "Backtracking...... poping... 8\n",
            "Backtracking...... poping... 7\n",
            "Backtracking...... poping... 6\n",
            "Backtracking...... poping... 14\n",
            "Backtracking...... poping... 13\n",
            "Backtracking...... poping... 12\n",
            "Backtracking...... poping... 14\n",
            "Backtracking...... poping... 13\n",
            "Backtracking...... poping... 12\n",
            "Backtracking...... poping... 11\n",
            "Backtracking...... poping... 11\n",
            "Backtracking...... poping... 10\n",
            "Backtracking...... poping... 9\n",
            "Backtracking...... poping... 13\n",
            "Backtracking...... poping... 13\n",
            "Backtracking...... poping... 12\n",
            "Backtracking...... poping... 12\n",
            "Backtracking...... poping... 11\n",
            "Backtracking...... poping... 10\n",
            "Backtracking...... poping... 12\n",
            "Backtracking...... poping... 13\n",
            "Backtracking...... poping... 13\n",
            "Backtracking...... poping... 12\n",
            "Backtracking...... poping... 11\n",
            "Backtracking...... poping... 10\n",
            "Backtracking...... poping... 9\n",
            "Backtracking...... poping... 14\n",
            "Backtracking...... poping... 13\n",
            "Backtracking...... poping... 12\n",
            "Backtracking...... poping... 14\n",
            "Backtracking...... poping... 13\n",
            "Backtracking...... poping... 12\n",
            "Backtracking...... poping... 11\n",
            "Backtracking...... poping... 11\n",
            "Backtracking...... poping... 10\n",
            "Backtracking...... poping... 9\n",
            "Backtracking...... poping... 8\n",
            "Backtracking...... poping... 7\n",
            "Backtracking...... poping... 6\n",
            "Backtracking...... poping... 5\n",
            "Backtracking...... poping... 13\n",
            "Backtracking...... poping... 13\n",
            "Backtracking...... poping... 12\n",
            "Backtracking...... poping... 12\n",
            "Backtracking...... poping... 11\n",
            "Backtracking...... poping... 10\n",
            "Backtracking...... poping... 13\n",
            "Backtracking...... poping... 13\n",
            "Backtracking...... poping... 12\n",
            "Backtracking...... poping... 12\n",
            "Backtracking...... poping... 11\n",
            "Backtracking...... poping... 10\n",
            "Backtracking...... poping... 9\n",
            "Backtracking...... poping... 14\n",
            "Backtracking...... poping... 13\n",
            "Backtracking...... poping... 12\n",
            "Backtracking...... poping... 14\n",
            "Backtracking...... poping... 13\n",
            "Backtracking...... poping... 12\n",
            "Backtracking...... poping... 11\n",
            "Backtracking...... poping... 11\n",
            "Backtracking...... poping... 10\n",
            "Backtracking...... poping... 9\n",
            "Backtracking...... poping... 11\n",
            "Backtracking...... poping... 14\n",
            "Backtracking...... poping... 13\n",
            "Backtracking...... poping... 12\n",
            "Backtracking...... poping... 14\n",
            "Backtracking...... poping... 13\n",
            "Backtracking...... poping... 12\n",
            "Backtracking...... poping... 11\n",
            "Backtracking...... poping... 10\n",
            "Backtracking...... poping... 9\n",
            "Backtracking...... poping... 8\n",
            "Backtracking...... poping... 7\n",
            "Backtracking...... poping... 6\n",
            "Backtracking...... poping... 12\n",
            "Backtracking...... poping... 11\n",
            "Backtracking...... poping... 10\n",
            "Backtracking...... poping... 12\n",
            "Backtracking...... poping... 11\n",
            "Backtracking...... poping... 10\n",
            "Backtracking...... poping... 9\n",
            "Backtracking...... poping... 10\n",
            "Backtracking...... poping... 9\n",
            "Backtracking...... poping... 9\n",
            "Backtracking...... poping... 8\n",
            "Backtracking...... poping... 7\n",
            "Backtracking...... poping... 12\n",
            "Backtracking...... poping... 11\n",
            "Backtracking...... poping... 11\n",
            "Backtracking...... poping... 11\n",
            "Backtracking...... poping... 10\n",
            "Backtracking...... poping... 10\n",
            "Backtracking...... poping... 9\n",
            "Backtracking...... poping... 8\n",
            "Backtracking...... poping... 10\n",
            "Backtracking...... poping... 12\n",
            "Backtracking...... poping... 11\n",
            "Backtracking...... poping... 11\n",
            "Backtracking...... poping... 11\n",
            "Backtracking...... poping... 10\n",
            "Backtracking...... poping... 9\n",
            "Backtracking...... poping... 8\n",
            "Backtracking...... poping... 7\n",
            "Backtracking...... poping... 12\n",
            "Backtracking...... poping... 11\n",
            "Backtracking...... poping... 10\n",
            "Backtracking...... poping... 12\n",
            "Backtracking...... poping... 11\n",
            "Backtracking...... poping... 10\n",
            "Backtracking...... poping... 9\n",
            "Backtracking...... poping... 10\n",
            "Backtracking...... poping... 9\n",
            "Backtracking...... poping... 9\n",
            "Backtracking...... poping... 8\n",
            "Backtracking...... poping... 7\n",
            "Backtracking...... poping... 6\n",
            "Backtracking...... poping... 5\n",
            "Backtracking...... poping... 4\n",
            "Backtracking...... poping... 3\n",
            "Backtracking...... poping... 2\n",
            "Backtracking...... poping... 12\n",
            "Backtracking...... poping... 11\n",
            "Backtracking...... poping... 12\n",
            "Backtracking...... poping... 11\n",
            "Backtracking...... poping... 10\n",
            "Backtracking...... poping... 14\n",
            "Backtracking...... poping... 13\n",
            "Backtracking...... poping... 12\n",
            "Backtracking...... poping... 11\n",
            "Backtracking...... poping... 10\n",
            "Backtracking...... poping... 9\n",
            "Backtracking...... poping... 9\n",
            "Backtracking...... poping... 8\n",
            "Backtracking...... poping... 7\n",
            "Backtracking...... poping... 12\n",
            "Backtracking...... poping... 11\n",
            "Backtracking...... poping... 10\n",
            "Backtracking...... poping... 11\n",
            "Backtracking...... poping... 11\n",
            "Backtracking...... poping... 10\n",
            "Backtracking...... poping... 9\n",
            "Backtracking...... poping... 8\n",
            "Backtracking...... poping... 11\n",
            "Backtracking...... poping... 11\n",
            "Backtracking...... poping... 10\n",
            "Backtracking...... poping... 10\n",
            "Backtracking...... poping... 9\n",
            "Backtracking...... poping... 10\n",
            "Backtracking...... poping... 9\n",
            "Backtracking...... poping... 8\n",
            "Backtracking...... poping... 7\n",
            "Backtracking...... poping... 12\n",
            "Backtracking...... poping... 11\n",
            "Backtracking...... poping... 12\n",
            "Backtracking...... poping... 11\n",
            "Backtracking...... poping... 10\n",
            "Backtracking...... poping... 14\n",
            "Backtracking...... poping... 13\n",
            "Backtracking...... poping... 12\n",
            "Backtracking...... poping... 11\n",
            "Backtracking...... poping... 10\n",
            "Backtracking...... poping... 9\n",
            "Backtracking...... poping... 9\n",
            "Backtracking...... poping... 8\n",
            "Backtracking...... poping... 7\n",
            "Backtracking...... poping... 6\n",
            "Backtracking...... poping... 5\n",
            "Backtracking...... poping... 6\n",
            "Backtracking...... poping... 11\n",
            "Backtracking...... poping... 12\n",
            "Backtracking...... poping... 11\n",
            "Backtracking...... poping... 11\n",
            "Backtracking...... poping... 10\n",
            "Backtracking...... poping... 9\n",
            "Backtracking...... poping... 11\n",
            "Backtracking...... poping... 11\n",
            "Backtracking...... poping... 12\n",
            "Backtracking...... poping... 11\n",
            "Backtracking...... poping... 10\n",
            "Backtracking...... poping... 9\n",
            "Backtracking...... poping... 8\n",
            "Backtracking...... poping... 13\n",
            "Backtracking...... poping... 12\n",
            "Backtracking...... poping... 11\n",
            "Backtracking...... poping... 11\n",
            "Backtracking...... poping... 13\n",
            "Backtracking...... poping... 12\n",
            "Backtracking...... poping... 11\n",
            "Backtracking...... poping... 10\n",
            "Backtracking...... poping... 9\n",
            "Backtracking...... poping... 8\n",
            "Backtracking...... poping... 7\n",
            "Backtracking...... poping... 13\n",
            "Backtracking...... poping... 13\n",
            "Backtracking...... poping... 12\n",
            "Backtracking...... poping... 11\n",
            "Backtracking...... poping... 13\n",
            "Backtracking...... poping... 13\n",
            "Backtracking...... poping... 12\n",
            "Backtracking...... poping... 11\n",
            "Backtracking...... poping... 10\n",
            "Backtracking...... poping... 9\n",
            "Backtracking...... poping... 8\n",
            "Backtracking...... poping... 12\n",
            "Backtracking...... poping... 11\n",
            "Backtracking...... poping... 11\n",
            "Backtracking...... poping... 10\n",
            "Backtracking...... poping... 9\n",
            "Backtracking...... poping... 9\n",
            "Backtracking...... poping... 12\n",
            "Backtracking...... poping... 11\n",
            "Backtracking...... poping... 11\n",
            "Backtracking...... poping... 10\n",
            "Backtracking...... poping... 9\n",
            "Backtracking...... poping... 8\n",
            "Backtracking...... poping... 7\n",
            "Backtracking...... poping... 6\n",
            "Backtracking...... poping... 5\n",
            "Backtracking...... poping... 4\n",
            "Backtracking...... poping... 8\n",
            "Backtracking...... poping... 9\n",
            "Backtracking...... poping... 12\n",
            "Backtracking...... poping... 11\n",
            "Backtracking...... poping... 10\n",
            "Backtracking...... poping... 9\n",
            "Backtracking...... poping... 9\n",
            "Backtracking...... poping... 8\n",
            "Backtracking...... poping... 7\n",
            "Backtracking...... poping... 8\n",
            "Backtracking...... poping... 11\n",
            "Backtracking...... poping... 12\n",
            "Backtracking...... poping... 11\n",
            "Backtracking...... poping... 11\n",
            "Backtracking...... poping... 10\n",
            "Backtracking...... poping... 9\n",
            "Backtracking...... poping... 8\n",
            "Backtracking...... poping... 7\n",
            "Backtracking...... poping... 6\n",
            "Backtracking...... poping... 9\n",
            "Backtracking...... poping... 12\n",
            "Backtracking...... poping... 12\n",
            "Backtracking...... poping... 11\n",
            "Backtracking...... poping... 10\n",
            "Backtracking...... poping... 9\n",
            "Backtracking...... poping... 9\n",
            "Backtracking...... poping... 8\n",
            "Backtracking...... poping... 10\n",
            "Backtracking...... poping... 13\n",
            "Backtracking...... poping... 13\n",
            "Backtracking...... poping... 12\n",
            "Backtracking...... poping... 11\n",
            "Backtracking...... poping... 10\n",
            "Backtracking...... poping... 9\n",
            "Backtracking...... poping... 8\n",
            "Backtracking...... poping... 7\n",
            "Backtracking...... poping... 6\n",
            "Backtracking...... poping... 5\n",
            "Backtracking...... poping... 10\n",
            "Backtracking...... poping... 13\n",
            "Backtracking...... poping... 12\n",
            "Backtracking...... poping... 11\n",
            "Backtracking...... poping... 13\n",
            "Backtracking...... poping... 12\n",
            "Backtracking...... poping... 11\n",
            "Backtracking...... poping... 10\n",
            "Backtracking...... poping... 9\n",
            "Backtracking...... poping... 8\n",
            "Backtracking...... poping... 7\n",
            "Backtracking...... poping... 12\n",
            "Backtracking...... poping... 13\n",
            "Backtracking...... poping... 12\n",
            "Backtracking...... poping... 11\n",
            "Backtracking...... poping... 10\n",
            "Backtracking...... poping... 9\n",
            "Backtracking...... poping... 8\n",
            "Backtracking...... poping... 10\n",
            "Backtracking...... poping... 9\n",
            "Backtracking...... poping... 10\n",
            "Backtracking...... poping... 11\n",
            "Backtracking...... poping... 10\n",
            "Backtracking...... poping... 9\n",
            "Backtracking...... poping... 8\n",
            "Backtracking...... poping... 7\n",
            "Backtracking...... poping... 7\n",
            "Backtracking...... poping... 6\n",
            "Backtracking...... poping... 5\n",
            "Backtracking...... poping... 7\n",
            "Backtracking...... poping... 10\n",
            "Backtracking...... poping... 13\n",
            "Backtracking...... poping... 12\n",
            "Backtracking...... poping... 11\n",
            "Backtracking...... poping... 13\n",
            "Backtracking...... poping... 12\n",
            "Backtracking...... poping... 11\n",
            "Backtracking...... poping... 10\n",
            "Backtracking...... poping... 9\n",
            "Backtracking...... poping... 8\n",
            "Backtracking...... poping... 7\n",
            "Backtracking...... poping... 12\n",
            "Backtracking...... poping... 13\n",
            "Backtracking...... poping... 12\n",
            "Backtracking...... poping... 11\n",
            "Backtracking...... poping... 10\n",
            "Backtracking...... poping... 9\n",
            "Backtracking...... poping... 8\n",
            "Backtracking...... poping... 10\n",
            "Backtracking...... poping... 9\n",
            "Backtracking...... poping... 10\n",
            "Backtracking...... poping... 11\n",
            "Backtracking...... poping... 10\n",
            "Backtracking...... poping... 9\n",
            "Backtracking...... poping... 8\n",
            "Backtracking...... poping... 7\n",
            "Backtracking...... poping... 6\n",
            "Backtracking...... poping... 5\n",
            "Backtracking...... poping... 4\n",
            "Backtracking...... poping... 3\n",
            "Backtracking...... poping... 10\n",
            "Backtracking...... poping... 13\n",
            "Backtracking...... poping... 12\n",
            "Backtracking...... poping... 11\n",
            "Backtracking...... poping... 13\n",
            "Backtracking...... poping... 12\n",
            "Backtracking...... poping... 11\n",
            "Backtracking...... poping... 10\n",
            "Backtracking...... poping... 9\n",
            "Backtracking...... poping... 8\n",
            "Backtracking...... poping... 7\n",
            "Backtracking...... poping... 10\n",
            "Backtracking...... poping... 9\n",
            "Backtracking...... poping... 10\n",
            "Backtracking...... poping... 11\n",
            "Backtracking...... poping... 10\n",
            "Backtracking...... poping... 9\n",
            "Backtracking...... poping... 8\n",
            "Backtracking...... poping... 12\n",
            "Backtracking...... poping... 13\n",
            "Backtracking...... poping... 12\n",
            "Backtracking...... poping... 11\n",
            "Backtracking...... poping... 10\n",
            "Backtracking...... poping... 9\n",
            "Backtracking...... poping... 8\n",
            "Backtracking...... poping... 7\n",
            "Backtracking...... poping... 7\n",
            "Backtracking...... poping... 6\n",
            "Backtracking...... poping... 5\n",
            "Backtracking...... poping... 10\n",
            "Backtracking...... poping... 13\n",
            "Backtracking...... poping... 13\n",
            "Backtracking...... poping... 12\n",
            "Backtracking...... poping... 11\n",
            "Backtracking...... poping... 10\n",
            "Backtracking...... poping... 9\n",
            "Backtracking...... poping... 8\n",
            "Backtracking...... poping... 12\n",
            "Backtracking...... poping... 12\n",
            "Backtracking...... poping... 11\n",
            "Backtracking...... poping... 10\n",
            "Backtracking...... poping... 9\n",
            "Backtracking...... poping... 9\n",
            "Backtracking...... poping... 9\n",
            "Backtracking...... poping... 8\n",
            "Backtracking...... poping... 7\n",
            "Backtracking...... poping... 6\n",
            "Backtracking...... poping... 12\n",
            "Backtracking...... poping... 11\n",
            "Backtracking...... poping... 10\n",
            "Backtracking...... poping... 9\n",
            "Backtracking...... poping... 9\n",
            "Backtracking...... poping... 9\n",
            "Backtracking...... poping... 8\n",
            "Backtracking...... poping... 8\n",
            "Backtracking...... poping... 7\n",
            "Backtracking...... poping... 8\n",
            "Backtracking...... poping... 12\n",
            "Backtracking...... poping... 11\n",
            "Backtracking...... poping... 11\n",
            "Backtracking...... poping... 11\n",
            "Backtracking...... poping... 10\n",
            "Backtracking...... poping... 9\n",
            "Backtracking...... poping... 8\n",
            "Backtracking...... poping... 7\n",
            "Backtracking...... poping... 6\n",
            "Backtracking...... poping... 5\n",
            "Backtracking...... poping... 10\n",
            "Backtracking...... poping... 13\n",
            "Backtracking...... poping... 12\n",
            "Backtracking...... poping... 11\n",
            "Backtracking...... poping... 13\n",
            "Backtracking...... poping... 12\n",
            "Backtracking...... poping... 11\n",
            "Backtracking...... poping... 10\n",
            "Backtracking...... poping... 9\n",
            "Backtracking...... poping... 8\n",
            "Backtracking...... poping... 7\n",
            "Backtracking...... poping... 10\n",
            "Backtracking...... poping... 9\n",
            "Backtracking...... poping... 10\n",
            "Backtracking...... poping... 11\n",
            "Backtracking...... poping... 10\n",
            "Backtracking...... poping... 9\n",
            "Backtracking...... poping... 8\n",
            "Backtracking...... poping... 12\n",
            "Backtracking...... poping... 13\n",
            "Backtracking...... poping... 12\n",
            "Backtracking...... poping... 11\n",
            "Backtracking...... poping... 10\n",
            "Backtracking...... poping... 9\n",
            "Backtracking...... poping... 8\n",
            "Backtracking...... poping... 7\n",
            "Backtracking...... poping... 7\n",
            "Backtracking...... poping... 6\n",
            "Backtracking...... poping... 5\n",
            "Backtracking...... poping... 4\n",
            "Backtracking...... poping... 6\n",
            "Backtracking...... poping... 9\n",
            "Backtracking...... poping... 12\n",
            "Backtracking...... poping... 11\n",
            "Backtracking...... poping... 11\n",
            "Backtracking...... poping... 10\n",
            "Backtracking...... poping... 9\n",
            "Backtracking...... poping... 11\n",
            "Backtracking...... poping... 12\n",
            "Backtracking...... poping... 11\n",
            "Backtracking...... poping... 10\n",
            "Backtracking...... poping... 9\n",
            "Backtracking...... poping... 8\n",
            "Backtracking...... poping... 13\n",
            "Backtracking...... poping... 13\n",
            "Backtracking...... poping... 12\n",
            "Backtracking...... poping... 11\n",
            "Backtracking...... poping... 13\n",
            "Backtracking...... poping... 13\n",
            "Backtracking...... poping... 12\n",
            "Backtracking...... poping... 11\n",
            "Backtracking...... poping... 10\n",
            "Backtracking...... poping... 9\n",
            "Backtracking...... poping... 8\n",
            "Backtracking...... poping... 7\n",
            "Backtracking...... poping... 11\n",
            "Backtracking...... poping... 13\n",
            "Backtracking...... poping... 12\n",
            "Backtracking...... poping... 11\n",
            "Backtracking...... poping... 13\n",
            "Backtracking...... poping... 12\n",
            "Backtracking...... poping... 11\n",
            "Backtracking...... poping... 10\n",
            "Backtracking...... poping... 9\n",
            "Backtracking...... poping... 8\n",
            "Backtracking...... poping... 11\n",
            "Backtracking...... poping... 12\n",
            "Backtracking...... poping... 11\n",
            "Backtracking...... poping... 11\n",
            "Backtracking...... poping... 10\n",
            "Backtracking...... poping... 9\n",
            "Backtracking...... poping... 11\n",
            "Backtracking...... poping... 12\n",
            "Backtracking...... poping... 11\n",
            "Backtracking...... poping... 11\n",
            "Backtracking...... poping... 10\n",
            "Backtracking...... poping... 9\n",
            "Backtracking...... poping... 8\n",
            "Backtracking...... poping... 7\n",
            "Backtracking...... poping... 6\n",
            "Backtracking...... poping... 5\n",
            "Backtracking...... poping... 10\n",
            "Backtracking...... poping... 11\n",
            "Backtracking...... poping... 11\n",
            "Backtracking...... poping... 10\n",
            "Backtracking...... poping... 9\n",
            "Backtracking...... poping... 10\n",
            "Backtracking...... poping... 9\n",
            "Backtracking...... poping... 8\n",
            "Backtracking...... poping... 11\n",
            "Backtracking...... poping... 11\n",
            "Backtracking...... poping... 10\n",
            "Backtracking...... poping... 12\n",
            "Backtracking...... poping... 11\n",
            "Backtracking...... poping... 10\n",
            "Backtracking...... poping... 9\n",
            "Backtracking...... poping... 8\n",
            "Backtracking...... poping... 7\n",
            "Backtracking...... poping... 14\n",
            "Backtracking...... poping... 13\n",
            "Backtracking...... poping... 12\n",
            "Backtracking...... poping... 11\n",
            "Backtracking...... poping... 10\n",
            "Backtracking...... poping... 12\n",
            "Backtracking...... poping... 11\n",
            "Backtracking...... poping... 12\n",
            "Backtracking...... poping... 11\n",
            "Backtracking...... poping... 10\n",
            "Backtracking...... poping... 9\n",
            "Backtracking...... poping... 9\n",
            "Backtracking...... poping... 8\n",
            "Backtracking...... poping... 7\n",
            "Backtracking...... poping... 9\n",
            "Backtracking...... poping... 14\n",
            "Backtracking...... poping... 13\n",
            "Backtracking...... poping... 12\n",
            "Backtracking...... poping... 11\n",
            "Backtracking...... poping... 10\n",
            "Backtracking...... poping... 12\n",
            "Backtracking...... poping... 11\n",
            "Backtracking...... poping... 12\n",
            "Backtracking...... poping... 11\n",
            "Backtracking...... poping... 10\n",
            "Backtracking...... poping... 9\n",
            "Backtracking...... poping... 8\n",
            "Backtracking...... poping... 7\n",
            "Backtracking...... poping... 6\n",
            "Backtracking...... poping... 5\n",
            "Backtracking...... poping... 4\n",
            "Backtracking...... poping... 3\n",
            "Backtracking...... poping... 2\n",
            "Backtracking...... poping... 12\n",
            "Backtracking...... poping... 11\n",
            "Backtracking...... poping... 12\n",
            "Backtracking...... poping... 11\n",
            "Backtracking...... poping... 10\n",
            "Backtracking...... poping... 14\n",
            "Backtracking...... poping... 13\n",
            "Backtracking...... poping... 12\n",
            "Backtracking...... poping... 11\n",
            "Backtracking...... poping... 10\n",
            "Backtracking...... poping... 9\n",
            "Backtracking...... poping... 9\n",
            "Backtracking...... poping... 8\n",
            "Backtracking...... poping... 7\n",
            "Backtracking...... poping... 10\n",
            "Backtracking...... poping... 9\n",
            "Backtracking...... poping... 11\n",
            "Backtracking...... poping... 11\n",
            "Backtracking...... poping... 10\n",
            "Backtracking...... poping... 10\n",
            "Backtracking...... poping... 9\n",
            "Backtracking...... poping... 8\n",
            "Backtracking...... poping... 12\n",
            "Backtracking...... poping... 11\n",
            "Backtracking...... poping... 10\n",
            "Backtracking...... poping... 11\n",
            "Backtracking...... poping... 11\n",
            "Backtracking...... poping... 10\n",
            "Backtracking...... poping... 9\n",
            "Backtracking...... poping... 8\n",
            "Backtracking...... poping... 7\n",
            "Backtracking...... poping... 12\n",
            "Backtracking...... poping... 11\n",
            "Backtracking...... poping... 12\n",
            "Backtracking...... poping... 11\n",
            "Backtracking...... poping... 10\n",
            "Backtracking...... poping... 14\n",
            "Backtracking...... poping... 13\n",
            "Backtracking...... poping... 12\n",
            "Backtracking...... poping... 11\n",
            "Backtracking...... poping... 10\n",
            "Backtracking...... poping... 9\n",
            "Backtracking...... poping... 9\n",
            "Backtracking...... poping... 8\n",
            "Backtracking...... poping... 7\n",
            "Backtracking...... poping... 6\n",
            "Backtracking...... poping... 5\n",
            "Backtracking...... poping... 6\n",
            "Backtracking...... poping... 12\n",
            "Backtracking...... poping... 11\n",
            "Backtracking...... poping... 11\n",
            "Backtracking...... poping... 10\n",
            "Backtracking...... poping... 9\n",
            "Backtracking...... poping... 9\n",
            "Backtracking...... poping... 12\n",
            "Backtracking...... poping... 11\n",
            "Backtracking...... poping... 11\n",
            "Backtracking...... poping... 10\n",
            "Backtracking...... poping... 9\n",
            "Backtracking...... poping... 8\n",
            "Backtracking...... poping... 13\n",
            "Backtracking...... poping... 13\n",
            "Backtracking...... poping... 12\n",
            "Backtracking...... poping... 11\n",
            "Backtracking...... poping... 13\n",
            "Backtracking...... poping... 13\n",
            "Backtracking...... poping... 12\n",
            "Backtracking...... poping... 11\n",
            "Backtracking...... poping... 10\n",
            "Backtracking...... poping... 9\n",
            "Backtracking...... poping... 8\n",
            "Backtracking...... poping... 7\n",
            "Backtracking...... poping... 12\n",
            "Backtracking...... poping... 11\n",
            "Backtracking...... poping... 11\n",
            "Backtracking...... poping... 11\n",
            "Backtracking...... poping... 10\n",
            "Backtracking...... poping... 9\n",
            "Backtracking...... poping... 11\n",
            "Backtracking...... poping... 12\n",
            "Backtracking...... poping... 11\n",
            "Backtracking...... poping... 11\n",
            "Backtracking...... poping... 10\n",
            "Backtracking...... poping... 9\n",
            "Backtracking...... poping... 8\n",
            "Backtracking...... poping... 13\n",
            "Backtracking...... poping... 12\n",
            "Backtracking...... poping... 11\n",
            "Backtracking...... poping... 11\n",
            "Backtracking...... poping... 13\n",
            "Backtracking...... poping... 12\n",
            "Backtracking...... poping... 11\n",
            "Backtracking...... poping... 10\n",
            "Backtracking...... poping... 9\n",
            "Backtracking...... poping... 8\n",
            "Backtracking...... poping... 7\n",
            "Backtracking...... poping... 6\n",
            "Backtracking...... poping... 5\n",
            "Backtracking...... poping... 4\n",
            "Backtracking...... poping... 9\n",
            "Backtracking...... poping... 12\n",
            "Backtracking...... poping... 11\n",
            "Backtracking...... poping... 10\n",
            "Backtracking...... poping... 9\n",
            "Backtracking...... poping... 9\n",
            "Backtracking...... poping... 8\n",
            "Backtracking...... poping... 8\n",
            "Backtracking...... poping... 7\n",
            "Backtracking...... poping... 8\n",
            "Backtracking...... poping... 11\n",
            "Backtracking...... poping... 12\n",
            "Backtracking...... poping... 11\n",
            "Backtracking...... poping... 11\n",
            "Backtracking...... poping... 10\n",
            "Backtracking...... poping... 9\n",
            "Backtracking...... poping... 8\n",
            "Backtracking...... poping... 7\n",
            "Backtracking...... poping... 6\n",
            "Backtracking...... poping... 9\n",
            "Backtracking...... poping... 12\n",
            "Backtracking...... poping... 12\n",
            "Backtracking...... poping... 11\n",
            "Backtracking...... poping... 10\n",
            "Backtracking...... poping... 9\n",
            "Backtracking...... poping... 9\n",
            "Backtracking...... poping... 8\n",
            "Backtracking...... poping... 10\n",
            "Backtracking...... poping... 13\n",
            "Backtracking...... poping... 13\n",
            "Backtracking...... poping... 12\n",
            "Backtracking...... poping... 11\n",
            "Backtracking...... poping... 10\n",
            "Backtracking...... poping... 9\n",
            "Backtracking...... poping... 8\n",
            "Backtracking...... poping... 7\n",
            "Backtracking...... poping... 6\n",
            "Backtracking...... poping... 5\n",
            "Backtracking...... poping... 10\n",
            "Backtracking...... poping... 11\n",
            "Backtracking...... poping... 10\n",
            "Backtracking...... poping... 9\n",
            "Backtracking...... poping... 10\n",
            "Backtracking...... poping... 9\n",
            "Backtracking...... poping... 8\n",
            "Backtracking...... poping... 12\n",
            "Backtracking...... poping... 13\n",
            "Backtracking...... poping... 12\n",
            "Backtracking...... poping... 11\n",
            "Backtracking...... poping... 10\n",
            "Backtracking...... poping... 9\n",
            "Backtracking...... poping... 8\n",
            "Backtracking...... poping... 7\n",
            "Backtracking...... poping... 10\n",
            "Backtracking...... poping... 13\n",
            "Backtracking...... poping... 12\n",
            "Backtracking...... poping... 11\n",
            "Backtracking...... poping... 13\n",
            "Backtracking...... poping... 12\n",
            "Backtracking...... poping... 11\n",
            "Backtracking...... poping... 10\n",
            "Backtracking...... poping... 9\n",
            "Backtracking...... poping... 8\n",
            "Backtracking...... poping... 7\n",
            "Backtracking...... poping... 7\n",
            "Backtracking...... poping... 6\n",
            "Backtracking...... poping... 5\n",
            "Backtracking...... poping... 7\n",
            "Backtracking...... poping... 10\n",
            "Backtracking...... poping... 11\n",
            "Backtracking...... poping... 10\n",
            "Backtracking...... poping... 9\n",
            "Backtracking...... poping... 10\n",
            "Backtracking...... poping... 9\n",
            "Backtracking...... poping... 8\n",
            "Backtracking...... poping... 12\n",
            "Backtracking...... poping... 13\n",
            "Backtracking...... poping... 12\n",
            "Backtracking...... poping... 11\n",
            "Backtracking...... poping... 10\n",
            "Backtracking...... poping... 9\n",
            "Backtracking...... poping... 8\n",
            "Backtracking...... poping... 7\n",
            "Backtracking...... poping... 10\n",
            "Backtracking...... poping... 13\n",
            "Backtracking...... poping... 12\n",
            "Backtracking...... poping... 11\n",
            "Backtracking...... poping... 13\n",
            "Backtracking...... poping... 12\n",
            "Backtracking...... poping... 11\n",
            "Backtracking...... poping... 10\n",
            "Backtracking...... poping... 9\n",
            "Backtracking...... poping... 8\n",
            "Backtracking...... poping... 7\n",
            "Backtracking...... poping... 6\n",
            "Backtracking...... poping... 5\n",
            "Backtracking...... poping... 4\n",
            "Backtracking...... poping... 3\n",
            "Backtracking...... poping... 10\n",
            "Backtracking...... poping... 9\n",
            "Backtracking...... poping... 10\n",
            "Backtracking...... poping... 11\n",
            "Backtracking...... poping... 10\n",
            "Backtracking...... poping... 9\n",
            "Backtracking...... poping... 8\n",
            "Backtracking...... poping... 12\n",
            "Backtracking...... poping... 13\n",
            "Backtracking...... poping... 12\n",
            "Backtracking...... poping... 11\n",
            "Backtracking...... poping... 10\n",
            "Backtracking...... poping... 9\n",
            "Backtracking...... poping... 8\n",
            "Backtracking...... poping... 7\n",
            "Backtracking...... poping... 10\n",
            "Backtracking...... poping... 13\n",
            "Backtracking...... poping... 12\n",
            "Backtracking...... poping... 11\n",
            "Backtracking...... poping... 13\n",
            "Backtracking...... poping... 12\n",
            "Backtracking...... poping... 11\n",
            "Backtracking...... poping... 10\n",
            "Backtracking...... poping... 9\n",
            "Backtracking...... poping... 8\n",
            "Backtracking...... poping... 7\n",
            "Backtracking...... poping... 7\n",
            "Backtracking...... poping... 6\n",
            "Backtracking...... poping... 5\n",
            "Backtracking...... poping... 8\n",
            "Backtracking...... poping... 12\n",
            "Backtracking...... poping... 11\n",
            "Backtracking...... poping... 11\n",
            "Backtracking...... poping... 11\n",
            "Backtracking...... poping... 10\n",
            "Backtracking...... poping... 9\n",
            "Backtracking...... poping... 8\n",
            "Backtracking...... poping... 7\n",
            "Backtracking...... poping... 12\n",
            "Backtracking...... poping... 11\n",
            "Backtracking...... poping... 10\n",
            "Backtracking...... poping... 9\n",
            "Backtracking...... poping... 9\n",
            "Backtracking...... poping... 9\n",
            "Backtracking...... poping... 8\n",
            "Backtracking...... poping... 8\n",
            "Backtracking...... poping... 7\n",
            "Backtracking...... poping... 6\n",
            "Backtracking...... poping... 10\n",
            "Backtracking...... poping... 13\n",
            "Backtracking...... poping... 13\n",
            "Backtracking...... poping... 12\n",
            "Backtracking...... poping... 11\n",
            "Backtracking...... poping... 10\n",
            "Backtracking...... poping... 9\n",
            "Backtracking...... poping... 8\n",
            "Backtracking...... poping... 12\n",
            "Backtracking...... poping... 12\n",
            "Backtracking...... poping... 11\n",
            "Backtracking...... poping... 10\n",
            "Backtracking...... poping... 9\n",
            "Backtracking...... poping... 9\n",
            "Backtracking...... poping... 9\n",
            "Backtracking...... poping... 8\n",
            "Backtracking...... poping... 7\n",
            "Backtracking...... poping... 6\n",
            "Backtracking...... poping... 5\n",
            "Backtracking...... poping... 10\n",
            "Backtracking...... poping... 9\n",
            "Backtracking...... poping... 10\n",
            "Backtracking...... poping... 11\n",
            "Backtracking...... poping... 10\n",
            "Backtracking...... poping... 9\n",
            "Backtracking...... poping... 8\n",
            "Backtracking...... poping... 12\n",
            "Backtracking...... poping... 13\n",
            "Backtracking...... poping... 12\n",
            "Backtracking...... poping... 11\n",
            "Backtracking...... poping... 10\n",
            "Backtracking...... poping... 9\n",
            "Backtracking...... poping... 8\n",
            "Backtracking...... poping... 7\n",
            "Backtracking...... poping... 10\n",
            "Backtracking...... poping... 13\n",
            "Backtracking...... poping... 12\n",
            "Backtracking...... poping... 11\n",
            "Backtracking...... poping... 13\n",
            "Backtracking...... poping... 12\n",
            "Backtracking...... poping... 11\n",
            "Backtracking...... poping... 10\n",
            "Backtracking...... poping... 9\n",
            "Backtracking...... poping... 8\n",
            "Backtracking...... poping... 7\n",
            "Backtracking...... poping... 7\n",
            "Backtracking...... poping... 6\n",
            "Backtracking...... poping... 5\n",
            "Backtracking...... poping... 4\n",
            "Backtracking...... poping... 11\n",
            "Backtracking...... poping... 11\n",
            "Backtracking...... poping... 10\n",
            "Backtracking...... poping... 10\n",
            "Backtracking...... poping... 9\n",
            "Backtracking...... poping... 10\n",
            "Backtracking...... poping... 9\n",
            "Backtracking...... poping... 8\n",
            "Backtracking...... poping... 11\n",
            "Backtracking...... poping... 11\n",
            "Backtracking...... poping... 10\n",
            "Backtracking...... poping... 12\n",
            "Backtracking...... poping... 11\n",
            "Backtracking...... poping... 10\n",
            "Backtracking...... poping... 9\n",
            "Backtracking...... poping... 8\n",
            "Backtracking...... poping... 7\n",
            "Backtracking...... poping... 12\n",
            "Backtracking...... poping... 11\n",
            "Backtracking...... poping... 12\n",
            "Backtracking...... poping... 11\n",
            "Backtracking...... poping... 10\n",
            "Backtracking...... poping... 14\n",
            "Backtracking...... poping... 13\n",
            "Backtracking...... poping... 12\n",
            "Backtracking...... poping... 11\n",
            "Backtracking...... poping... 10\n",
            "Backtracking...... poping... 9\n",
            "Backtracking...... poping... 9\n",
            "Backtracking...... poping... 8\n",
            "Backtracking...... poping... 7\n",
            "Backtracking...... poping... 9\n",
            "Backtracking...... poping... 12\n",
            "Backtracking...... poping... 11\n",
            "Backtracking...... poping... 12\n",
            "Backtracking...... poping... 11\n",
            "Backtracking...... poping... 10\n",
            "Backtracking...... poping... 14\n",
            "Backtracking...... poping... 13\n",
            "Backtracking...... poping... 12\n",
            "Backtracking...... poping... 11\n",
            "Backtracking...... poping... 10\n",
            "Backtracking...... poping... 9\n",
            "Backtracking...... poping... 8\n",
            "Backtracking...... poping... 7\n",
            "Backtracking...... poping... 6\n",
            "Backtracking...... poping... 5\n",
            "Backtracking...... poping... 6\n",
            "Backtracking...... poping... 12\n",
            "Backtracking...... poping... 11\n",
            "Backtracking...... poping... 11\n",
            "Backtracking...... poping... 11\n",
            "Backtracking...... poping... 10\n",
            "Backtracking...... poping... 9\n",
            "Backtracking...... poping... 12\n",
            "Backtracking...... poping... 11\n",
            "Backtracking...... poping... 11\n",
            "Backtracking...... poping... 11\n",
            "Backtracking...... poping... 10\n",
            "Backtracking...... poping... 9\n",
            "Backtracking...... poping... 8\n",
            "Backtracking...... poping... 11\n",
            "Backtracking...... poping... 13\n",
            "Backtracking...... poping... 12\n",
            "Backtracking...... poping... 11\n",
            "Backtracking...... poping... 13\n",
            "Backtracking...... poping... 12\n",
            "Backtracking...... poping... 11\n",
            "Backtracking...... poping... 10\n",
            "Backtracking...... poping... 9\n",
            "Backtracking...... poping... 8\n",
            "Backtracking...... poping... 7\n",
            "Backtracking...... poping... 9\n",
            "Backtracking...... poping... 12\n",
            "Backtracking...... poping... 11\n",
            "Backtracking...... poping... 11\n",
            "Backtracking...... poping... 10\n",
            "Backtracking...... poping... 9\n",
            "Backtracking...... poping... 11\n",
            "Backtracking...... poping... 12\n",
            "Backtracking...... poping... 11\n",
            "Backtracking...... poping... 10\n",
            "Backtracking...... poping... 9\n",
            "Backtracking...... poping... 8\n",
            "Backtracking...... poping... 13\n",
            "Backtracking...... poping... 13\n",
            "Backtracking...... poping... 12\n",
            "Backtracking...... poping... 11\n",
            "Backtracking...... poping... 13\n",
            "Backtracking...... poping... 13\n",
            "Backtracking...... poping... 12\n",
            "Backtracking...... poping... 11\n",
            "Backtracking...... poping... 10\n",
            "Backtracking...... poping... 9\n",
            "Backtracking...... poping... 8\n",
            "Backtracking...... poping... 7\n",
            "Backtracking...... poping... 6\n",
            "Backtracking...... poping... 5\n",
            "Backtracking...... poping... 4\n",
            "Backtracking...... poping... 3\n",
            "Backtracking...... poping... 2\n",
            "Backtracking...... poping... 1\n",
            "Solution does not exist\n"
          ]
        },
        {
          "output_type": "execute_result",
          "data": {
            "text/plain": [
              "False"
            ]
          },
          "metadata": {},
          "execution_count": 38
        }
      ]
    },
    {
      "cell_type": "code",
      "source": [],
      "metadata": {
        "id": "7YOw64DI8Nlq"
      },
      "execution_count": 38,
      "outputs": []
    },
    {
      "cell_type": "markdown",
      "source": [
        "###**Backtracking**  - Maze problem\n",
        "- If we know maze in advance then we can use Dijkstra algo\n",
        "- If we dont know maze in advance we have to use backtracking\n"
      ],
      "metadata": {
        "id": "WmpU2RapuZok"
      }
    },
    {
      "cell_type": "code",
      "source": [
        "def print_sol(mat):\n",
        "  for row in mat:\n",
        "    for cell in row:\n",
        "      if(cell == 1):\n",
        "        print('S',end=' ')\n",
        "      else:\n",
        "        print('-',end=' ')\n",
        "    print('')\n"
      ],
      "metadata": {
        "id": "GQxx-z_-wX1W"
      },
      "execution_count": null,
      "outputs": []
    },
    {
      "cell_type": "code",
      "source": [
        "def isValid(row,col):\n",
        "  if(row < 0 or row >= size_of_maze):\n",
        "    return False\n",
        "  if(col < 0 or col >= size_of_maze):\n",
        "    return False\n",
        "  if(maze[row][col] == 0):\n",
        "    return False\n",
        "  return True\n",
        "\n"
      ],
      "metadata": {
        "id": "K7WXN-W8wU_r"
      },
      "execution_count": null,
      "outputs": []
    },
    {
      "cell_type": "code",
      "source": [
        "def isReached(row,col):\n",
        "  if(row == size_of_maze-1 and col == size_of_maze-1):\n",
        "    solution[row][col] = 1\n",
        "    return True\n",
        "  return False"
      ],
      "metadata": {
        "id": "lcC6FerYGazG"
      },
      "execution_count": null,
      "outputs": []
    },
    {
      "cell_type": "code",
      "source": [
        "def solveProblem(row, col):\n",
        "  # base case\n",
        "  if (isReached(row,col)):\n",
        "    return True\n",
        "  if(isValid(row,col)):\n",
        "    solution[row][col] = 1\n",
        "    # move horizontally AKA Right\n",
        "    if(solveProblem(row,col+1)):\n",
        "      return True\n",
        "    # move vertically AKA Down\n",
        "    if(solveProblem(row+1,col)):\n",
        "      return True\n",
        "    # Backtrack\n",
        "    solution[row][col] = 0\n",
        "  return False\n"
      ],
      "metadata": {
        "id": "N6CaYyevwOJH"
      },
      "execution_count": null,
      "outputs": []
    },
    {
      "cell_type": "code",
      "source": [
        "def solve():\n",
        "  if(solveProblem(0,0)):\n",
        "    print('Solution Exist')\n",
        "    print_sol(solution)\n",
        "  else:\n",
        "    print('Solution doesnt exists')\n"
      ],
      "metadata": {
        "id": "THpuFXZcwKEE"
      },
      "execution_count": null,
      "outputs": []
    },
    {
      "cell_type": "code",
      "source": [
        "# 1 is path 0 is obstacle\n",
        "maze= [[1, 0, 1, 1],\n",
        "       [1, 0, 1, 0],\n",
        "       [0, 0, 1, 1],\n",
        "       [1, 0, 1, 1]]\n",
        "\n",
        "maze = [[1, 0, 1, 1, 1, 0, 0, 1],\n",
        "        [1, 0, 0, 0, 1, 1, 1, 1],\n",
        "        [1, 0, 0, 0, 0, 0, 0, 0],\n",
        "        [1, 0, 1, 0, 1, 0, 1, 1],\n",
        "        [1, 1, 1, 0, 1, 0, 0, 1],\n",
        "        [1, 0, 1, 0, 1, 1, 0, 1],\n",
        "        [1, 0, 0, 0, 0 ,1, 0, 1],\n",
        "        [1, 1, 1, 1, 1, 1, 1, 1]]\n",
        "# 1 represents the solution path in solution list\n",
        "solution = []\n",
        "size_of_maze = 8\n",
        "solution = []\n",
        "for i in range(size_of_maze):\n",
        "  solution.append([0]*size_of_maze)"
      ],
      "metadata": {
        "id": "ppyV35pIuhHY"
      },
      "execution_count": null,
      "outputs": []
    },
    {
      "cell_type": "code",
      "source": [
        "solve()"
      ],
      "metadata": {
        "colab": {
          "base_uri": "https://localhost:8080/"
        },
        "id": "lN9mcRrPFeXa",
        "outputId": "5e4a3c4c-0037-48e6-c461-de117ef390e6"
      },
      "execution_count": null,
      "outputs": [
        {
          "output_type": "stream",
          "name": "stdout",
          "text": [
            "Solution Exist\n",
            "S - - - - - - - \n",
            "S - - - - - - - \n",
            "S - - - - - - - \n",
            "S - - - - - - - \n",
            "S - - - - - - - \n",
            "S - - - - - - - \n",
            "S - - - - - - - \n",
            "S S S S S S S S \n"
          ]
        }
      ]
    },
    {
      "cell_type": "code",
      "source": [
        "print_sol(maze)"
      ],
      "metadata": {
        "colab": {
          "base_uri": "https://localhost:8080/"
        },
        "id": "QlSTGWG_FaTO",
        "outputId": "6982ff89-c5b8-4d8e-f26b-f4e195c9b7df"
      },
      "execution_count": null,
      "outputs": [
        {
          "output_type": "stream",
          "name": "stdout",
          "text": [
            "S - S S S - - S \n",
            "S - - - S S S S \n",
            "S - - - - - - - \n",
            "S - S - S - S S \n",
            "S S S - S - - S \n",
            "S - S - S S - S \n",
            "S - - - - S - S \n",
            "S S S S S S S S \n"
          ]
        }
      ]
    },
    {
      "cell_type": "code",
      "source": [],
      "metadata": {
        "id": "e8sn6Wl1KyTp"
      },
      "execution_count": null,
      "outputs": []
    },
    {
      "cell_type": "markdown",
      "source": [
        "###**Backtracking**  - Sudoku problem"
      ],
      "metadata": {
        "id": "UyoqghXJVuwc"
      }
    },
    {
      "cell_type": "code",
      "source": [
        "board_size = 9\n",
        "min_num = 1\n",
        "max_num = 9\n",
        "box_size = 3\n",
        "sudoku_table = [[3, 0, 6, 5, 0, 8, 4, 0, 0],\n",
        "                [5, 2, 0, 0, 0, 0, 0, 0, 0],\n",
        "                [0, 8, 7, 0, 0, 0, 0, 3, 1],\n",
        "                [0, 0, 3, 0, 1, 0, 0, 8, 0],\n",
        "                [9, 0, 0, 8, 6, 3, 0, 0, 5],\n",
        "                [0, 5, 0, 0, 9, 0, 6, 0, 0],\n",
        "                [1, 3, 0, 0, 0, 0, 2, 5, 0],\n",
        "                [0, 0, 0, 0, 0, 0, 0, 7, 4],\n",
        "                [0, 0, 5, 2, 0, 6, 3, 0, 0],]"
      ],
      "metadata": {
        "id": "50Ck79v-VwBP"
      },
      "execution_count": null,
      "outputs": []
    },
    {
      "cell_type": "code",
      "source": [
        "def print_table(mat):\n",
        "  for row,i in zip(mat,range(board_size)):\n",
        "    if (i%3 == 0):\n",
        "      print('  ')\n",
        "    for cell,j in zip(row,range(board_size)):\n",
        "      if (j%3 == 0):\n",
        "        print(end='  ')\n",
        "      print(cell,end=' ')\n",
        "    print('')"
      ],
      "metadata": {
        "id": "NHJB3ZHuaKSM"
      },
      "execution_count": null,
      "outputs": []
    },
    {
      "cell_type": "code",
      "source": [
        "def isValid(row, col, num):\n",
        "  # checking in the row if the number exists or not\n",
        "  for i in range(board_size):\n",
        "    if(sudoku_table[row][i] == num):\n",
        "      return False\n",
        "  # checking in the column if the number exists or not\n",
        "  for i in range(board_size):\n",
        "    if(sudoku_table[i][col] == num):\n",
        "      return False\n",
        "  # checking in the box if the number exists or not\n",
        "  box_row = (row//box_size)*box_size\n",
        "  box_col = (col//box_size)*box_size\n",
        "  for i in range(box_size):\n",
        "    for j in range(box_size):\n",
        "      if(sudoku_table[box_row+i][box_col+j] == num):\n",
        "        return False\n",
        "  return True"
      ],
      "metadata": {
        "id": "5v5FaoGdYqI1"
      },
      "execution_count": null,
      "outputs": []
    },
    {
      "cell_type": "code",
      "source": [
        "def solve(row, col):\n",
        "  # base case\n",
        "  # start by considering all rows in a column\n",
        "  if(row == board_size):\n",
        "    col +=1\n",
        "    if(col == board_size):\n",
        "      return True\n",
        "    else:\n",
        "      row = 0\n",
        "  # skip filled cells\n",
        "  if(sudoku_table[row][col] != 0):\n",
        "    return solve(row+1,col)\n",
        "  # consider all the integers\n",
        "  for i in range(min_num,max_num+1):\n",
        "    if(isValid(row,col,i)):\n",
        "      sudoku_table[row][col] = i\n",
        "      if(solve(row+1,col)):\n",
        "        return True\n",
        "      # backtrack\n",
        "      sudoku_table[row][col] = 0\n",
        "  return False\n"
      ],
      "metadata": {
        "id": "2vrMyvUZYUkS"
      },
      "execution_count": null,
      "outputs": []
    },
    {
      "cell_type": "code",
      "source": [
        "def solve_problem():\n",
        "  if(solve(0,0)):\n",
        "    print('Solution Exist')\n",
        "    print_table(sudoku_table)\n",
        "  else:\n",
        "    print('Solution doesnt exists')\n"
      ],
      "metadata": {
        "id": "1nxuQzSiYTIL"
      },
      "execution_count": null,
      "outputs": []
    },
    {
      "cell_type": "code",
      "source": [
        "solve_problem()"
      ],
      "metadata": {
        "colab": {
          "base_uri": "https://localhost:8080/"
        },
        "id": "X6bDSzhsbIdc",
        "outputId": "9e850c43-140d-4a24-c084-dddda65fae3a"
      },
      "execution_count": null,
      "outputs": [
        {
          "output_type": "stream",
          "name": "stdout",
          "text": [
            "Solution Exist\n",
            "  \n",
            "  3 1 6   5 7 8   4 9 2 \n",
            "  5 2 9   1 3 4   7 6 8 \n",
            "  4 8 7   6 2 9   5 3 1 \n",
            "  \n",
            "  2 6 3   4 1 5   9 8 7 \n",
            "  9 7 4   8 6 3   1 2 5 \n",
            "  8 5 1   7 9 2   6 4 3 \n",
            "  \n",
            "  1 3 8   9 4 7   2 5 6 \n",
            "  6 9 2   3 5 1   8 7 4 \n",
            "  7 4 5   2 8 6   3 1 9 \n"
          ]
        }
      ]
    },
    {
      "cell_type": "code",
      "source": [
        "print_table(sudoku_table)"
      ],
      "metadata": {
        "colab": {
          "base_uri": "https://localhost:8080/"
        },
        "id": "ogiMT4n6d62i",
        "outputId": "39fe89fe-eae1-4e0c-c67c-1dc4812ef81b"
      },
      "execution_count": null,
      "outputs": [
        {
          "output_type": "stream",
          "name": "stdout",
          "text": [
            "  \n",
            "  3 0 6   5 0 8   4 0 0 \n",
            "  5 2 0   0 0 0   0 0 0 \n",
            "  0 8 7   0 0 0   0 3 1 \n",
            "  \n",
            "  0 0 3   0 1 0   0 8 0 \n",
            "  9 0 0   8 6 3   0 0 5 \n",
            "  0 5 0   0 9 0   6 0 0 \n",
            "  \n",
            "  1 3 0   0 0 0   2 5 0 \n",
            "  0 0 0   0 0 0   0 7 4 \n",
            "  0 0 5   2 0 6   3 0 0 \n"
          ]
        }
      ]
    },
    {
      "cell_type": "code",
      "source": [],
      "metadata": {
        "id": "x5GY9Vcqjc58"
      },
      "execution_count": null,
      "outputs": []
    },
    {
      "cell_type": "markdown",
      "source": [
        "# Dynamic Programming - fib\n",
        "- memomization(top-down approach)\n",
        "- tabulation(bottom-up approach)\n"
      ],
      "metadata": {
        "id": "jVHcHGS3aRNs"
      }
    },
    {
      "cell_type": "code",
      "source": [
        "def fib_mem(n,table):\n",
        "  if (n not in table.keys()):\n",
        "    table[n] = fib_mem(n-1,table)+fib_mem(n-2,table)\n",
        "  return table.get(n)"
      ],
      "metadata": {
        "id": "qY4C4Lbf6GSm"
      },
      "execution_count": null,
      "outputs": []
    },
    {
      "cell_type": "code",
      "source": [
        "table = {0:1,\n",
        "         1:1}\n",
        "table"
      ],
      "metadata": {
        "colab": {
          "base_uri": "https://localhost:8080/"
        },
        "id": "tDFpcdkX6GP3",
        "outputId": "b807b228-bcc1-42bb-af68-93f1a8c41bf0"
      },
      "execution_count": null,
      "outputs": [
        {
          "output_type": "execute_result",
          "data": {
            "text/plain": [
              "{0: 1, 1: 1}"
            ]
          },
          "metadata": {},
          "execution_count": 39
        }
      ]
    },
    {
      "cell_type": "code",
      "source": [
        "fib(35)"
      ],
      "metadata": {
        "colab": {
          "base_uri": "https://localhost:8080/"
        },
        "id": "u-MgwFfXCG6X",
        "outputId": "0950c2f9-9057-4b21-ef93-05cf1e323554"
      },
      "execution_count": null,
      "outputs": [
        {
          "output_type": "execute_result",
          "data": {
            "text/plain": [
              "14930352"
            ]
          },
          "metadata": {},
          "execution_count": 51
        }
      ]
    },
    {
      "cell_type": "code",
      "source": [
        "fib_mem(35,table)"
      ],
      "metadata": {
        "colab": {
          "base_uri": "https://localhost:8080/"
        },
        "id": "0HNx60kh6GM6",
        "outputId": "5c40e98a-7fea-4766-d850-7ecf3c26e5bf"
      },
      "execution_count": null,
      "outputs": [
        {
          "output_type": "execute_result",
          "data": {
            "text/plain": [
              "14930352"
            ]
          },
          "metadata": {},
          "execution_count": 52
        }
      ]
    },
    {
      "cell_type": "code",
      "source": [
        "def fib_tab(n,table):\n",
        "  for i in range(2,n+1):\n",
        "    table[i] = table[i-1]+table[i-2]\n",
        "  return table.get(n)\n"
      ],
      "metadata": {
        "id": "z_Aw2mfr6GKH"
      },
      "execution_count": null,
      "outputs": []
    },
    {
      "cell_type": "code",
      "source": [
        "table = {0:1,\n",
        "         1:1}\n",
        "fib_tab(35,table)"
      ],
      "metadata": {
        "colab": {
          "base_uri": "https://localhost:8080/"
        },
        "id": "c69e4Jcq6GG_",
        "outputId": "bc895865-3059-4477-d389-33c206445af2"
      },
      "execution_count": null,
      "outputs": [
        {
          "output_type": "execute_result",
          "data": {
            "text/plain": [
              "14930352"
            ]
          },
          "metadata": {},
          "execution_count": 55
        }
      ]
    },
    {
      "cell_type": "code",
      "source": [],
      "metadata": {
        "id": "IBQciyGg6GEI"
      },
      "execution_count": null,
      "outputs": []
    },
    {
      "cell_type": "markdown",
      "source": [
        "# Dynamic Programming - 0/1 knapsack problem\n"
      ],
      "metadata": {
        "id": "q4yGZuMeD9ZP"
      }
    },
    {
      "cell_type": "code",
      "source": [
        "def print_sol(mat):\n",
        "  for row in mat:\n",
        "    for cell in row:\n",
        "      print(cell, end=' ')\n",
        "    print('')"
      ],
      "metadata": {
        "id": "kBK5dyYzf3pq"
      },
      "execution_count": null,
      "outputs": []
    },
    {
      "cell_type": "code",
      "source": [
        "items = 5\n",
        "capacity = 7\n",
        "dynamic_table = []\n",
        "weights = [0,1,3,4,5,2]\n",
        "values = [0,1,4,5,7,6]\n",
        "for i in range(items+1):\n",
        "  dynamic_table.append([0]*(capacity+1))\n",
        "print_sol(dynamic_table)"
      ],
      "metadata": {
        "colab": {
          "base_uri": "https://localhost:8080/"
        },
        "id": "Cr3zUpqO6GBu",
        "outputId": "eb397d2a-0c0e-485a-8e34-2d7a992411c2"
      },
      "execution_count": null,
      "outputs": [
        {
          "output_type": "stream",
          "name": "stdout",
          "text": [
            "0 0 0 0 0 0 0 0 \n",
            "0 0 0 0 0 0 0 0 \n",
            "0 0 0 0 0 0 0 0 \n",
            "0 0 0 0 0 0 0 0 \n",
            "0 0 0 0 0 0 0 0 \n",
            "0 0 0 0 0 0 0 0 \n"
          ]
        }
      ]
    },
    {
      "cell_type": "code",
      "source": [
        "def solve():\n",
        "  # traverse table according to the requirement\n",
        "  for i in range(1,items+1):\n",
        "    for w in range(1,capacity+1):\n",
        "      nottaken = dynamic_table[i-1][w]\n",
        "      taken = 0\n",
        "      # check weight\n",
        "      if(weights[i] <= w):\n",
        "        taken = values[i] + dynamic_table[i-1][w-(weights[i])]\n",
        "      # update table\n",
        "      dynamic_table[i][w] = max(nottaken,taken)\n"
      ],
      "metadata": {
        "id": "ZT7EUzwB6F-v"
      },
      "execution_count": null,
      "outputs": []
    },
    {
      "cell_type": "code",
      "source": [
        "solve()\n",
        "print('totale benefit :',dynamic_table[items][capacity])\n",
        "# print_sol(dynamic_table)"
      ],
      "metadata": {
        "colab": {
          "base_uri": "https://localhost:8080/"
        },
        "id": "8AzQHBgI6F72",
        "outputId": "476a6aad-3c6e-4372-a802-f83ea1119d17"
      },
      "execution_count": null,
      "outputs": [
        {
          "output_type": "stream",
          "name": "stdout",
          "text": [
            "totale benefit : 13\n"
          ]
        }
      ]
    },
    {
      "cell_type": "code",
      "source": [
        "print_sol(dynamic_table)"
      ],
      "metadata": {
        "colab": {
          "base_uri": "https://localhost:8080/"
        },
        "id": "fIYs_Kccjym1",
        "outputId": "e4bc3e2c-1af3-4920-8bf6-21939407f807"
      },
      "execution_count": null,
      "outputs": [
        {
          "output_type": "stream",
          "name": "stdout",
          "text": [
            "0 0 0 0 0 0 0 0 \n",
            "0 1 1 1 1 1 1 1 \n",
            "0 1 1 4 5 5 5 5 \n",
            "0 1 1 4 5 6 6 9 \n",
            "0 1 1 4 5 7 8 9 \n",
            "0 1 6 7 7 10 11 13 \n"
          ]
        }
      ]
    },
    {
      "cell_type": "code",
      "source": [
        "def items_taken():\n",
        "  cap = capacity\n",
        "  for i in range(items,0,-1):\n",
        "    if((dynamic_table[i][cap] !=0) and (dynamic_table[i][cap] != dynamic_table[i-1][cap])):\n",
        "      print('item taken:',i)\n",
        "      cap -= weights[i]"
      ],
      "metadata": {
        "id": "Ok6ngwol6F5G"
      },
      "execution_count": null,
      "outputs": []
    },
    {
      "cell_type": "code",
      "source": [
        "items_taken()"
      ],
      "metadata": {
        "colab": {
          "base_uri": "https://localhost:8080/"
        },
        "id": "tYDcazBS6F2e",
        "outputId": "446ecf58-df71-4c8d-8ff5-a63304c72961"
      },
      "execution_count": null,
      "outputs": [
        {
          "output_type": "stream",
          "name": "stdout",
          "text": [
            "item taken: 5\n",
            "item taken: 4\n"
          ]
        }
      ]
    },
    {
      "cell_type": "code",
      "source": [],
      "metadata": {
        "id": "tgRgpoQi6FuC"
      },
      "execution_count": null,
      "outputs": []
    },
    {
      "cell_type": "markdown",
      "source": [
        "# Dynamic Programming - Rod cutting problem\n"
      ],
      "metadata": {
        "id": "zi8bjwVSH6ws"
      }
    },
    {
      "cell_type": "code",
      "source": [
        "def print_sol(mat):\n",
        "  for row in mat:\n",
        "    for cell in row:\n",
        "      print(cell, end=' ')\n",
        "    print('')"
      ],
      "metadata": {
        "id": "oTZfCQLM6Foz"
      },
      "execution_count": null,
      "outputs": []
    },
    {
      "cell_type": "code",
      "source": [
        "rodlen = 5\n",
        "dynamic_table = []\n",
        "prices = [0,2,5,7,3,9]\n",
        "for i in range(len(prices)):\n",
        "  dynamic_table.append([0]*(rodlen+1))\n",
        "print_sol(dynamic_table)"
      ],
      "metadata": {
        "colab": {
          "base_uri": "https://localhost:8080/"
        },
        "id": "-njqQE7d6FrX",
        "outputId": "78d33c2f-166e-4277-eaa7-f9cff8e10709"
      },
      "execution_count": null,
      "outputs": [
        {
          "output_type": "stream",
          "name": "stdout",
          "text": [
            "0 0 0 0 0 0 \n",
            "0 0 0 0 0 0 \n",
            "0 0 0 0 0 0 \n",
            "0 0 0 0 0 0 \n",
            "0 0 0 0 0 0 \n",
            "0 0 0 0 0 0 \n"
          ]
        }
      ]
    },
    {
      "cell_type": "code",
      "source": [
        "def solve():\n",
        "  for i in range(1,len(prices)):\n",
        "    for j in range(1,rodlen+1):\n",
        "      if (i <= j):\n",
        "        dynamic_table[i][j] = max((prices[i]+dynamic_table[i][j-i]),dynamic_table[i-1][j])\n",
        "      else:\n",
        "        dynamic_table[i][j] = dynamic_table[i-1][j]\n"
      ],
      "metadata": {
        "id": "8jsaM96M2tY_"
      },
      "execution_count": null,
      "outputs": []
    },
    {
      "cell_type": "code",
      "source": [
        "solve()\n",
        "print('totale benefit :',dynamic_table[len(prices)-1][rodlen])"
      ],
      "metadata": {
        "colab": {
          "base_uri": "https://localhost:8080/"
        },
        "id": "OIZFMYBq2tV9",
        "outputId": "f1348122-ef88-4d2a-e179-4389ecf16d0d"
      },
      "execution_count": null,
      "outputs": [
        {
          "output_type": "stream",
          "name": "stdout",
          "text": [
            "totale benefit : 12\n"
          ]
        }
      ]
    },
    {
      "cell_type": "code",
      "source": [
        "print_sol(dynamic_table)"
      ],
      "metadata": {
        "colab": {
          "base_uri": "https://localhost:8080/"
        },
        "id": "PppxCTH52tTW",
        "outputId": "47b129fa-a82e-4687-96c3-dc37847e76cf"
      },
      "execution_count": null,
      "outputs": [
        {
          "output_type": "stream",
          "name": "stdout",
          "text": [
            "0 0 0 0 0 0 \n",
            "0 2 4 6 8 10 \n",
            "0 2 5 7 10 12 \n",
            "0 2 5 7 10 12 \n",
            "0 2 5 7 10 12 \n",
            "0 2 5 7 10 12 \n"
          ]
        }
      ]
    },
    {
      "cell_type": "code",
      "source": [
        "def rod_len_needed():\n",
        "  w = rodlen\n",
        "  n = len(prices)-1\n",
        "  while(n>0):\n",
        "    if((dynamic_table[n][w] !=0) and (dynamic_table[n][w] != dynamic_table[n-1][w])):\n",
        "      print('rod len taken:',n)\n",
        "      w -= n\n",
        "    else:\n",
        "      n -= 1"
      ],
      "metadata": {
        "id": "9hQh0l0T2tQ5"
      },
      "execution_count": null,
      "outputs": []
    },
    {
      "cell_type": "code",
      "source": [
        "rod_len_needed()"
      ],
      "metadata": {
        "colab": {
          "base_uri": "https://localhost:8080/"
        },
        "id": "2u8LcWmS2tOa",
        "outputId": "5ad6c1f9-5e38-433b-c085-792731442531"
      },
      "execution_count": null,
      "outputs": [
        {
          "output_type": "stream",
          "name": "stdout",
          "text": [
            "rod len taken: 2\n",
            "rod len taken: 2\n",
            "rod len taken: 1\n"
          ]
        }
      ]
    },
    {
      "cell_type": "code",
      "source": [],
      "metadata": {
        "id": "5PiPdlZc2tL7"
      },
      "execution_count": null,
      "outputs": []
    },
    {
      "cell_type": "markdown",
      "source": [
        "# Dynamic Programming - Sum of Subset problem"
      ],
      "metadata": {
        "id": "LlmnwTts9fPf"
      }
    },
    {
      "cell_type": "code",
      "source": [
        "def print_sol(mat):\n",
        "  for row in mat:\n",
        "    for cell in row:\n",
        "      print(cell, end=' ')\n",
        "    print('')"
      ],
      "metadata": {
        "id": "WeZNArFr2tJm"
      },
      "execution_count": null,
      "outputs": []
    },
    {
      "cell_type": "code",
      "source": [
        "# nums = [1,7,4,3,6,5,9,11]\n",
        "nums = [3,5,4]\n",
        "# target = 43\n",
        "target = 7\n",
        "dynamic_table = []\n",
        "for i in range(len(nums)+1):\n",
        "  dynamic_table.append([False]*(target+1))\n",
        "print_sol(dynamic_table)"
      ],
      "metadata": {
        "colab": {
          "base_uri": "https://localhost:8080/"
        },
        "id": "p3gdBEpQ2tHC",
        "outputId": "750d4e24-2a66-439a-b48c-4c7a756bf3f3"
      },
      "execution_count": null,
      "outputs": [
        {
          "output_type": "stream",
          "name": "stdout",
          "text": [
            "False False False False False False False False \n",
            "False False False False False False False False \n",
            "False False False False False False False False \n",
            "False False False False False False False False \n"
          ]
        }
      ]
    },
    {
      "cell_type": "code",
      "source": [
        "def solve():\n",
        "  # first col is True always\n",
        "  for i in range(len(nums)+1):\n",
        "    dynamic_table[i][0] = True\n",
        "\n",
        "  for row in range(1,len(nums)+1):\n",
        "    for col in range(1,target+1):\n",
        "      # belows condition saves for out of range exeception\n",
        "      if (col < nums[row-1]):\n",
        "        dynamic_table[row][col] = dynamic_table[row-1][col]\n",
        "      else:\n",
        "        # heres the main part\n",
        "        if(dynamic_table[row-1][col]):\n",
        "          dynamic_table[row][col] = dynamic_table[row-1][col]\n",
        "        else:\n",
        "          dynamic_table[row][col] = dynamic_table[row-1][col-nums[row-1]]\n"
      ],
      "metadata": {
        "id": "eDhSdTcf2tEh"
      },
      "execution_count": null,
      "outputs": []
    },
    {
      "cell_type": "code",
      "source": [
        "solve()\n",
        "print('Is there a feasible solution ? :',dynamic_table[len(nums)][target])"
      ],
      "metadata": {
        "colab": {
          "base_uri": "https://localhost:8080/"
        },
        "id": "bcAzTLkw6FmP",
        "outputId": "5fd1b467-f381-4870-c441-ff08df2e41b4"
      },
      "execution_count": null,
      "outputs": [
        {
          "output_type": "stream",
          "name": "stdout",
          "text": [
            "Is there a feasible solution ? : True\n"
          ]
        }
      ]
    },
    {
      "cell_type": "code",
      "source": [
        "print_sol(dynamic_table)"
      ],
      "metadata": {
        "colab": {
          "base_uri": "https://localhost:8080/"
        },
        "id": "0m97OaeobFqv",
        "outputId": "71afd6f6-1bc3-4949-91a0-530298b6b58d"
      },
      "execution_count": null,
      "outputs": [
        {
          "output_type": "stream",
          "name": "stdout",
          "text": [
            "True False False False False False False False \n",
            "True False False True False False False False \n",
            "True False False True False True False False \n",
            "True False False True True True False True \n"
          ]
        }
      ]
    },
    {
      "cell_type": "code",
      "source": [
        "def included_nums():\n",
        "  col = target\n",
        "  row = len(nums)\n",
        "  while(row>0 or col>0):\n",
        "    if (dynamic_table[row][col] == dynamic_table[row-1][col]):\n",
        "      row -= 1\n",
        "    else:\n",
        "      print('num included:',nums[row-1])\n",
        "      col -= nums[row-1]\n",
        "      row -= 1"
      ],
      "metadata": {
        "id": "Z3I8sIyH6Fjn"
      },
      "execution_count": null,
      "outputs": []
    },
    {
      "cell_type": "code",
      "source": [
        "included_nums()"
      ],
      "metadata": {
        "colab": {
          "base_uri": "https://localhost:8080/"
        },
        "id": "8Za4HLu36FhG",
        "outputId": "acd0a04c-aba6-4253-9194-8b6d694cdb7f"
      },
      "execution_count": null,
      "outputs": [
        {
          "output_type": "stream",
          "name": "stdout",
          "text": [
            "num included: 4\n",
            "num included: 3\n"
          ]
        }
      ]
    },
    {
      "cell_type": "code",
      "source": [],
      "metadata": {
        "id": "tAmsrK266Fej"
      },
      "execution_count": null,
      "outputs": []
    },
    {
      "cell_type": "markdown",
      "source": [
        "# Dynamic Programming - Max consecutive sub-array problem(kadane's algorithm)"
      ],
      "metadata": {
        "id": "UqtsNkWPcTSB"
      }
    },
    {
      "cell_type": "code",
      "source": [
        "def print_sol(mat):\n",
        "  for row in mat:\n",
        "    for cell in row:\n",
        "      print(cell, end=' ')\n",
        "    print('')"
      ],
      "metadata": {
        "id": "E4YwSf9ybVID"
      },
      "execution_count": null,
      "outputs": []
    },
    {
      "cell_type": "code",
      "source": [
        "nums = [1,-2,2,-3,1]"
      ],
      "metadata": {
        "id": "IHt5Q5XebVEo"
      },
      "execution_count": null,
      "outputs": []
    },
    {
      "cell_type": "code",
      "source": [
        "def solve(nums):\n",
        "  globalmax = nums[0]\n",
        "  localmax = nums[0]\n",
        "  for i in range(1,len(nums)):\n",
        "    localmax = max(nums[i], localmax+nums[i])\n",
        "    if (localmax > globalmax):\n",
        "      globalmax = localmax\n",
        "  return globalmax"
      ],
      "metadata": {
        "id": "_LgrumUUbVBw"
      },
      "execution_count": null,
      "outputs": []
    },
    {
      "cell_type": "code",
      "source": [
        "solve(nums)"
      ],
      "metadata": {
        "colab": {
          "base_uri": "https://localhost:8080/"
        },
        "id": "STQKrJMWbU-x",
        "outputId": "1a908ef2-6dfe-4f22-eaee-ab278cc44949"
      },
      "execution_count": null,
      "outputs": [
        {
          "output_type": "execute_result",
          "data": {
            "text/plain": [
              "2"
            ]
          },
          "metadata": {},
          "execution_count": 45
        }
      ]
    },
    {
      "cell_type": "code",
      "source": [],
      "metadata": {
        "id": "SFoR2zxtbU7o"
      },
      "execution_count": null,
      "outputs": []
    },
    {
      "cell_type": "markdown",
      "source": [
        "# Bin Packing problem - first fir decreassing algorithm"
      ],
      "metadata": {
        "id": "hgBW3ehkiUgn"
      }
    },
    {
      "cell_type": "code",
      "source": [
        "class bin:\n",
        "  def __init__(self,id,capacity):\n",
        "    self.actualsize = 0\n",
        "    self.capacity = capacity\n",
        "    self.id = id\n",
        "    self.items = []\n",
        "\n",
        "  def put(self,item):\n",
        "    # item doesn't fit the bin\n",
        "    if (self.actualsize + item > self.capacity):\n",
        "      return False\n",
        "    items.append(item)\n",
        "    self.actualsize += item\n",
        "    return True\n",
        "\n",
        "  def __str__(self):\n",
        "    for item in self.items:\n",
        "      print(item)\n",
        "    return \"Id of Bin: {0.id} \\nActual size of Bin: {0.actualsize} \\nCapacity of bin: {0.capacity}\" .format(self)"
      ],
      "metadata": {
        "id": "-5dNHclqbU4g"
      },
      "execution_count": null,
      "outputs": []
    },
    {
      "cell_type": "code",
      "source": [
        "items = [4,2,7,5,6,3]\n",
        "bin_capacity =8\n",
        "bins = []"
      ],
      "metadata": {
        "id": "o9VO3QHJoNrW"
      },
      "execution_count": null,
      "outputs": []
    },
    {
      "cell_type": "code",
      "source": [
        "def solve(items):\n",
        "  bin_counter = 1\n",
        "  items_sorted = sorted(items,reverse=True)\n",
        "  # print(items_sorted)\n",
        "  # if no solution\n",
        "  if (items_sorted[0] > bin_capacity):\n",
        "    print('no feasiblie solution')\n",
        "    return\n",
        "  # create first bin\n",
        "  bins.append(bin(bin_counter,bin_capacity))\n",
        "  for item in items_sorted:\n",
        "    # to check if item is in bin or not\n",
        "    # print(item)\n",
        "    isOk = False\n",
        "    cur_bin = 0\n",
        "    while not isOk:\n",
        "      # items doesnt fit any bins, so make a new bin\n",
        "      if (cur_bin == len(bins)):\n",
        "        bin_counter += 1\n",
        "        new_bin = bin(bin_counter, bin_capacity)\n",
        "        new_bin.put(item)\n",
        "        bins.append(new_bin)\n",
        "        print('item '+str(item)+ ' added to bin:',bins[cur_bin].id)\n",
        "        isOk = True\n",
        "      elif(bins[cur_bin].put(item)):\n",
        "        print('item '+str(item)+ ' added to bin:',bins[cur_bin].id)\n",
        "        isOk = True\n",
        "      else:\n",
        "        cur_bin += 1\n",
        "  # bins.append(bin(0,capacity,1))"
      ],
      "metadata": {
        "id": "TwjOMz7kbUuw"
      },
      "execution_count": null,
      "outputs": []
    },
    {
      "cell_type": "code",
      "source": [
        "solve(items)"
      ],
      "metadata": {
        "colab": {
          "base_uri": "https://localhost:8080/"
        },
        "id": "-NWUpAyWbUrw",
        "outputId": "ebc9baa8-1190-40e3-e5cf-6b77255c9d96"
      },
      "execution_count": null,
      "outputs": [
        {
          "output_type": "stream",
          "name": "stdout",
          "text": [
            "item 7 added to bin: 1\n",
            "item 6 added to bin: 2\n",
            "item 5 added to bin: 3\n",
            "item 4 added to bin: 4\n",
            "item 3 added to bin: 3\n",
            "item 2 added to bin: 2\n"
          ]
        }
      ]
    },
    {
      "cell_type": "code",
      "source": [
        "for b in bins:\n",
        "  print(b)\n",
        "  print('')"
      ],
      "metadata": {
        "colab": {
          "base_uri": "https://localhost:8080/"
        },
        "id": "ddYPQUTlbUop",
        "outputId": "3752ce50-fb03-497e-d1c9-2525b0cd1c58"
      },
      "execution_count": null,
      "outputs": [
        {
          "output_type": "stream",
          "name": "stdout",
          "text": [
            "Id of Bin: 1 \n",
            "Actual size of Bin: 7 \n",
            "Capacity of bin: 8\n",
            "\n",
            "Id of Bin: 2 \n",
            "Actual size of Bin: 8 \n",
            "Capacity of bin: 8\n",
            "\n",
            "Id of Bin: 3 \n",
            "Actual size of Bin: 8 \n",
            "Capacity of bin: 8\n",
            "\n",
            "Id of Bin: 4 \n",
            "Actual size of Bin: 4 \n",
            "Capacity of bin: 8\n",
            "\n"
          ]
        }
      ]
    },
    {
      "cell_type": "code",
      "source": [],
      "metadata": {
        "id": "CGDeXt03bUfj"
      },
      "execution_count": null,
      "outputs": []
    },
    {
      "cell_type": "markdown",
      "source": [
        "# Divide and Conquer - Merge Sort"
      ],
      "metadata": {
        "id": "YIIrqfgiDGYy"
      }
    },
    {
      "cell_type": "code",
      "source": [
        "num = [5,-1,0,7,2,3,2,1,0,1,2]\n",
        "# temp = []\n",
        "temp = [0] * len(num)\n",
        "# for i in range(len(num)):\n",
        "#   temp.append(0)\n",
        "temp"
      ],
      "metadata": {
        "colab": {
          "base_uri": "https://localhost:8080/"
        },
        "id": "amCcNrHqbUca",
        "outputId": "4a2c24ff-68c8-45bd-b69b-fd00639a36f8"
      },
      "execution_count": null,
      "outputs": [
        {
          "output_type": "execute_result",
          "data": {
            "text/plain": [
              "[0, 0, 0, 0, 0, 0, 0, 0, 0, 0, 0]"
            ]
          },
          "metadata": {},
          "execution_count": 323
        }
      ]
    },
    {
      "cell_type": "code",
      "source": [
        "def merge(low,mid,high):\n",
        "  for index in range(low, high + 1):\n",
        "      temp[index] = num[index]\n",
        "  print(temp)\n",
        "  i = low\n",
        "  j = mid+1\n",
        "  k = low\n",
        "  # print('i',i)\n",
        "  # print('j',j)\n",
        "  # print('k',k)\n",
        "  # print('high',high)\n",
        "  while(i<=mid and j<=high):\n",
        "    if(temp[i] < temp[j]):\n",
        "      num[k] = temp[i]\n",
        "      i += 1\n",
        "    else:\n",
        "      num[k] = temp[j]\n",
        "      j += 1\n",
        "    k += 1\n",
        "  # for reamining array with values when one is finished\n",
        "  while(i<=mid):\n",
        "    num[k] = temp[i]\n",
        "    i += 1\n",
        "    k += 1\n",
        "\n",
        "  while(j<=high):\n",
        "    # print(j)\n",
        "    # print(k)\n",
        "    num[k] = temp[j]\n",
        "    j += 1\n",
        "    k += 1\n",
        "  print('num',num)"
      ],
      "metadata": {
        "id": "hHw4qWOGEOA9"
      },
      "execution_count": null,
      "outputs": []
    },
    {
      "cell_type": "code",
      "source": [
        "def mergesort(low,high):\n",
        "  # base case\n",
        "\n",
        "  if(low >= high):\n",
        "    return\n",
        "  # divide\n",
        "  mid = (low+high)//2\n",
        "  # print('low',low)\n",
        "  # print('high', high)\n",
        "  # print('mid',mid)\n",
        "  mergesort(low,mid)\n",
        "  mergesort(mid+1,high)\n",
        "  # merge\n",
        "  merge(low,mid,high)"
      ],
      "metadata": {
        "id": "taHAOx_dDlDK"
      },
      "execution_count": null,
      "outputs": []
    },
    {
      "cell_type": "code",
      "source": [
        "def sort():\n",
        "  mergesort(0,len(num)-1)"
      ],
      "metadata": {
        "id": "UGKev8kRbUWC"
      },
      "execution_count": null,
      "outputs": []
    },
    {
      "cell_type": "code",
      "source": [
        "sort()"
      ],
      "metadata": {
        "colab": {
          "base_uri": "https://localhost:8080/"
        },
        "id": "wPdSQ2a1bUSz",
        "outputId": "d03f38cc-8b66-4761-ae2e-9eeb9d1c7bd3"
      },
      "execution_count": null,
      "outputs": [
        {
          "output_type": "stream",
          "name": "stdout",
          "text": [
            "[5, -1, 0, 0, 0, 0, 0, 0, 0, 0, 0]\n",
            "num [-1, 5, 0, 7, 2, 3, 2, 1, 0, 1, 2]\n",
            "[-1, 5, 0, 0, 0, 0, 0, 0, 0, 0, 0]\n",
            "num [-1, 0, 5, 7, 2, 3, 2, 1, 0, 1, 2]\n",
            "[-1, 5, 0, 7, 2, 0, 0, 0, 0, 0, 0]\n",
            "num [-1, 0, 5, 2, 7, 3, 2, 1, 0, 1, 2]\n",
            "[-1, 5, 0, 2, 7, 3, 0, 0, 0, 0, 0]\n",
            "num [-1, 0, 5, 2, 3, 7, 2, 1, 0, 1, 2]\n",
            "[-1, 0, 5, 2, 3, 7, 0, 0, 0, 0, 0]\n",
            "num [-1, 0, 2, 3, 5, 7, 2, 1, 0, 1, 2]\n",
            "[-1, 0, 5, 2, 3, 7, 2, 1, 0, 0, 0]\n",
            "num [-1, 0, 2, 3, 5, 7, 1, 2, 0, 1, 2]\n",
            "[-1, 0, 5, 2, 3, 7, 1, 2, 0, 0, 0]\n",
            "num [-1, 0, 2, 3, 5, 7, 0, 1, 2, 1, 2]\n",
            "[-1, 0, 5, 2, 3, 7, 1, 2, 0, 1, 2]\n",
            "num [-1, 0, 2, 3, 5, 7, 0, 1, 2, 1, 2]\n",
            "[-1, 0, 5, 2, 3, 7, 0, 1, 2, 1, 2]\n",
            "num [-1, 0, 2, 3, 5, 7, 0, 1, 1, 2, 2]\n",
            "[-1, 0, 2, 3, 5, 7, 0, 1, 1, 2, 2]\n",
            "num [-1, 0, 0, 1, 1, 2, 2, 2, 3, 5, 7]\n"
          ]
        }
      ]
    },
    {
      "cell_type": "code",
      "source": [
        "temp"
      ],
      "metadata": {
        "colab": {
          "base_uri": "https://localhost:8080/"
        },
        "id": "xoSgxjeQbUP1",
        "outputId": "1cc54dff-d07a-4684-e59f-4caeee05ae2e"
      },
      "execution_count": null,
      "outputs": [
        {
          "output_type": "execute_result",
          "data": {
            "text/plain": [
              "[-1, 0, 2, 3, 5, 7, 0, 1, 1, 2, 2]"
            ]
          },
          "metadata": {},
          "execution_count": 329
        }
      ]
    },
    {
      "cell_type": "code",
      "source": [
        "num"
      ],
      "metadata": {
        "colab": {
          "base_uri": "https://localhost:8080/"
        },
        "id": "4ZWUEVZTbUNZ",
        "outputId": "e340b3ab-ea7b-4086-dd86-cc1714714137"
      },
      "execution_count": null,
      "outputs": [
        {
          "output_type": "execute_result",
          "data": {
            "text/plain": [
              "[-1, 0, 0, 1, 1, 2, 2, 2, 3, 5, 7]"
            ]
          },
          "metadata": {},
          "execution_count": 314
        }
      ]
    },
    {
      "cell_type": "code",
      "source": [],
      "metadata": {
        "id": "Fm8Ur_MXpmK7"
      },
      "execution_count": null,
      "outputs": []
    },
    {
      "cell_type": "markdown",
      "source": [
        "# Divide and Conquer - Closest pair of points"
      ],
      "metadata": {
        "id": "du_nDOhipmz-"
      }
    },
    {
      "cell_type": "code",
      "source": [
        "class Point:\n",
        "  def __init__(self,x,y):\n",
        "    self.x = x\n",
        "    self.y = y\n",
        "\n",
        "  def getX(self):\n",
        "    return self.x\n",
        "\n",
        "  def getY(self):\n",
        "    return self.y\n",
        "\n",
        "  def setY(self,y):\n",
        "    self.y = y\n",
        "\n",
        "  def setX(self,x):\n",
        "    self.x = x\n",
        "\n",
        "  # def Xsort(self):\n",
        "  #   self.x.sort()\n",
        "\n",
        "  # def Ysort(self):\n",
        "  #   self.y.sort()\n",
        "\n",
        "  def __str__(self):\n",
        "    return \"({0.x},{0.y})\".format(self)\n"
      ],
      "metadata": {
        "id": "Ds_6mPympmHV"
      },
      "execution_count": null,
      "outputs": []
    },
    {
      "cell_type": "code",
      "source": [
        "# p1 = Point(2.5,3)\n",
        "# p2 = Point(3,3)\n",
        "# p3 = Point(1,1)\n",
        "# p4 = Point(1,2)\n",
        "# p5 = Point(2,1)\n",
        "# p6 = Point(2,2)\n",
        "# points = [p1,p2,p3,p4,p5,p6]\n",
        "# for p in points:\n",
        "#   print(p)"
      ],
      "metadata": {
        "colab": {
          "base_uri": "https://localhost:8080/"
        },
        "id": "9lC4VfMHsFy1",
        "outputId": "7bfa4554-dabe-4f86-9e47-7affcc525a66"
      },
      "execution_count": null,
      "outputs": [
        {
          "output_type": "stream",
          "name": "stdout",
          "text": [
            "(2.5,3)\n",
            "(3,3)\n",
            "(1,1)\n",
            "(1,2)\n",
            "(2,1)\n",
            "(2,2)\n"
          ]
        }
      ]
    },
    {
      "cell_type": "code",
      "source": [
        "# sortedX = sorted(points, key=lambda point: point.getX())\n",
        "# sortedY = sorted(points, key=lambda point: point.getY())"
      ],
      "metadata": {
        "id": "cfXuGb9_pmEs"
      },
      "execution_count": null,
      "outputs": []
    },
    {
      "cell_type": "code",
      "source": [
        "# for p in sortedX:\n",
        "#   print(p)"
      ],
      "metadata": {
        "colab": {
          "base_uri": "https://localhost:8080/"
        },
        "id": "LAfefbGmM6JW",
        "outputId": "3817523d-cc10-4668-f481-fd1085f13e8e"
      },
      "execution_count": null,
      "outputs": [
        {
          "output_type": "stream",
          "name": "stdout",
          "text": [
            "(1,1)\n",
            "(1,2)\n",
            "(2,1)\n",
            "(2,2)\n",
            "(2.5,3)\n",
            "(3,3)\n"
          ]
        }
      ]
    },
    {
      "cell_type": "code",
      "source": [
        "# for p in sortedY:\n",
        "#   print(p)"
      ],
      "metadata": {
        "id": "LSydpErI19l2"
      },
      "execution_count": null,
      "outputs": []
    },
    {
      "cell_type": "code",
      "source": [
        "import math"
      ],
      "metadata": {
        "id": "YFMgIzETS8oj"
      },
      "execution_count": null,
      "outputs": []
    },
    {
      "cell_type": "code",
      "source": [
        "def distance(p1,p2):\n",
        "  return math.sqrt(abs(p1.getX()-p2.getX())**2 + abs(p1.getY()-p2.getY())**2)"
      ],
      "metadata": {
        "id": "UPOIEyc_SvY4"
      },
      "execution_count": null,
      "outputs": []
    },
    {
      "cell_type": "code",
      "source": [
        "def bruteforce(points):\n",
        "  minD = 2**31 - 1\n",
        "  for i in range(len(points)-1):\n",
        "    for j in range(i+1,len(points)):\n",
        "     actualD = distance(points[i],points[j])\n",
        "     if (actualD < minD):\n",
        "       minD = actualD\n",
        "  return minD\n"
      ],
      "metadata": {
        "id": "L1koKXUxSF5U"
      },
      "execution_count": null,
      "outputs": []
    },
    {
      "cell_type": "code",
      "source": [
        "def FindMinDistInStrip(points, delta):\n",
        "    minD = delta\n",
        "    for i in range(len(points)):\n",
        "        j = i+1\n",
        "        while(j<len(points) and (points[j].getY() - points[i].getY()) <  minD):\n",
        "            minD = distance(points[i], points[j])\n",
        "            j += 1\n",
        "    return minD\n"
      ],
      "metadata": {
        "id": "1TtrB-bfWyzo"
      },
      "execution_count": null,
      "outputs": []
    },
    {
      "cell_type": "code",
      "source": [
        "def find_closest_pair(sortX, sortY, size):\n",
        "  # base case\n",
        "  if (size <= 3):\n",
        "    return bruteforce(sortX)\n",
        "  midindex = size//2\n",
        "  midpoint = sortX[midindex]\n",
        "  # divide\n",
        "  leftX = sortX[:midindex]\n",
        "  rightX = sortX[midindex:]\n",
        "  # find min dist pair in left and right\n",
        "  leftmin = find_closest_pair(leftX, sortY, midindex)\n",
        "  rightmin = find_closest_pair(rightX, sortY, size-midindex)\n",
        "  delta = min(leftmin, rightmin)\n",
        "  # points in strip\n",
        "  pointsInStrip = []\n",
        "  for index in range(0,size):\n",
        "    if(abs(sortY[index].getX() - midpoint.getX()) < delta):\n",
        "      pointsInStrip.append(sortY[index])\n",
        "  # find min dist pair in strip\n",
        "  stripmin = FindMinDistInStrip(pointsInStrip, delta)\n",
        "  return min(delta,stripmin )\n"
      ],
      "metadata": {
        "id": "3MpfONE5pls_"
      },
      "execution_count": null,
      "outputs": []
    },
    {
      "cell_type": "code",
      "source": [
        "def solve():\n",
        "  p1 = Point(2.5,3)\n",
        "  p2 = Point(3,3)\n",
        "  p3 = Point(1,1)\n",
        "  p4 = Point(1,2)\n",
        "  p5 = Point(2,1)\n",
        "  p6 = Point(2,2)\n",
        "  points = [p1,p2,p3,p4,p5,p6]\n",
        "  sortedX = sorted(points, key=lambda point: point.getX())\n",
        "  sortedY = sorted(points, key=lambda point: point.getY())\n",
        "  ans = find_closest_pair(sortedX, sortedY, len(points))\n",
        "  return ans\n"
      ],
      "metadata": {
        "id": "U9Eibg5q3tdC"
      },
      "execution_count": null,
      "outputs": []
    },
    {
      "cell_type": "code",
      "source": [
        "solve()"
      ],
      "metadata": {
        "colab": {
          "base_uri": "https://localhost:8080/"
        },
        "id": "D_M6rr2eplp-",
        "outputId": "184d1a1d-eb63-4418-cdc2-94c3a272347f"
      },
      "execution_count": null,
      "outputs": [
        {
          "output_type": "execute_result",
          "data": {
            "text/plain": [
              "0.5"
            ]
          },
          "metadata": {},
          "execution_count": 36
        }
      ]
    },
    {
      "cell_type": "code",
      "source": [],
      "metadata": {
        "id": "jcMDQY1c4wjI"
      },
      "execution_count": null,
      "outputs": []
    },
    {
      "cell_type": "markdown",
      "source": [
        "# Palindrome"
      ],
      "metadata": {
        "id": "AQhGXDRW4w9M"
      }
    },
    {
      "cell_type": "code",
      "source": [
        "l = [1,2,3,4,3,2,0]"
      ],
      "metadata": {
        "id": "0k1-QWeqplnb"
      },
      "execution_count": null,
      "outputs": []
    },
    {
      "cell_type": "code",
      "source": [
        "pal = l[::-1]"
      ],
      "metadata": {
        "id": "kC-Ptdrfplj2"
      },
      "execution_count": null,
      "outputs": []
    },
    {
      "cell_type": "code",
      "source": [
        "pal"
      ],
      "metadata": {
        "colab": {
          "base_uri": "https://localhost:8080/"
        },
        "id": "OJR1gKz3plhN",
        "outputId": "d35f7e29-c96d-4d22-dcff-42ea55d7a54d"
      },
      "execution_count": null,
      "outputs": [
        {
          "output_type": "execute_result",
          "data": {
            "text/plain": [
              "[0, 2, 3, 4, 3, 2, 1]"
            ]
          },
          "metadata": {},
          "execution_count": 52
        }
      ]
    },
    {
      "cell_type": "code",
      "source": [
        "if pal == l:\n",
        "  print('yes')\n",
        "else:\n",
        "  print('no')\n"
      ],
      "metadata": {
        "colab": {
          "base_uri": "https://localhost:8080/"
        },
        "id": "0ePu6l5apleU",
        "outputId": "5b436074-4a0c-42c3-91ca-8cfd3b0cda23"
      },
      "execution_count": null,
      "outputs": [
        {
          "output_type": "stream",
          "name": "stdout",
          "text": [
            "no\n"
          ]
        }
      ]
    },
    {
      "cell_type": "code",
      "source": [],
      "metadata": {
        "id": "BixzKas8plcH"
      },
      "execution_count": null,
      "outputs": []
    },
    {
      "cell_type": "markdown",
      "source": [
        "# Integer Reversion\n"
      ],
      "metadata": {
        "id": "CitjLyrX4zxP"
      }
    },
    {
      "cell_type": "code",
      "source": [
        "x =1234\n",
        "rev = 0"
      ],
      "metadata": {
        "id": "JQHEtawlplYd"
      },
      "execution_count": null,
      "outputs": []
    },
    {
      "cell_type": "code",
      "source": [
        "while(x>0):\n",
        "  rem = x%10\n",
        "  x = x//10\n",
        "  rev = rev*10 + rem"
      ],
      "metadata": {
        "id": "7je3GZnSbUKF"
      },
      "execution_count": null,
      "outputs": []
    },
    {
      "cell_type": "code",
      "source": [
        "rev"
      ],
      "metadata": {
        "colab": {
          "base_uri": "https://localhost:8080/"
        },
        "id": "zHzzHc1kbUHt",
        "outputId": "9ecfb4fc-4c02-44c8-ea7f-d26a11e6f03d"
      },
      "execution_count": null,
      "outputs": [
        {
          "output_type": "execute_result",
          "data": {
            "text/plain": [
              "4321"
            ]
          },
          "metadata": {},
          "execution_count": 9
        }
      ]
    },
    {
      "cell_type": "code",
      "source": [
        "xlist = []\n",
        "x =1234\n",
        "for i in str(x):\n",
        "  xlist.append(i)\n",
        "rev = xlist[::-1]\n",
        "rev"
      ],
      "metadata": {
        "colab": {
          "base_uri": "https://localhost:8080/"
        },
        "id": "pXKy8W7jbUEw",
        "outputId": "ce6fcf5c-6797-46dd-fe7a-741e86526484"
      },
      "execution_count": null,
      "outputs": [
        {
          "output_type": "execute_result",
          "data": {
            "text/plain": [
              "['4', '3', '2', '1']"
            ]
          },
          "metadata": {},
          "execution_count": 10
        }
      ]
    },
    {
      "cell_type": "code",
      "source": [
        "x=0\n",
        "for i in rev:\n",
        "  x = x*10 + int(i)\n",
        "x"
      ],
      "metadata": {
        "colab": {
          "base_uri": "https://localhost:8080/"
        },
        "id": "T-CZ3oq1bUBp",
        "outputId": "d89cca3f-530d-4452-b2ac-dfe7dec35ff1"
      },
      "execution_count": null,
      "outputs": [
        {
          "output_type": "execute_result",
          "data": {
            "text/plain": [
              "4321"
            ]
          },
          "metadata": {},
          "execution_count": 11
        }
      ]
    },
    {
      "cell_type": "code",
      "source": [],
      "metadata": {
        "id": "rn3vQqhbbT-6"
      },
      "execution_count": null,
      "outputs": []
    },
    {
      "cell_type": "markdown",
      "source": [
        "# Two eggs problem\n"
      ],
      "metadata": {
        "id": "8a4UCAtJM2T0"
      }
    },
    {
      "cell_type": "code",
      "source": [
        "def print_sol(mat):\n",
        "  for row in mat:\n",
        "    for cell in row:\n",
        "      print(cell, end=' ')\n",
        "    print('')"
      ],
      "metadata": {
        "id": "Za3ggq1LaQtP"
      },
      "execution_count": null,
      "outputs": []
    },
    {
      "cell_type": "code",
      "source": [
        "eggs =2\n",
        "floors =100\n",
        "dynamic_table = []\n",
        "for i in range(eggs+1):\n",
        "  dynamic_table.append([0]*(floors+1))\n",
        "print_sol(dynamic_table)"
      ],
      "metadata": {
        "colab": {
          "base_uri": "https://localhost:8080/"
        },
        "id": "UK4GopjlLQ51",
        "outputId": "ec3964c5-3f08-406d-a8e4-8cad98e8a2b0"
      },
      "execution_count": null,
      "outputs": [
        {
          "output_type": "stream",
          "name": "stdout",
          "text": [
            "0 0 0 0 0 0 0 0 0 0 0 0 0 0 0 0 0 0 0 0 0 0 0 0 0 0 0 0 0 0 0 0 0 0 0 0 0 0 0 0 0 0 0 0 0 0 0 0 0 0 0 0 0 0 0 0 0 0 0 0 0 0 0 0 0 0 0 0 0 0 0 0 0 0 0 0 0 0 0 0 0 0 0 0 0 0 0 0 0 0 0 0 0 0 0 0 0 0 0 0 0 \n",
            "0 0 0 0 0 0 0 0 0 0 0 0 0 0 0 0 0 0 0 0 0 0 0 0 0 0 0 0 0 0 0 0 0 0 0 0 0 0 0 0 0 0 0 0 0 0 0 0 0 0 0 0 0 0 0 0 0 0 0 0 0 0 0 0 0 0 0 0 0 0 0 0 0 0 0 0 0 0 0 0 0 0 0 0 0 0 0 0 0 0 0 0 0 0 0 0 0 0 0 0 0 \n",
            "0 0 0 0 0 0 0 0 0 0 0 0 0 0 0 0 0 0 0 0 0 0 0 0 0 0 0 0 0 0 0 0 0 0 0 0 0 0 0 0 0 0 0 0 0 0 0 0 0 0 0 0 0 0 0 0 0 0 0 0 0 0 0 0 0 0 0 0 0 0 0 0 0 0 0 0 0 0 0 0 0 0 0 0 0 0 0 0 0 0 0 0 0 0 0 0 0 0 0 0 0 \n"
          ]
        }
      ]
    },
    {
      "cell_type": "code",
      "source": [
        "# dynamic_table[0][0] = 1\n",
        "# dynamic_table[1][0] = 1\n",
        "print_sol(dynamic_table)"
      ],
      "metadata": {
        "colab": {
          "base_uri": "https://localhost:8080/"
        },
        "id": "llTkmTFKLQ1t",
        "outputId": "a3c6a2b1-bde6-4d5a-94a0-35450c566509"
      },
      "execution_count": null,
      "outputs": [
        {
          "output_type": "stream",
          "name": "stdout",
          "text": [
            "0 0 0 0 0 0 0 0 0 0 0 0 0 0 0 0 0 0 0 0 0 0 0 0 0 0 0 0 0 0 0 0 0 0 0 0 0 0 0 0 0 0 0 0 0 0 0 0 0 0 0 0 0 0 0 0 0 0 0 0 0 0 0 0 0 0 0 0 0 0 0 0 0 0 0 0 0 0 0 0 0 0 0 0 0 0 0 0 0 0 0 0 0 0 0 0 0 0 0 0 0 \n",
            "0 0 0 0 0 0 0 0 0 0 0 0 0 0 0 0 0 0 0 0 0 0 0 0 0 0 0 0 0 0 0 0 0 0 0 0 0 0 0 0 0 0 0 0 0 0 0 0 0 0 0 0 0 0 0 0 0 0 0 0 0 0 0 0 0 0 0 0 0 0 0 0 0 0 0 0 0 0 0 0 0 0 0 0 0 0 0 0 0 0 0 0 0 0 0 0 0 0 0 0 0 \n",
            "0 0 0 0 0 0 0 0 0 0 0 0 0 0 0 0 0 0 0 0 0 0 0 0 0 0 0 0 0 0 0 0 0 0 0 0 0 0 0 0 0 0 0 0 0 0 0 0 0 0 0 0 0 0 0 0 0 0 0 0 0 0 0 0 0 0 0 0 0 0 0 0 0 0 0 0 0 0 0 0 0 0 0 0 0 0 0 0 0 0 0 0 0 0 0 0 0 0 0 0 0 \n"
          ]
        }
      ]
    },
    {
      "cell_type": "code",
      "source": [
        "for i in range(floors+1):\n",
        "  dynamic_table[1][i] = i"
      ],
      "metadata": {
        "id": "18MONbhXLQx9"
      },
      "execution_count": null,
      "outputs": []
    },
    {
      "cell_type": "code",
      "source": [
        "print_sol(dynamic_table)"
      ],
      "metadata": {
        "colab": {
          "base_uri": "https://localhost:8080/"
        },
        "id": "zwsc28S3LQvB",
        "outputId": "44c1687c-1c46-4764-a730-9938e6e27656"
      },
      "execution_count": null,
      "outputs": [
        {
          "output_type": "stream",
          "name": "stdout",
          "text": [
            "0 0 0 0 0 0 0 0 0 0 0 0 0 0 0 0 0 0 0 0 0 0 0 0 0 0 0 0 0 0 0 0 0 0 0 0 0 0 0 0 0 0 0 0 0 0 0 0 0 0 0 0 0 0 0 0 0 0 0 0 0 0 0 0 0 0 0 0 0 0 0 0 0 0 0 0 0 0 0 0 0 0 0 0 0 0 0 0 0 0 0 0 0 0 0 0 0 0 0 0 0 \n",
            "0 1 2 3 4 5 6 7 8 9 10 11 12 13 14 15 16 17 18 19 20 21 22 23 24 25 26 27 28 29 30 31 32 33 34 35 36 37 38 39 40 41 42 43 44 45 46 47 48 49 50 51 52 53 54 55 56 57 58 59 60 61 62 63 64 65 66 67 68 69 70 71 72 73 74 75 76 77 78 79 80 81 82 83 84 85 86 87 88 89 90 91 92 93 94 95 96 97 98 99 100 \n",
            "0 0 0 0 0 0 0 0 0 0 0 0 0 0 0 0 0 0 0 0 0 0 0 0 0 0 0 0 0 0 0 0 0 0 0 0 0 0 0 0 0 0 0 0 0 0 0 0 0 0 0 0 0 0 0 0 0 0 0 0 0 0 0 0 0 0 0 0 0 0 0 0 0 0 0 0 0 0 0 0 0 0 0 0 0 0 0 0 0 0 0 0 0 0 0 0 0 0 0 0 0 \n"
          ]
        }
      ]
    },
    {
      "cell_type": "code",
      "source": [
        "for n in range(2,eggs+1):\n",
        "  for m in range(1,floors+1):\n",
        "    dynamic_table[n][m] = float('inf')\n",
        "    # now begin the main part\n",
        "    for x in range(1,m+1):\n",
        "      maxdrop = 1 + max(dynamic_table[n-1][x-1], dynamic_table[n][m-x])\n",
        "      if (maxdrop < dynamic_table[n][m]):\n",
        "        dynamic_table[n][m] = maxdrop"
      ],
      "metadata": {
        "id": "TRfDp4E2LQsL"
      },
      "execution_count": null,
      "outputs": []
    },
    {
      "cell_type": "code",
      "source": [
        "# for n in range(2,eggs+1):\n",
        "#   for m in range(1,floors+1):\n",
        "#     for x in range(1,m+1):\n",
        "#           maxdrop = 1 + max(dynamic_table[n-1][x-1], dynamic_table[n][m-x])\n",
        "#           if (maxdrop < dynamic_table[n][m]):\n",
        "#             dynamic_table[n][m] = maxdrop"
      ],
      "metadata": {
        "id": "yhsSqkJpvchm"
      },
      "execution_count": null,
      "outputs": []
    },
    {
      "cell_type": "code",
      "source": [
        "print_sol(dynamic_table)"
      ],
      "metadata": {
        "colab": {
          "base_uri": "https://localhost:8080/"
        },
        "id": "6K06AZ_kLQjM",
        "outputId": "eee60de8-bbf9-4aaa-e1f3-fe542b389bea"
      },
      "execution_count": null,
      "outputs": [
        {
          "output_type": "stream",
          "name": "stdout",
          "text": [
            "0 0 0 0 0 0 0 0 0 0 0 0 0 0 0 0 0 0 0 0 0 0 0 0 0 0 0 0 0 0 0 0 0 0 0 0 0 0 0 0 0 0 0 0 0 0 0 0 0 0 0 0 0 0 0 0 0 0 0 0 0 0 0 0 0 0 0 0 0 0 0 0 0 0 0 0 0 0 0 0 0 0 0 0 0 0 0 0 0 0 0 0 0 0 0 0 0 0 0 0 0 \n",
            "0 1 2 3 4 5 6 7 8 9 10 11 12 13 14 15 16 17 18 19 20 21 22 23 24 25 26 27 28 29 30 31 32 33 34 35 36 37 38 39 40 41 42 43 44 45 46 47 48 49 50 51 52 53 54 55 56 57 58 59 60 61 62 63 64 65 66 67 68 69 70 71 72 73 74 75 76 77 78 79 80 81 82 83 84 85 86 87 88 89 90 91 92 93 94 95 96 97 98 99 100 \n",
            "0 1 2 2 3 3 3 4 4 4 4 5 5 5 5 5 6 6 6 6 6 6 7 7 7 7 7 7 7 8 8 8 8 8 8 8 8 9 9 9 9 9 9 9 9 9 10 10 10 10 10 10 10 10 10 10 11 11 11 11 11 11 11 11 11 11 11 12 12 12 12 12 12 12 12 12 12 12 12 13 13 13 13 13 13 13 13 13 13 13 13 13 14 14 14 14 14 14 14 14 14 \n"
          ]
        }
      ]
    },
    {
      "cell_type": "code",
      "source": [
        "print(dynamic_table[eggs][floors])"
      ],
      "metadata": {
        "colab": {
          "base_uri": "https://localhost:8080/"
        },
        "id": "9uqVxQKnLQdN",
        "outputId": "730d285d-71c3-4801-a1bd-49598f52360b"
      },
      "execution_count": null,
      "outputs": [
        {
          "output_type": "stream",
          "name": "stdout",
          "text": [
            "14\n"
          ]
        }
      ]
    },
    {
      "cell_type": "code",
      "source": [],
      "metadata": {
        "id": "DmLjKkwN74WN"
      },
      "execution_count": null,
      "outputs": []
    },
    {
      "cell_type": "markdown",
      "source": [
        "# Duplicates in a list\n"
      ],
      "metadata": {
        "id": "iW3GDC0P744Y"
      }
    },
    {
      "cell_type": "code",
      "source": [
        "ar = [2,3,1,2,4,3]"
      ],
      "metadata": {
        "id": "jllLJlOSLQaH"
      },
      "execution_count": null,
      "outputs": []
    },
    {
      "cell_type": "code",
      "source": [
        "for l in ar:\n",
        "  print(ar.count(l))"
      ],
      "metadata": {
        "colab": {
          "base_uri": "https://localhost:8080/"
        },
        "id": "217lViVKLQW3",
        "outputId": "0b2efe8f-9aa4-4ec5-e22b-a872ba49580f"
      },
      "execution_count": null,
      "outputs": [
        {
          "output_type": "stream",
          "name": "stdout",
          "text": [
            "2\n",
            "2\n",
            "1\n",
            "2\n",
            "1\n",
            "2\n"
          ]
        }
      ]
    },
    {
      "cell_type": "code",
      "source": [
        "# its complexity is N^2\n",
        "for i in range(len(ar)):\n",
        "  for j in range(i+1,len(ar)):\n",
        "    if (ar[i] == ar[j]):\n",
        "      print(ar[i])"
      ],
      "metadata": {
        "colab": {
          "base_uri": "https://localhost:8080/"
        },
        "id": "SSi-nRiWLQTY",
        "outputId": "2ebe884c-36ec-48d8-a20c-4d5047651d97"
      },
      "execution_count": null,
      "outputs": [
        {
          "output_type": "stream",
          "name": "stdout",
          "text": [
            "2\n",
            "3\n"
          ]
        }
      ]
    },
    {
      "cell_type": "code",
      "source": [
        "# its complexity is N\n",
        "for i in range(len(ar)):\n",
        "  if(ar[abs(ar[i])] >0):\n",
        "    ar[abs(ar[i])] = -ar[abs(ar[i])]\n",
        "  else:\n",
        "    print(abs(ar[i]), 'is a duplicate')"
      ],
      "metadata": {
        "colab": {
          "base_uri": "https://localhost:8080/"
        },
        "id": "HBrLJ4gDLQQS",
        "outputId": "332f7a1b-5833-451d-93f4-9b486a4a58a3"
      },
      "execution_count": null,
      "outputs": [
        {
          "output_type": "stream",
          "name": "stdout",
          "text": [
            "2 is a duplicate\n",
            "3 is a duplicate\n"
          ]
        }
      ]
    },
    {
      "cell_type": "code",
      "source": [],
      "metadata": {
        "id": "-1xL6h8cLQNc"
      },
      "execution_count": null,
      "outputs": []
    },
    {
      "cell_type": "markdown",
      "source": [
        "# Anagram\n"
      ],
      "metadata": {
        "id": "UJoxvaFj94Pu"
      }
    },
    {
      "cell_type": "code",
      "source": [
        "word1 = 'restful'\n",
        "word2 = 'fluster'"
      ],
      "metadata": {
        "id": "9kyjx3thLQIc"
      },
      "execution_count": null,
      "outputs": []
    },
    {
      "cell_type": "code",
      "source": [
        "sorted(word1)"
      ],
      "metadata": {
        "colab": {
          "base_uri": "https://localhost:8080/"
        },
        "id": "dxUwCiNaLQEq",
        "outputId": "8e382f6a-dfe8-44e0-af2e-2d6961709347"
      },
      "execution_count": null,
      "outputs": [
        {
          "output_type": "execute_result",
          "data": {
            "text/plain": [
              "['e', 'f', 'l', 'r', 's', 't', 'u']"
            ]
          },
          "metadata": {},
          "execution_count": 5
        }
      ]
    },
    {
      "cell_type": "code",
      "source": [
        "sorted(word2)"
      ],
      "metadata": {
        "colab": {
          "base_uri": "https://localhost:8080/"
        },
        "id": "eGZ_s0CZLQCO",
        "outputId": "77b7e78a-ffce-4897-ee9f-316e32224a19"
      },
      "execution_count": null,
      "outputs": [
        {
          "output_type": "execute_result",
          "data": {
            "text/plain": [
              "['e', 'f', 'l', 'r', 's', 't', 'u']"
            ]
          },
          "metadata": {},
          "execution_count": 6
        }
      ]
    },
    {
      "cell_type": "code",
      "source": [
        "if sorted(word1) == sorted(word2):\n",
        "  print('yes')\n",
        "else:\n",
        "  print('no')"
      ],
      "metadata": {
        "colab": {
          "base_uri": "https://localhost:8080/"
        },
        "id": "arNzLOeoLP-u",
        "outputId": "73428c31-e0bc-4b43-be73-66b78cf0ff66"
      },
      "execution_count": null,
      "outputs": [
        {
          "output_type": "stream",
          "name": "stdout",
          "text": [
            "yes\n"
          ]
        }
      ]
    },
    {
      "cell_type": "code",
      "source": [],
      "metadata": {
        "id": "jgEZVNFNLP8H"
      },
      "execution_count": null,
      "outputs": []
    },
    {
      "cell_type": "markdown",
      "source": [
        "# Dutch National Flag Problem\n"
      ],
      "metadata": {
        "id": "8rrp-jh9LCAb"
      }
    },
    {
      "cell_type": "code",
      "source": [
        "nums = [2,2,1,1,0,0,1,1]"
      ],
      "metadata": {
        "id": "cGuJOlSMLIY5"
      },
      "execution_count": null,
      "outputs": []
    },
    {
      "cell_type": "code",
      "source": [
        "def swap(i1, i2):\n",
        "  temp = nums[i1]\n",
        "  nums[i1] = nums[i2]\n",
        "  nums[i2] = temp\n"
      ],
      "metadata": {
        "id": "v76n04-bLIVz"
      },
      "execution_count": null,
      "outputs": []
    },
    {
      "cell_type": "code",
      "source": [
        "def solve():\n",
        "  pivot = 1\n",
        "  i = 0\n",
        "  j = 0\n",
        "  k = len(nums)-1\n",
        "  while(j<=k):\n",
        "    if(nums[j] < pivot):\n",
        "      swap(i,j)\n",
        "      i += 1\n",
        "      j += 1\n",
        "    elif(nums[j] > pivot):\n",
        "      swap(j,k)\n",
        "      k -= 1\n",
        "    else:\n",
        "      j += 1\n"
      ],
      "metadata": {
        "id": "Ad6BxffOLISp"
      },
      "execution_count": null,
      "outputs": []
    },
    {
      "cell_type": "code",
      "source": [
        "solve()"
      ],
      "metadata": {
        "id": "Wktu0F3sLIPi"
      },
      "execution_count": null,
      "outputs": []
    },
    {
      "cell_type": "code",
      "source": [
        "nums"
      ],
      "metadata": {
        "colab": {
          "base_uri": "https://localhost:8080/"
        },
        "id": "C0BzgDwiLIMT",
        "outputId": "dfd4a2e7-3f5d-4ae0-9549-312656dab1ea"
      },
      "execution_count": null,
      "outputs": [
        {
          "output_type": "execute_result",
          "data": {
            "text/plain": [
              "[0, 0, 1, 1, 1, 1, 2, 2]"
            ]
          },
          "metadata": {},
          "execution_count": 5
        }
      ]
    },
    {
      "cell_type": "code",
      "source": [],
      "metadata": {
        "id": "h0USxcnMLIJI"
      },
      "execution_count": null,
      "outputs": []
    },
    {
      "cell_type": "markdown",
      "source": [
        "# Traping rainwater problem"
      ],
      "metadata": {
        "id": "Q8WNclyQO8W_"
      }
    },
    {
      "cell_type": "code",
      "source": [
        "heights = [1,0,2,1,3,1,2,0,3]\n",
        "heights = [2,1,3,1,4]\n",
        "heights = [4,1,3,1,5]"
      ],
      "metadata": {
        "id": "t5jUU2hFLIF5"
      },
      "execution_count": null,
      "outputs": []
    },
    {
      "cell_type": "code",
      "source": [
        "def solve(heights):\n",
        "  # for 2 hgiven heights water cannot be trapped\n",
        "  if len(heights) <= 2:\n",
        "    return 0\n",
        "  # get left and right max in O(n)\n",
        "  leftmax = [0] * len(heights)\n",
        "  rightmax = [0] * len(heights)\n",
        "\n",
        "  for i in range(1,len(heights)):\n",
        "    leftmax[i] = max(leftmax[i-1], heights[i-1])\n",
        "\n",
        "  for i in range(len(heights)-2,-1,-1):\n",
        "    rightmax[i] = max(rightmax[i+1], heights[i+1])\n",
        "\n",
        "  # now get trapped water\n",
        "  trapped = 0\n",
        "  for i in range(1,len(heights)-1):\n",
        "    if(min(leftmax[i], rightmax[i]) > heights[i]):\n",
        "      trapped += min(leftmax[i], rightmax[i]) - heights[i]\n",
        "  return trapped"
      ],
      "metadata": {
        "id": "K9l-TydMLIC3"
      },
      "execution_count": null,
      "outputs": []
    },
    {
      "cell_type": "code",
      "source": [
        "solve(heights)"
      ],
      "metadata": {
        "colab": {
          "base_uri": "https://localhost:8080/"
        },
        "id": "3xbOUDZqLH_z",
        "outputId": "c48fcb91-0ae6-4946-902c-e92c28e7a690"
      },
      "execution_count": null,
      "outputs": [
        {
          "output_type": "execute_result",
          "data": {
            "text/plain": [
              "7"
            ]
          },
          "metadata": {},
          "execution_count": 13
        }
      ]
    },
    {
      "cell_type": "code",
      "source": [],
      "metadata": {
        "id": "EeTiumaNLH8o"
      },
      "execution_count": null,
      "outputs": []
    },
    {
      "cell_type": "code",
      "source": [],
      "metadata": {
        "id": "oKuCYzg9LH2U"
      },
      "execution_count": null,
      "outputs": []
    },
    {
      "cell_type": "code",
      "source": [],
      "metadata": {
        "id": "566EiPDMLHzB"
      },
      "execution_count": null,
      "outputs": []
    },
    {
      "cell_type": "code",
      "source": [],
      "metadata": {
        "id": "GVMHJTBULHvz"
      },
      "execution_count": null,
      "outputs": []
    },
    {
      "cell_type": "code",
      "source": [],
      "metadata": {
        "id": "LZOn1e5wLHsZ"
      },
      "execution_count": null,
      "outputs": []
    },
    {
      "cell_type": "code",
      "source": [],
      "metadata": {
        "id": "Bi4q0fo1LHpL"
      },
      "execution_count": null,
      "outputs": []
    },
    {
      "cell_type": "code",
      "source": [],
      "metadata": {
        "id": "m-IwrJmPLHlh"
      },
      "execution_count": null,
      "outputs": []
    },
    {
      "cell_type": "code",
      "source": [],
      "metadata": {
        "id": "UjCEBd4rLHia"
      },
      "execution_count": null,
      "outputs": []
    },
    {
      "cell_type": "code",
      "source": [],
      "metadata": {
        "id": "LJRdyVuMLHfA"
      },
      "execution_count": null,
      "outputs": []
    },
    {
      "cell_type": "code",
      "source": [],
      "metadata": {
        "id": "bnUCTI00LP5Y"
      },
      "execution_count": null,
      "outputs": []
    },
    {
      "cell_type": "code",
      "source": [],
      "metadata": {
        "id": "GvlDc8dxLP2p"
      },
      "execution_count": null,
      "outputs": []
    },
    {
      "cell_type": "code",
      "source": [],
      "metadata": {
        "id": "O49xGWoELP0I"
      },
      "execution_count": null,
      "outputs": []
    },
    {
      "cell_type": "code",
      "source": [],
      "metadata": {
        "id": "fH8zwWuWLPw8"
      },
      "execution_count": null,
      "outputs": []
    },
    {
      "cell_type": "code",
      "source": [],
      "metadata": {
        "id": "e97CxrCJLPuG"
      },
      "execution_count": null,
      "outputs": []
    },
    {
      "cell_type": "code",
      "source": [],
      "metadata": {
        "id": "DkcD7noh6Fbt"
      },
      "execution_count": null,
      "outputs": []
    },
    {
      "cell_type": "code",
      "source": [],
      "metadata": {
        "id": "U93xQy20m2cY"
      },
      "execution_count": null,
      "outputs": []
    }
  ]
}